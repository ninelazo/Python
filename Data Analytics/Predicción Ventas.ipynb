{
 "cells": [
  {
   "cell_type": "markdown",
   "id": "20e5b6a6",
   "metadata": {},
   "source": [
    "### Librerías"
   ]
  },
  {
   "cell_type": "code",
   "execution_count": 1,
   "id": "1bbe163b",
   "metadata": {},
   "outputs": [],
   "source": [
    "import pandas as pd\n",
    "import numpy as np\n",
    "import matplotlib.pyplot as plt\n",
    "import seaborn as sns"
   ]
  },
  {
   "cell_type": "markdown",
   "id": "17283740",
   "metadata": {},
   "source": [
    "### Carga de los datos"
   ]
  },
  {
   "cell_type": "code",
   "execution_count": 2,
   "id": "8ea666ef",
   "metadata": {},
   "outputs": [],
   "source": [
    "store = pd.read_csv(\"store.csv\")\n",
    "train = pd.read_csv(\"train.csv\", dtype={\"StateHoliday\":\"str\"})\n",
    "test = pd.read_csv(\"test.csv\")"
   ]
  },
  {
   "cell_type": "markdown",
   "id": "7b8f2274",
   "metadata": {},
   "source": [
    "### Análisis y limpieza de los datos Dataset 'store' y 'train'"
   ]
  },
  {
   "cell_type": "code",
   "execution_count": 3,
   "id": "df96d450",
   "metadata": {},
   "outputs": [
    {
     "data": {
      "text/html": [
       "<div>\n",
       "<style scoped>\n",
       "    .dataframe tbody tr th:only-of-type {\n",
       "        vertical-align: middle;\n",
       "    }\n",
       "\n",
       "    .dataframe tbody tr th {\n",
       "        vertical-align: top;\n",
       "    }\n",
       "\n",
       "    .dataframe thead th {\n",
       "        text-align: right;\n",
       "    }\n",
       "</style>\n",
       "<table border=\"1\" class=\"dataframe\">\n",
       "  <thead>\n",
       "    <tr style=\"text-align: right;\">\n",
       "      <th></th>\n",
       "      <th>Store</th>\n",
       "      <th>StoreType</th>\n",
       "      <th>Assortment</th>\n",
       "      <th>CompetitionDistance</th>\n",
       "      <th>CompetitionOpenSinceMonth</th>\n",
       "      <th>CompetitionOpenSinceYear</th>\n",
       "      <th>Promo2</th>\n",
       "      <th>Promo2SinceWeek</th>\n",
       "      <th>Promo2SinceYear</th>\n",
       "      <th>PromoInterval</th>\n",
       "      <th>DayOfWeek</th>\n",
       "      <th>Date</th>\n",
       "      <th>Sales</th>\n",
       "      <th>Customers</th>\n",
       "      <th>Open</th>\n",
       "      <th>Promo</th>\n",
       "      <th>StateHoliday</th>\n",
       "      <th>SchoolHoliday</th>\n",
       "    </tr>\n",
       "  </thead>\n",
       "  <tbody>\n",
       "    <tr>\n",
       "      <th>0</th>\n",
       "      <td>1</td>\n",
       "      <td>c</td>\n",
       "      <td>a</td>\n",
       "      <td>1270.0</td>\n",
       "      <td>9.0</td>\n",
       "      <td>2008.0</td>\n",
       "      <td>0</td>\n",
       "      <td>NaN</td>\n",
       "      <td>NaN</td>\n",
       "      <td>NaN</td>\n",
       "      <td>5</td>\n",
       "      <td>2015-07-31</td>\n",
       "      <td>5263</td>\n",
       "      <td>555</td>\n",
       "      <td>1</td>\n",
       "      <td>1</td>\n",
       "      <td>0</td>\n",
       "      <td>1</td>\n",
       "    </tr>\n",
       "    <tr>\n",
       "      <th>1</th>\n",
       "      <td>1</td>\n",
       "      <td>c</td>\n",
       "      <td>a</td>\n",
       "      <td>1270.0</td>\n",
       "      <td>9.0</td>\n",
       "      <td>2008.0</td>\n",
       "      <td>0</td>\n",
       "      <td>NaN</td>\n",
       "      <td>NaN</td>\n",
       "      <td>NaN</td>\n",
       "      <td>4</td>\n",
       "      <td>2015-07-30</td>\n",
       "      <td>5020</td>\n",
       "      <td>546</td>\n",
       "      <td>1</td>\n",
       "      <td>1</td>\n",
       "      <td>0</td>\n",
       "      <td>1</td>\n",
       "    </tr>\n",
       "    <tr>\n",
       "      <th>2</th>\n",
       "      <td>1</td>\n",
       "      <td>c</td>\n",
       "      <td>a</td>\n",
       "      <td>1270.0</td>\n",
       "      <td>9.0</td>\n",
       "      <td>2008.0</td>\n",
       "      <td>0</td>\n",
       "      <td>NaN</td>\n",
       "      <td>NaN</td>\n",
       "      <td>NaN</td>\n",
       "      <td>3</td>\n",
       "      <td>2015-07-29</td>\n",
       "      <td>4782</td>\n",
       "      <td>523</td>\n",
       "      <td>1</td>\n",
       "      <td>1</td>\n",
       "      <td>0</td>\n",
       "      <td>1</td>\n",
       "    </tr>\n",
       "    <tr>\n",
       "      <th>3</th>\n",
       "      <td>1</td>\n",
       "      <td>c</td>\n",
       "      <td>a</td>\n",
       "      <td>1270.0</td>\n",
       "      <td>9.0</td>\n",
       "      <td>2008.0</td>\n",
       "      <td>0</td>\n",
       "      <td>NaN</td>\n",
       "      <td>NaN</td>\n",
       "      <td>NaN</td>\n",
       "      <td>2</td>\n",
       "      <td>2015-07-28</td>\n",
       "      <td>5011</td>\n",
       "      <td>560</td>\n",
       "      <td>1</td>\n",
       "      <td>1</td>\n",
       "      <td>0</td>\n",
       "      <td>1</td>\n",
       "    </tr>\n",
       "    <tr>\n",
       "      <th>4</th>\n",
       "      <td>1</td>\n",
       "      <td>c</td>\n",
       "      <td>a</td>\n",
       "      <td>1270.0</td>\n",
       "      <td>9.0</td>\n",
       "      <td>2008.0</td>\n",
       "      <td>0</td>\n",
       "      <td>NaN</td>\n",
       "      <td>NaN</td>\n",
       "      <td>NaN</td>\n",
       "      <td>1</td>\n",
       "      <td>2015-07-27</td>\n",
       "      <td>6102</td>\n",
       "      <td>612</td>\n",
       "      <td>1</td>\n",
       "      <td>1</td>\n",
       "      <td>0</td>\n",
       "      <td>1</td>\n",
       "    </tr>\n",
       "  </tbody>\n",
       "</table>\n",
       "</div>"
      ],
      "text/plain": [
       "   Store StoreType Assortment  CompetitionDistance  CompetitionOpenSinceMonth  \\\n",
       "0      1         c          a               1270.0                        9.0   \n",
       "1      1         c          a               1270.0                        9.0   \n",
       "2      1         c          a               1270.0                        9.0   \n",
       "3      1         c          a               1270.0                        9.0   \n",
       "4      1         c          a               1270.0                        9.0   \n",
       "\n",
       "   CompetitionOpenSinceYear  Promo2  Promo2SinceWeek  Promo2SinceYear  \\\n",
       "0                    2008.0       0              NaN              NaN   \n",
       "1                    2008.0       0              NaN              NaN   \n",
       "2                    2008.0       0              NaN              NaN   \n",
       "3                    2008.0       0              NaN              NaN   \n",
       "4                    2008.0       0              NaN              NaN   \n",
       "\n",
       "  PromoInterval  DayOfWeek        Date  Sales  Customers  Open  Promo  \\\n",
       "0           NaN          5  2015-07-31   5263        555     1      1   \n",
       "1           NaN          4  2015-07-30   5020        546     1      1   \n",
       "2           NaN          3  2015-07-29   4782        523     1      1   \n",
       "3           NaN          2  2015-07-28   5011        560     1      1   \n",
       "4           NaN          1  2015-07-27   6102        612     1      1   \n",
       "\n",
       "  StateHoliday  SchoolHoliday  \n",
       "0            0              1  \n",
       "1            0              1  \n",
       "2            0              1  \n",
       "3            0              1  \n",
       "4            0              1  "
      ]
     },
     "execution_count": 3,
     "metadata": {},
     "output_type": "execute_result"
    }
   ],
   "source": [
    "# Unimos la tabla store y train\n",
    "\n",
    "df = pd.merge(store, train)\n",
    "df.head()"
   ]
  },
  {
   "cell_type": "code",
   "execution_count": 4,
   "id": "eb532a1f",
   "metadata": {},
   "outputs": [
    {
     "name": "stdout",
     "output_type": "stream",
     "text": [
      "<class 'pandas.core.frame.DataFrame'>\n",
      "Int64Index: 1017209 entries, 0 to 1017208\n",
      "Data columns (total 18 columns):\n",
      " #   Column                     Non-Null Count    Dtype  \n",
      "---  ------                     --------------    -----  \n",
      " 0   Store                      1017209 non-null  int64  \n",
      " 1   StoreType                  1017209 non-null  object \n",
      " 2   Assortment                 1017209 non-null  object \n",
      " 3   CompetitionDistance        1014567 non-null  float64\n",
      " 4   CompetitionOpenSinceMonth  693861 non-null   float64\n",
      " 5   CompetitionOpenSinceYear   693861 non-null   float64\n",
      " 6   Promo2                     1017209 non-null  int64  \n",
      " 7   Promo2SinceWeek            509178 non-null   float64\n",
      " 8   Promo2SinceYear            509178 non-null   float64\n",
      " 9   PromoInterval              509178 non-null   object \n",
      " 10  DayOfWeek                  1017209 non-null  int64  \n",
      " 11  Date                       1017209 non-null  object \n",
      " 12  Sales                      1017209 non-null  int64  \n",
      " 13  Customers                  1017209 non-null  int64  \n",
      " 14  Open                       1017209 non-null  int64  \n",
      " 15  Promo                      1017209 non-null  int64  \n",
      " 16  StateHoliday               1017209 non-null  object \n",
      " 17  SchoolHoliday              1017209 non-null  int64  \n",
      "dtypes: float64(5), int64(8), object(5)\n",
      "memory usage: 147.5+ MB\n"
     ]
    }
   ],
   "source": [
    "df.info()"
   ]
  },
  {
   "cell_type": "code",
   "execution_count": 5,
   "id": "cb2b9147",
   "metadata": {},
   "outputs": [
    {
     "data": {
      "text/plain": [
       "(1017209, 18)"
      ]
     },
     "execution_count": 5,
     "metadata": {},
     "output_type": "execute_result"
    }
   ],
   "source": [
    "df.shape"
   ]
  },
  {
   "cell_type": "code",
   "execution_count": 6,
   "id": "240fb837",
   "metadata": {},
   "outputs": [],
   "source": [
    "# Convertimos la columna \"Date\" a formato datetime\n",
    "df[\"Date\"] = pd.to_datetime(df[\"Date\"])"
   ]
  },
  {
   "cell_type": "markdown",
   "id": "52deec47",
   "metadata": {},
   "source": [
    "###### Valores atípicos"
   ]
  },
  {
   "cell_type": "code",
   "execution_count": 7,
   "id": "6301cc07",
   "metadata": {},
   "outputs": [
    {
     "data": {
      "text/plain": [
       "<Axes: >"
      ]
     },
     "execution_count": 7,
     "metadata": {},
     "output_type": "execute_result"
    },
    {
     "data": {
      "image/png": "[encoded data removed]",
      "text/plain": [
       "<Figure size 640x480 with 1 Axes>"
      ]
     },
     "metadata": {},
     "output_type": "display_data"
    }
   ],
   "source": [
    "sns.boxplot(df[\"CompetitionDistance\"])"
   ]
  },
  {
   "cell_type": "code",
   "execution_count": 8,
   "id": "31bc0cf8",
   "metadata": {},
   "outputs": [],
   "source": [
    "# Eliminamos valores atipicos de la columnna CompetitionDistance\n",
    "\n",
    "_ = df[df[\"CompetitionDistance\"] > 30000].index.tolist()\n",
    "df.drop(_, axis=0, inplace=True)"
   ]
  },
  {
   "cell_type": "code",
   "execution_count": 9,
   "id": "19882de8",
   "metadata": {},
   "outputs": [
    {
     "data": {
      "text/plain": [
       "(999311, 18)"
      ]
     },
     "execution_count": 9,
     "metadata": {},
     "output_type": "execute_result"
    }
   ],
   "source": [
    "df.shape"
   ]
  },
  {
   "cell_type": "code",
   "execution_count": 10,
   "id": "4c59ed99",
   "metadata": {},
   "outputs": [
    {
     "data": {
      "text/plain": [
       "<Axes: >"
      ]
     },
     "execution_count": 10,
     "metadata": {},
     "output_type": "execute_result"
    },
    {
     "data": {
      "image/png": "[encoded data removed]",
      "text/plain": [
       "<Figure size 640x480 with 1 Axes>"
      ]
     },
     "metadata": {},
     "output_type": "display_data"
    }
   ],
   "source": [
    "sns.boxplot(df[\"Sales\"])"
   ]
  },
  {
   "cell_type": "code",
   "execution_count": 11,
   "id": "f27cd8e2",
   "metadata": {},
   "outputs": [],
   "source": [
    "# Eliminamos valores atipicos de la columnna sales\n",
    "\n",
    "_ = df[df[\"Sales\"] > 30000].index.tolist()\n",
    "df.drop(_, axis=0, inplace=True)"
   ]
  },
  {
   "cell_type": "code",
   "execution_count": 12,
   "id": "794050b6",
   "metadata": {},
   "outputs": [
    {
     "data": {
      "text/plain": [
       "(999159, 18)"
      ]
     },
     "execution_count": 12,
     "metadata": {},
     "output_type": "execute_result"
    }
   ],
   "source": [
    "df.shape"
   ]
  },
  {
   "cell_type": "code",
   "execution_count": 13,
   "id": "e8aa9626",
   "metadata": {},
   "outputs": [
    {
     "data": {
      "text/plain": [
       "<Axes: >"
      ]
     },
     "execution_count": 13,
     "metadata": {},
     "output_type": "execute_result"
    },
    {
     "data": {
      "image/png": "[encoded data removed]",
      "text/plain": [
       "<Figure size 640x480 with 1 Axes>"
      ]
     },
     "metadata": {},
     "output_type": "display_data"
    }
   ],
   "source": [
    "sns.violinplot(df[\"Customers\"])"
   ]
  },
  {
   "cell_type": "code",
   "execution_count": 14,
   "id": "2546f2e2",
   "metadata": {},
   "outputs": [],
   "source": [
    "# Eliminamos valores atipicos de la columnna customers\n",
    "\n",
    "_ = df[df[\"Customers\"] > 2000].index.tolist()\n",
    "df.drop(_, axis=0, inplace=True)"
   ]
  },
  {
   "cell_type": "code",
   "execution_count": 15,
   "id": "5d07fa84",
   "metadata": {},
   "outputs": [
    {
     "data": {
      "text/plain": [
       "(984573, 18)"
      ]
     },
     "execution_count": 15,
     "metadata": {},
     "output_type": "execute_result"
    }
   ],
   "source": [
    "df.shape"
   ]
  },
  {
   "cell_type": "code",
   "execution_count": 16,
   "id": "108e3e57",
   "metadata": {},
   "outputs": [
    {
     "data": {
      "text/plain": [
       "Store                             0\n",
       "StoreType                         0\n",
       "Assortment                        0\n",
       "CompetitionDistance            2642\n",
       "CompetitionOpenSinceMonth    314856\n",
       "CompetitionOpenSinceYear     314856\n",
       "Promo2                            0\n",
       "Promo2SinceWeek              478225\n",
       "Promo2SinceYear              478225\n",
       "PromoInterval                478225\n",
       "DayOfWeek                         0\n",
       "Date                              0\n",
       "Sales                             0\n",
       "Customers                         0\n",
       "Open                              0\n",
       "Promo                             0\n",
       "StateHoliday                      0\n",
       "SchoolHoliday                     0\n",
       "dtype: int64"
      ]
     },
     "execution_count": 16,
     "metadata": {},
     "output_type": "execute_result"
    }
   ],
   "source": [
    "# Comprobamos valores nulos\n",
    "df.isna().sum()"
   ]
  },
  {
   "cell_type": "markdown",
   "id": "c711af9c",
   "metadata": {},
   "source": [
    "##### Rellenamos los valores nulos"
   ]
  },
  {
   "cell_type": "code",
   "execution_count": 17,
   "id": "93741c80",
   "metadata": {},
   "outputs": [],
   "source": [
    "# Competition Distance\n",
    "df[\"CompetitionDistance\"] = df[\"CompetitionDistance\"].fillna(150000.0)"
   ]
  },
  {
   "cell_type": "code",
   "execution_count": 18,
   "id": "67331e16",
   "metadata": {},
   "outputs": [],
   "source": [
    "# CompetitionOpenSinceMonth\n",
    "df[\"CompetitionOpenSinceMonth\"] = df.apply(lambda x: 0 if np.isnan(x[\"CompetitionOpenSinceMonth\"]) else x[\"CompetitionOpenSinceMonth\"], axis=1)"
   ]
  },
  {
   "cell_type": "code",
   "execution_count": 19,
   "id": "d4d5a4ec",
   "metadata": {},
   "outputs": [],
   "source": [
    "# CompetitionOpenSinceYear\n",
    "df[\"CompetitionOpenSinceYear\"] = df.apply(lambda x: 0 if np.isnan(x[\"CompetitionOpenSinceYear\"]) else x[\"CompetitionOpenSinceYear\"], axis=1)"
   ]
  },
  {
   "cell_type": "code",
   "execution_count": 20,
   "id": "081c6f4e",
   "metadata": {},
   "outputs": [],
   "source": [
    "# Promo2SinceWeek\n",
    "df[\"Promo2SinceWeek\"] = df.apply(lambda x: 0 if np.isnan(x[\"Promo2SinceWeek\"]) else x[\"Promo2SinceWeek\"], axis=1) "
   ]
  },
  {
   "cell_type": "code",
   "execution_count": 21,
   "id": "e7be3728",
   "metadata": {},
   "outputs": [],
   "source": [
    "# Promo2SinceYear\n",
    "df[\"Promo2SinceYear\"] = df.apply(lambda x: 0 if np.isnan(x[\"Promo2SinceYear\"]) else x[\"Promo2SinceYear\"], axis=1)"
   ]
  },
  {
   "cell_type": "code",
   "execution_count": 22,
   "id": "15b7a534",
   "metadata": {},
   "outputs": [],
   "source": [
    "# promo_interval\n",
    "month_map = {1: \"Jan\", 2: \"Fev\", 3: \"Mar\", 4: \"Apr\", 5: \"May\", 6: \"Jun\", 7: \"Jul\", 8: \"Aug\", 9: \"Sep\", 10: \"Oct\", 11: \"Nov\", 12: \"Dec\"}\n",
    "\n",
    "df[\"PromoInterval\"].fillna(0, inplace=True)\n",
    "\n",
    "# Creamos una nueva variable para definir el mes en el que empieza la promoción\n",
    "df[\"month_map\"] = df[\"Date\"].dt.month.map(month_map)\n",
    "\n",
    "# Creamos una variable que nos indica si el mes seleccionado tenia aplicada una promocion\n",
    "df[\"is_promo\"] = df[[\"PromoInterval\", \"month_map\"]].apply(lambda x: 0 if x[\"PromoInterval\"] == 0 else 1 if x[\"month_map\"] in x[\"PromoInterval\"].split(\",\") else 0, axis=1)"
   ]
  },
  {
   "cell_type": "code",
   "execution_count": 23,
   "id": "c8f2aac3",
   "metadata": {},
   "outputs": [
    {
     "data": {
      "text/html": [
       "<div>\n",
       "<style scoped>\n",
       "    .dataframe tbody tr th:only-of-type {\n",
       "        vertical-align: middle;\n",
       "    }\n",
       "\n",
       "    .dataframe tbody tr th {\n",
       "        vertical-align: top;\n",
       "    }\n",
       "\n",
       "    .dataframe thead th {\n",
       "        text-align: right;\n",
       "    }\n",
       "</style>\n",
       "<table border=\"1\" class=\"dataframe\">\n",
       "  <thead>\n",
       "    <tr style=\"text-align: right;\">\n",
       "      <th></th>\n",
       "      <th>Store</th>\n",
       "      <th>StoreType</th>\n",
       "      <th>Assortment</th>\n",
       "      <th>CompetitionDistance</th>\n",
       "      <th>CompetitionOpenSinceMonth</th>\n",
       "      <th>CompetitionOpenSinceYear</th>\n",
       "      <th>Promo2</th>\n",
       "      <th>Promo2SinceWeek</th>\n",
       "      <th>Promo2SinceYear</th>\n",
       "      <th>PromoInterval</th>\n",
       "      <th>DayOfWeek</th>\n",
       "      <th>Date</th>\n",
       "      <th>Sales</th>\n",
       "      <th>Customers</th>\n",
       "      <th>Open</th>\n",
       "      <th>Promo</th>\n",
       "      <th>StateHoliday</th>\n",
       "      <th>SchoolHoliday</th>\n",
       "      <th>month_map</th>\n",
       "      <th>is_promo</th>\n",
       "    </tr>\n",
       "  </thead>\n",
       "  <tbody>\n",
       "    <tr>\n",
       "      <th>0</th>\n",
       "      <td>1</td>\n",
       "      <td>c</td>\n",
       "      <td>a</td>\n",
       "      <td>1270.0</td>\n",
       "      <td>9.0</td>\n",
       "      <td>2008.0</td>\n",
       "      <td>0</td>\n",
       "      <td>0.0</td>\n",
       "      <td>0.0</td>\n",
       "      <td>0</td>\n",
       "      <td>5</td>\n",
       "      <td>2015-07-31</td>\n",
       "      <td>5263</td>\n",
       "      <td>555</td>\n",
       "      <td>1</td>\n",
       "      <td>1</td>\n",
       "      <td>0</td>\n",
       "      <td>1</td>\n",
       "      <td>Jul</td>\n",
       "      <td>0</td>\n",
       "    </tr>\n",
       "    <tr>\n",
       "      <th>1</th>\n",
       "      <td>1</td>\n",
       "      <td>c</td>\n",
       "      <td>a</td>\n",
       "      <td>1270.0</td>\n",
       "      <td>9.0</td>\n",
       "      <td>2008.0</td>\n",
       "      <td>0</td>\n",
       "      <td>0.0</td>\n",
       "      <td>0.0</td>\n",
       "      <td>0</td>\n",
       "      <td>4</td>\n",
       "      <td>2015-07-30</td>\n",
       "      <td>5020</td>\n",
       "      <td>546</td>\n",
       "      <td>1</td>\n",
       "      <td>1</td>\n",
       "      <td>0</td>\n",
       "      <td>1</td>\n",
       "      <td>Jul</td>\n",
       "      <td>0</td>\n",
       "    </tr>\n",
       "    <tr>\n",
       "      <th>2</th>\n",
       "      <td>1</td>\n",
       "      <td>c</td>\n",
       "      <td>a</td>\n",
       "      <td>1270.0</td>\n",
       "      <td>9.0</td>\n",
       "      <td>2008.0</td>\n",
       "      <td>0</td>\n",
       "      <td>0.0</td>\n",
       "      <td>0.0</td>\n",
       "      <td>0</td>\n",
       "      <td>3</td>\n",
       "      <td>2015-07-29</td>\n",
       "      <td>4782</td>\n",
       "      <td>523</td>\n",
       "      <td>1</td>\n",
       "      <td>1</td>\n",
       "      <td>0</td>\n",
       "      <td>1</td>\n",
       "      <td>Jul</td>\n",
       "      <td>0</td>\n",
       "    </tr>\n",
       "    <tr>\n",
       "      <th>3</th>\n",
       "      <td>1</td>\n",
       "      <td>c</td>\n",
       "      <td>a</td>\n",
       "      <td>1270.0</td>\n",
       "      <td>9.0</td>\n",
       "      <td>2008.0</td>\n",
       "      <td>0</td>\n",
       "      <td>0.0</td>\n",
       "      <td>0.0</td>\n",
       "      <td>0</td>\n",
       "      <td>2</td>\n",
       "      <td>2015-07-28</td>\n",
       "      <td>5011</td>\n",
       "      <td>560</td>\n",
       "      <td>1</td>\n",
       "      <td>1</td>\n",
       "      <td>0</td>\n",
       "      <td>1</td>\n",
       "      <td>Jul</td>\n",
       "      <td>0</td>\n",
       "    </tr>\n",
       "    <tr>\n",
       "      <th>4</th>\n",
       "      <td>1</td>\n",
       "      <td>c</td>\n",
       "      <td>a</td>\n",
       "      <td>1270.0</td>\n",
       "      <td>9.0</td>\n",
       "      <td>2008.0</td>\n",
       "      <td>0</td>\n",
       "      <td>0.0</td>\n",
       "      <td>0.0</td>\n",
       "      <td>0</td>\n",
       "      <td>1</td>\n",
       "      <td>2015-07-27</td>\n",
       "      <td>6102</td>\n",
       "      <td>612</td>\n",
       "      <td>1</td>\n",
       "      <td>1</td>\n",
       "      <td>0</td>\n",
       "      <td>1</td>\n",
       "      <td>Jul</td>\n",
       "      <td>0</td>\n",
       "    </tr>\n",
       "    <tr>\n",
       "      <th>...</th>\n",
       "      <td>...</td>\n",
       "      <td>...</td>\n",
       "      <td>...</td>\n",
       "      <td>...</td>\n",
       "      <td>...</td>\n",
       "      <td>...</td>\n",
       "      <td>...</td>\n",
       "      <td>...</td>\n",
       "      <td>...</td>\n",
       "      <td>...</td>\n",
       "      <td>...</td>\n",
       "      <td>...</td>\n",
       "      <td>...</td>\n",
       "      <td>...</td>\n",
       "      <td>...</td>\n",
       "      <td>...</td>\n",
       "      <td>...</td>\n",
       "      <td>...</td>\n",
       "      <td>...</td>\n",
       "      <td>...</td>\n",
       "    </tr>\n",
       "    <tr>\n",
       "      <th>1017204</th>\n",
       "      <td>1115</td>\n",
       "      <td>d</td>\n",
       "      <td>c</td>\n",
       "      <td>5350.0</td>\n",
       "      <td>0.0</td>\n",
       "      <td>0.0</td>\n",
       "      <td>1</td>\n",
       "      <td>22.0</td>\n",
       "      <td>2012.0</td>\n",
       "      <td>Mar,Jun,Sept,Dec</td>\n",
       "      <td>6</td>\n",
       "      <td>2013-01-05</td>\n",
       "      <td>4771</td>\n",
       "      <td>339</td>\n",
       "      <td>1</td>\n",
       "      <td>0</td>\n",
       "      <td>0</td>\n",
       "      <td>1</td>\n",
       "      <td>Jan</td>\n",
       "      <td>0</td>\n",
       "    </tr>\n",
       "    <tr>\n",
       "      <th>1017205</th>\n",
       "      <td>1115</td>\n",
       "      <td>d</td>\n",
       "      <td>c</td>\n",
       "      <td>5350.0</td>\n",
       "      <td>0.0</td>\n",
       "      <td>0.0</td>\n",
       "      <td>1</td>\n",
       "      <td>22.0</td>\n",
       "      <td>2012.0</td>\n",
       "      <td>Mar,Jun,Sept,Dec</td>\n",
       "      <td>5</td>\n",
       "      <td>2013-01-04</td>\n",
       "      <td>4540</td>\n",
       "      <td>326</td>\n",
       "      <td>1</td>\n",
       "      <td>0</td>\n",
       "      <td>0</td>\n",
       "      <td>1</td>\n",
       "      <td>Jan</td>\n",
       "      <td>0</td>\n",
       "    </tr>\n",
       "    <tr>\n",
       "      <th>1017206</th>\n",
       "      <td>1115</td>\n",
       "      <td>d</td>\n",
       "      <td>c</td>\n",
       "      <td>5350.0</td>\n",
       "      <td>0.0</td>\n",
       "      <td>0.0</td>\n",
       "      <td>1</td>\n",
       "      <td>22.0</td>\n",
       "      <td>2012.0</td>\n",
       "      <td>Mar,Jun,Sept,Dec</td>\n",
       "      <td>4</td>\n",
       "      <td>2013-01-03</td>\n",
       "      <td>4297</td>\n",
       "      <td>300</td>\n",
       "      <td>1</td>\n",
       "      <td>0</td>\n",
       "      <td>0</td>\n",
       "      <td>1</td>\n",
       "      <td>Jan</td>\n",
       "      <td>0</td>\n",
       "    </tr>\n",
       "    <tr>\n",
       "      <th>1017207</th>\n",
       "      <td>1115</td>\n",
       "      <td>d</td>\n",
       "      <td>c</td>\n",
       "      <td>5350.0</td>\n",
       "      <td>0.0</td>\n",
       "      <td>0.0</td>\n",
       "      <td>1</td>\n",
       "      <td>22.0</td>\n",
       "      <td>2012.0</td>\n",
       "      <td>Mar,Jun,Sept,Dec</td>\n",
       "      <td>3</td>\n",
       "      <td>2013-01-02</td>\n",
       "      <td>3697</td>\n",
       "      <td>305</td>\n",
       "      <td>1</td>\n",
       "      <td>0</td>\n",
       "      <td>0</td>\n",
       "      <td>1</td>\n",
       "      <td>Jan</td>\n",
       "      <td>0</td>\n",
       "    </tr>\n",
       "    <tr>\n",
       "      <th>1017208</th>\n",
       "      <td>1115</td>\n",
       "      <td>d</td>\n",
       "      <td>c</td>\n",
       "      <td>5350.0</td>\n",
       "      <td>0.0</td>\n",
       "      <td>0.0</td>\n",
       "      <td>1</td>\n",
       "      <td>22.0</td>\n",
       "      <td>2012.0</td>\n",
       "      <td>Mar,Jun,Sept,Dec</td>\n",
       "      <td>2</td>\n",
       "      <td>2013-01-01</td>\n",
       "      <td>0</td>\n",
       "      <td>0</td>\n",
       "      <td>0</td>\n",
       "      <td>0</td>\n",
       "      <td>a</td>\n",
       "      <td>1</td>\n",
       "      <td>Jan</td>\n",
       "      <td>0</td>\n",
       "    </tr>\n",
       "  </tbody>\n",
       "</table>\n",
       "<p>984573 rows × 20 columns</p>\n",
       "</div>"
      ],
      "text/plain": [
       "         Store StoreType Assortment  CompetitionDistance  \\\n",
       "0            1         c          a               1270.0   \n",
       "1            1         c          a               1270.0   \n",
       "2            1         c          a               1270.0   \n",
       "3            1         c          a               1270.0   \n",
       "4            1         c          a               1270.0   \n",
       "...        ...       ...        ...                  ...   \n",
       "1017204   1115         d          c               5350.0   \n",
       "1017205   1115         d          c               5350.0   \n",
       "1017206   1115         d          c               5350.0   \n",
       "1017207   1115         d          c               5350.0   \n",
       "1017208   1115         d          c               5350.0   \n",
       "\n",
       "         CompetitionOpenSinceMonth  CompetitionOpenSinceYear  Promo2  \\\n",
       "0                              9.0                    2008.0       0   \n",
       "1                              9.0                    2008.0       0   \n",
       "2                              9.0                    2008.0       0   \n",
       "3                              9.0                    2008.0       0   \n",
       "4                              9.0                    2008.0       0   \n",
       "...                            ...                       ...     ...   \n",
       "1017204                        0.0                       0.0       1   \n",
       "1017205                        0.0                       0.0       1   \n",
       "1017206                        0.0                       0.0       1   \n",
       "1017207                        0.0                       0.0       1   \n",
       "1017208                        0.0                       0.0       1   \n",
       "\n",
       "         Promo2SinceWeek  Promo2SinceYear     PromoInterval  DayOfWeek  \\\n",
       "0                    0.0              0.0                 0          5   \n",
       "1                    0.0              0.0                 0          4   \n",
       "2                    0.0              0.0                 0          3   \n",
       "3                    0.0              0.0                 0          2   \n",
       "4                    0.0              0.0                 0          1   \n",
       "...                  ...              ...               ...        ...   \n",
       "1017204             22.0           2012.0  Mar,Jun,Sept,Dec          6   \n",
       "1017205             22.0           2012.0  Mar,Jun,Sept,Dec          5   \n",
       "1017206             22.0           2012.0  Mar,Jun,Sept,Dec          4   \n",
       "1017207             22.0           2012.0  Mar,Jun,Sept,Dec          3   \n",
       "1017208             22.0           2012.0  Mar,Jun,Sept,Dec          2   \n",
       "\n",
       "              Date  Sales  Customers  Open  Promo StateHoliday  SchoolHoliday  \\\n",
       "0       2015-07-31   5263        555     1      1            0              1   \n",
       "1       2015-07-30   5020        546     1      1            0              1   \n",
       "2       2015-07-29   4782        523     1      1            0              1   \n",
       "3       2015-07-28   5011        560     1      1            0              1   \n",
       "4       2015-07-27   6102        612     1      1            0              1   \n",
       "...            ...    ...        ...   ...    ...          ...            ...   \n",
       "1017204 2013-01-05   4771        339     1      0            0              1   \n",
       "1017205 2013-01-04   4540        326     1      0            0              1   \n",
       "1017206 2013-01-03   4297        300     1      0            0              1   \n",
       "1017207 2013-01-02   3697        305     1      0            0              1   \n",
       "1017208 2013-01-01      0          0     0      0            a              1   \n",
       "\n",
       "        month_map  is_promo  \n",
       "0             Jul         0  \n",
       "1             Jul         0  \n",
       "2             Jul         0  \n",
       "3             Jul         0  \n",
       "4             Jul         0  \n",
       "...           ...       ...  \n",
       "1017204       Jan         0  \n",
       "1017205       Jan         0  \n",
       "1017206       Jan         0  \n",
       "1017207       Jan         0  \n",
       "1017208       Jan         0  \n",
       "\n",
       "[984573 rows x 20 columns]"
      ]
     },
     "execution_count": 23,
     "metadata": {},
     "output_type": "execute_result"
    }
   ],
   "source": [
    "df"
   ]
  },
  {
   "cell_type": "code",
   "execution_count": 24,
   "id": "fa848909",
   "metadata": {},
   "outputs": [
    {
     "name": "stdout",
     "output_type": "stream",
     "text": [
      "<class 'pandas.core.frame.DataFrame'>\n",
      "Int64Index: 984573 entries, 0 to 1017208\n",
      "Data columns (total 20 columns):\n",
      " #   Column                     Non-Null Count   Dtype         \n",
      "---  ------                     --------------   -----         \n",
      " 0   Store                      984573 non-null  int64         \n",
      " 1   StoreType                  984573 non-null  object        \n",
      " 2   Assortment                 984573 non-null  object        \n",
      " 3   CompetitionDistance        984573 non-null  float64       \n",
      " 4   CompetitionOpenSinceMonth  984573 non-null  float64       \n",
      " 5   CompetitionOpenSinceYear   984573 non-null  float64       \n",
      " 6   Promo2                     984573 non-null  int64         \n",
      " 7   Promo2SinceWeek            984573 non-null  float64       \n",
      " 8   Promo2SinceYear            984573 non-null  float64       \n",
      " 9   PromoInterval              984573 non-null  object        \n",
      " 10  DayOfWeek                  984573 non-null  int64         \n",
      " 11  Date                       984573 non-null  datetime64[ns]\n",
      " 12  Sales                      984573 non-null  int64         \n",
      " 13  Customers                  984573 non-null  int64         \n",
      " 14  Open                       984573 non-null  int64         \n",
      " 15  Promo                      984573 non-null  int64         \n",
      " 16  StateHoliday               984573 non-null  object        \n",
      " 17  SchoolHoliday              984573 non-null  int64         \n",
      " 18  month_map                  984573 non-null  object        \n",
      " 19  is_promo                   984573 non-null  int64         \n",
      "dtypes: datetime64[ns](1), float64(5), int64(9), object(5)\n",
      "memory usage: 157.7+ MB\n"
     ]
    }
   ],
   "source": [
    "df.info()"
   ]
  },
  {
   "cell_type": "markdown",
   "id": "359f70a9",
   "metadata": {},
   "source": [
    "##### Dummies"
   ]
  },
  {
   "cell_type": "code",
   "execution_count": 25,
   "id": "ac7b4bd3",
   "metadata": {},
   "outputs": [],
   "source": [
    "# StoreType\n",
    "StoreType_dummie = pd.get_dummies(df[\"StoreType\"], prefix=\"StoreType\")\n",
    "df.drop(\"StoreType\", axis=1, inplace=True)\n",
    "\n",
    "df = pd.concat([df, StoreType_dummie], axis=1)"
   ]
  },
  {
   "cell_type": "code",
   "execution_count": 26,
   "id": "89d7746f",
   "metadata": {},
   "outputs": [],
   "source": [
    "# Assortment\n",
    "Assortment_dummie = pd.get_dummies(df[\"Assortment\"], prefix=\"Assortment\")\n",
    "df.drop(\"Assortment\", axis=1, inplace=True)\n",
    "\n",
    "df = pd.concat([df, Assortment_dummie], axis=1)"
   ]
  },
  {
   "cell_type": "code",
   "execution_count": 27,
   "id": "7985988c",
   "metadata": {},
   "outputs": [],
   "source": [
    "# StateHoliday\n",
    "StateHoliday_dummie = pd.get_dummies(df[\"StateHoliday\"], prefix=\"StateHoliday\")\n",
    "df.drop(\"StateHoliday\", axis=1, inplace=True)\n",
    "\n",
    "df = pd.concat([df, StateHoliday_dummie], axis=1)"
   ]
  },
  {
   "cell_type": "markdown",
   "id": "3e4b694f",
   "metadata": {},
   "source": [
    "##### Creación de columnas de fechas"
   ]
  },
  {
   "cell_type": "code",
   "execution_count": 28,
   "id": "6361dc26",
   "metadata": {},
   "outputs": [],
   "source": [
    "# Semana\n",
    "df[\"Week\"] = df[\"Date\"].dt.isocalendar().week"
   ]
  },
  {
   "cell_type": "code",
   "execution_count": 29,
   "id": "d85971e7",
   "metadata": {},
   "outputs": [],
   "source": [
    "# Mes\n",
    "df[\"Month\"] = df[\"Date\"].dt.month"
   ]
  },
  {
   "cell_type": "code",
   "execution_count": 30,
   "id": "5a31f1ed",
   "metadata": {},
   "outputs": [],
   "source": [
    "# Año\n",
    "df[\"Year\"] = df[\"Date\"].dt.isocalendar().year"
   ]
  },
  {
   "cell_type": "code",
   "execution_count": 31,
   "id": "a4046043",
   "metadata": {},
   "outputs": [
    {
     "data": {
      "text/html": [
       "<div>\n",
       "<style scoped>\n",
       "    .dataframe tbody tr th:only-of-type {\n",
       "        vertical-align: middle;\n",
       "    }\n",
       "\n",
       "    .dataframe tbody tr th {\n",
       "        vertical-align: top;\n",
       "    }\n",
       "\n",
       "    .dataframe thead th {\n",
       "        text-align: right;\n",
       "    }\n",
       "</style>\n",
       "<table border=\"1\" class=\"dataframe\">\n",
       "  <thead>\n",
       "    <tr style=\"text-align: right;\">\n",
       "      <th></th>\n",
       "      <th>Store</th>\n",
       "      <th>CompetitionDistance</th>\n",
       "      <th>CompetitionOpenSinceMonth</th>\n",
       "      <th>CompetitionOpenSinceYear</th>\n",
       "      <th>Promo2</th>\n",
       "      <th>Promo2SinceWeek</th>\n",
       "      <th>Promo2SinceYear</th>\n",
       "      <th>PromoInterval</th>\n",
       "      <th>DayOfWeek</th>\n",
       "      <th>Date</th>\n",
       "      <th>...</th>\n",
       "      <th>Assortment_a</th>\n",
       "      <th>Assortment_b</th>\n",
       "      <th>Assortment_c</th>\n",
       "      <th>StateHoliday_0</th>\n",
       "      <th>StateHoliday_a</th>\n",
       "      <th>StateHoliday_b</th>\n",
       "      <th>StateHoliday_c</th>\n",
       "      <th>Week</th>\n",
       "      <th>Month</th>\n",
       "      <th>Year</th>\n",
       "    </tr>\n",
       "  </thead>\n",
       "  <tbody>\n",
       "    <tr>\n",
       "      <th>5</th>\n",
       "      <td>1</td>\n",
       "      <td>1270.0</td>\n",
       "      <td>9.0</td>\n",
       "      <td>2008.0</td>\n",
       "      <td>0</td>\n",
       "      <td>0.0</td>\n",
       "      <td>0.0</td>\n",
       "      <td>0</td>\n",
       "      <td>7</td>\n",
       "      <td>2015-07-26</td>\n",
       "      <td>...</td>\n",
       "      <td>1</td>\n",
       "      <td>0</td>\n",
       "      <td>0</td>\n",
       "      <td>1</td>\n",
       "      <td>0</td>\n",
       "      <td>0</td>\n",
       "      <td>0</td>\n",
       "      <td>30</td>\n",
       "      <td>7</td>\n",
       "      <td>2015</td>\n",
       "    </tr>\n",
       "    <tr>\n",
       "      <th>12</th>\n",
       "      <td>1</td>\n",
       "      <td>1270.0</td>\n",
       "      <td>9.0</td>\n",
       "      <td>2008.0</td>\n",
       "      <td>0</td>\n",
       "      <td>0.0</td>\n",
       "      <td>0.0</td>\n",
       "      <td>0</td>\n",
       "      <td>7</td>\n",
       "      <td>2015-07-19</td>\n",
       "      <td>...</td>\n",
       "      <td>1</td>\n",
       "      <td>0</td>\n",
       "      <td>0</td>\n",
       "      <td>1</td>\n",
       "      <td>0</td>\n",
       "      <td>0</td>\n",
       "      <td>0</td>\n",
       "      <td>29</td>\n",
       "      <td>7</td>\n",
       "      <td>2015</td>\n",
       "    </tr>\n",
       "    <tr>\n",
       "      <th>19</th>\n",
       "      <td>1</td>\n",
       "      <td>1270.0</td>\n",
       "      <td>9.0</td>\n",
       "      <td>2008.0</td>\n",
       "      <td>0</td>\n",
       "      <td>0.0</td>\n",
       "      <td>0.0</td>\n",
       "      <td>0</td>\n",
       "      <td>7</td>\n",
       "      <td>2015-07-12</td>\n",
       "      <td>...</td>\n",
       "      <td>1</td>\n",
       "      <td>0</td>\n",
       "      <td>0</td>\n",
       "      <td>1</td>\n",
       "      <td>0</td>\n",
       "      <td>0</td>\n",
       "      <td>0</td>\n",
       "      <td>28</td>\n",
       "      <td>7</td>\n",
       "      <td>2015</td>\n",
       "    </tr>\n",
       "    <tr>\n",
       "      <th>26</th>\n",
       "      <td>1</td>\n",
       "      <td>1270.0</td>\n",
       "      <td>9.0</td>\n",
       "      <td>2008.0</td>\n",
       "      <td>0</td>\n",
       "      <td>0.0</td>\n",
       "      <td>0.0</td>\n",
       "      <td>0</td>\n",
       "      <td>7</td>\n",
       "      <td>2015-07-05</td>\n",
       "      <td>...</td>\n",
       "      <td>1</td>\n",
       "      <td>0</td>\n",
       "      <td>0</td>\n",
       "      <td>1</td>\n",
       "      <td>0</td>\n",
       "      <td>0</td>\n",
       "      <td>0</td>\n",
       "      <td>27</td>\n",
       "      <td>7</td>\n",
       "      <td>2015</td>\n",
       "    </tr>\n",
       "    <tr>\n",
       "      <th>33</th>\n",
       "      <td>1</td>\n",
       "      <td>1270.0</td>\n",
       "      <td>9.0</td>\n",
       "      <td>2008.0</td>\n",
       "      <td>0</td>\n",
       "      <td>0.0</td>\n",
       "      <td>0.0</td>\n",
       "      <td>0</td>\n",
       "      <td>7</td>\n",
       "      <td>2015-06-28</td>\n",
       "      <td>...</td>\n",
       "      <td>1</td>\n",
       "      <td>0</td>\n",
       "      <td>0</td>\n",
       "      <td>1</td>\n",
       "      <td>0</td>\n",
       "      <td>0</td>\n",
       "      <td>0</td>\n",
       "      <td>26</td>\n",
       "      <td>6</td>\n",
       "      <td>2015</td>\n",
       "    </tr>\n",
       "    <tr>\n",
       "      <th>...</th>\n",
       "      <td>...</td>\n",
       "      <td>...</td>\n",
       "      <td>...</td>\n",
       "      <td>...</td>\n",
       "      <td>...</td>\n",
       "      <td>...</td>\n",
       "      <td>...</td>\n",
       "      <td>...</td>\n",
       "      <td>...</td>\n",
       "      <td>...</td>\n",
       "      <td>...</td>\n",
       "      <td>...</td>\n",
       "      <td>...</td>\n",
       "      <td>...</td>\n",
       "      <td>...</td>\n",
       "      <td>...</td>\n",
       "      <td>...</td>\n",
       "      <td>...</td>\n",
       "      <td>...</td>\n",
       "      <td>...</td>\n",
       "      <td>...</td>\n",
       "    </tr>\n",
       "    <tr>\n",
       "      <th>1017182</th>\n",
       "      <td>1115</td>\n",
       "      <td>5350.0</td>\n",
       "      <td>0.0</td>\n",
       "      <td>0.0</td>\n",
       "      <td>1</td>\n",
       "      <td>22.0</td>\n",
       "      <td>2012.0</td>\n",
       "      <td>Mar,Jun,Sept,Dec</td>\n",
       "      <td>7</td>\n",
       "      <td>2013-01-27</td>\n",
       "      <td>...</td>\n",
       "      <td>0</td>\n",
       "      <td>0</td>\n",
       "      <td>1</td>\n",
       "      <td>1</td>\n",
       "      <td>0</td>\n",
       "      <td>0</td>\n",
       "      <td>0</td>\n",
       "      <td>4</td>\n",
       "      <td>1</td>\n",
       "      <td>2013</td>\n",
       "    </tr>\n",
       "    <tr>\n",
       "      <th>1017189</th>\n",
       "      <td>1115</td>\n",
       "      <td>5350.0</td>\n",
       "      <td>0.0</td>\n",
       "      <td>0.0</td>\n",
       "      <td>1</td>\n",
       "      <td>22.0</td>\n",
       "      <td>2012.0</td>\n",
       "      <td>Mar,Jun,Sept,Dec</td>\n",
       "      <td>7</td>\n",
       "      <td>2013-01-20</td>\n",
       "      <td>...</td>\n",
       "      <td>0</td>\n",
       "      <td>0</td>\n",
       "      <td>1</td>\n",
       "      <td>1</td>\n",
       "      <td>0</td>\n",
       "      <td>0</td>\n",
       "      <td>0</td>\n",
       "      <td>3</td>\n",
       "      <td>1</td>\n",
       "      <td>2013</td>\n",
       "    </tr>\n",
       "    <tr>\n",
       "      <th>1017196</th>\n",
       "      <td>1115</td>\n",
       "      <td>5350.0</td>\n",
       "      <td>0.0</td>\n",
       "      <td>0.0</td>\n",
       "      <td>1</td>\n",
       "      <td>22.0</td>\n",
       "      <td>2012.0</td>\n",
       "      <td>Mar,Jun,Sept,Dec</td>\n",
       "      <td>7</td>\n",
       "      <td>2013-01-13</td>\n",
       "      <td>...</td>\n",
       "      <td>0</td>\n",
       "      <td>0</td>\n",
       "      <td>1</td>\n",
       "      <td>1</td>\n",
       "      <td>0</td>\n",
       "      <td>0</td>\n",
       "      <td>0</td>\n",
       "      <td>2</td>\n",
       "      <td>1</td>\n",
       "      <td>2013</td>\n",
       "    </tr>\n",
       "    <tr>\n",
       "      <th>1017203</th>\n",
       "      <td>1115</td>\n",
       "      <td>5350.0</td>\n",
       "      <td>0.0</td>\n",
       "      <td>0.0</td>\n",
       "      <td>1</td>\n",
       "      <td>22.0</td>\n",
       "      <td>2012.0</td>\n",
       "      <td>Mar,Jun,Sept,Dec</td>\n",
       "      <td>7</td>\n",
       "      <td>2013-01-06</td>\n",
       "      <td>...</td>\n",
       "      <td>0</td>\n",
       "      <td>0</td>\n",
       "      <td>1</td>\n",
       "      <td>1</td>\n",
       "      <td>0</td>\n",
       "      <td>0</td>\n",
       "      <td>0</td>\n",
       "      <td>1</td>\n",
       "      <td>1</td>\n",
       "      <td>2013</td>\n",
       "    </tr>\n",
       "    <tr>\n",
       "      <th>1017208</th>\n",
       "      <td>1115</td>\n",
       "      <td>5350.0</td>\n",
       "      <td>0.0</td>\n",
       "      <td>0.0</td>\n",
       "      <td>1</td>\n",
       "      <td>22.0</td>\n",
       "      <td>2012.0</td>\n",
       "      <td>Mar,Jun,Sept,Dec</td>\n",
       "      <td>2</td>\n",
       "      <td>2013-01-01</td>\n",
       "      <td>...</td>\n",
       "      <td>0</td>\n",
       "      <td>0</td>\n",
       "      <td>1</td>\n",
       "      <td>0</td>\n",
       "      <td>1</td>\n",
       "      <td>0</td>\n",
       "      <td>0</td>\n",
       "      <td>1</td>\n",
       "      <td>1</td>\n",
       "      <td>2013</td>\n",
       "    </tr>\n",
       "  </tbody>\n",
       "</table>\n",
       "<p>170367 rows × 31 columns</p>\n",
       "</div>"
      ],
      "text/plain": [
       "         Store  CompetitionDistance  CompetitionOpenSinceMonth  \\\n",
       "5            1               1270.0                        9.0   \n",
       "12           1               1270.0                        9.0   \n",
       "19           1               1270.0                        9.0   \n",
       "26           1               1270.0                        9.0   \n",
       "33           1               1270.0                        9.0   \n",
       "...        ...                  ...                        ...   \n",
       "1017182   1115               5350.0                        0.0   \n",
       "1017189   1115               5350.0                        0.0   \n",
       "1017196   1115               5350.0                        0.0   \n",
       "1017203   1115               5350.0                        0.0   \n",
       "1017208   1115               5350.0                        0.0   \n",
       "\n",
       "         CompetitionOpenSinceYear  Promo2  Promo2SinceWeek  Promo2SinceYear  \\\n",
       "5                          2008.0       0              0.0              0.0   \n",
       "12                         2008.0       0              0.0              0.0   \n",
       "19                         2008.0       0              0.0              0.0   \n",
       "26                         2008.0       0              0.0              0.0   \n",
       "33                         2008.0       0              0.0              0.0   \n",
       "...                           ...     ...              ...              ...   \n",
       "1017182                       0.0       1             22.0           2012.0   \n",
       "1017189                       0.0       1             22.0           2012.0   \n",
       "1017196                       0.0       1             22.0           2012.0   \n",
       "1017203                       0.0       1             22.0           2012.0   \n",
       "1017208                       0.0       1             22.0           2012.0   \n",
       "\n",
       "            PromoInterval  DayOfWeek       Date  ...  Assortment_a  \\\n",
       "5                       0          7 2015-07-26  ...             1   \n",
       "12                      0          7 2015-07-19  ...             1   \n",
       "19                      0          7 2015-07-12  ...             1   \n",
       "26                      0          7 2015-07-05  ...             1   \n",
       "33                      0          7 2015-06-28  ...             1   \n",
       "...                   ...        ...        ...  ...           ...   \n",
       "1017182  Mar,Jun,Sept,Dec          7 2013-01-27  ...             0   \n",
       "1017189  Mar,Jun,Sept,Dec          7 2013-01-20  ...             0   \n",
       "1017196  Mar,Jun,Sept,Dec          7 2013-01-13  ...             0   \n",
       "1017203  Mar,Jun,Sept,Dec          7 2013-01-06  ...             0   \n",
       "1017208  Mar,Jun,Sept,Dec          2 2013-01-01  ...             0   \n",
       "\n",
       "         Assortment_b  Assortment_c  StateHoliday_0  StateHoliday_a  \\\n",
       "5                   0             0               1               0   \n",
       "12                  0             0               1               0   \n",
       "19                  0             0               1               0   \n",
       "26                  0             0               1               0   \n",
       "33                  0             0               1               0   \n",
       "...               ...           ...             ...             ...   \n",
       "1017182             0             1               1               0   \n",
       "1017189             0             1               1               0   \n",
       "1017196             0             1               1               0   \n",
       "1017203             0             1               1               0   \n",
       "1017208             0             1               0               1   \n",
       "\n",
       "        StateHoliday_b  StateHoliday_c  Week  Month  Year  \n",
       "5                    0               0    30      7  2015  \n",
       "12                   0               0    29      7  2015  \n",
       "19                   0               0    28      7  2015  \n",
       "26                   0               0    27      7  2015  \n",
       "33                   0               0    26      6  2015  \n",
       "...                ...             ...   ...    ...   ...  \n",
       "1017182              0               0     4      1  2013  \n",
       "1017189              0               0     3      1  2013  \n",
       "1017196              0               0     2      1  2013  \n",
       "1017203              0               0     1      1  2013  \n",
       "1017208              0               0     1      1  2013  \n",
       "\n",
       "[170367 rows x 31 columns]"
      ]
     },
     "execution_count": 31,
     "metadata": {},
     "output_type": "execute_result"
    }
   ],
   "source": [
    "df[(df[\"Sales\"] == 0) & (df[\"Open\"] == 0)]"
   ]
  },
  {
   "cell_type": "code",
   "execution_count": 32,
   "id": "cffd1fdc",
   "metadata": {},
   "outputs": [
    {
     "name": "stdout",
     "output_type": "stream",
     "text": [
      "<class 'pandas.core.frame.DataFrame'>\n",
      "Int64Index: 984573 entries, 0 to 1017208\n",
      "Data columns (total 31 columns):\n",
      " #   Column                     Non-Null Count   Dtype         \n",
      "---  ------                     --------------   -----         \n",
      " 0   Store                      984573 non-null  int64         \n",
      " 1   CompetitionDistance        984573 non-null  float64       \n",
      " 2   CompetitionOpenSinceMonth  984573 non-null  float64       \n",
      " 3   CompetitionOpenSinceYear   984573 non-null  float64       \n",
      " 4   Promo2                     984573 non-null  int64         \n",
      " 5   Promo2SinceWeek            984573 non-null  float64       \n",
      " 6   Promo2SinceYear            984573 non-null  float64       \n",
      " 7   PromoInterval              984573 non-null  object        \n",
      " 8   DayOfWeek                  984573 non-null  int64         \n",
      " 9   Date                       984573 non-null  datetime64[ns]\n",
      " 10  Sales                      984573 non-null  int64         \n",
      " 11  Customers                  984573 non-null  int64         \n",
      " 12  Open                       984573 non-null  int64         \n",
      " 13  Promo                      984573 non-null  int64         \n",
      " 14  SchoolHoliday              984573 non-null  int64         \n",
      " 15  month_map                  984573 non-null  object        \n",
      " 16  is_promo                   984573 non-null  int64         \n",
      " 17  StoreType_a                984573 non-null  uint8         \n",
      " 18  StoreType_b                984573 non-null  uint8         \n",
      " 19  StoreType_c                984573 non-null  uint8         \n",
      " 20  StoreType_d                984573 non-null  uint8         \n",
      " 21  Assortment_a               984573 non-null  uint8         \n",
      " 22  Assortment_b               984573 non-null  uint8         \n",
      " 23  Assortment_c               984573 non-null  uint8         \n",
      " 24  StateHoliday_0             984573 non-null  uint8         \n",
      " 25  StateHoliday_a             984573 non-null  uint8         \n",
      " 26  StateHoliday_b             984573 non-null  uint8         \n",
      " 27  StateHoliday_c             984573 non-null  uint8         \n",
      " 28  Week                       984573 non-null  UInt32        \n",
      " 29  Month                      984573 non-null  int64         \n",
      " 30  Year                       984573 non-null  UInt32        \n",
      "dtypes: UInt32(2), datetime64[ns](1), float64(5), int64(10), object(2), uint8(11)\n",
      "memory usage: 162.4+ MB\n"
     ]
    }
   ],
   "source": [
    "df.info()"
   ]
  },
  {
   "cell_type": "code",
   "execution_count": 33,
   "id": "37f41b06",
   "metadata": {},
   "outputs": [],
   "source": [
    "# Eliminamos las columnas que no nos sirven para nuestro modelo de entrenamiento\n",
    "df = df.drop([\"PromoInterval\", \"month_map\"], axis=1)"
   ]
  },
  {
   "cell_type": "code",
   "execution_count": 34,
   "id": "eb7fce8e",
   "metadata": {},
   "outputs": [
    {
     "name": "stderr",
     "output_type": "stream",
     "text": [
      "C:\\Users\\ninel\\AppData\\Local\\Temp\\ipykernel_19684\\658818363.py:1: FutureWarning: The default value of numeric_only in DataFrame.corr is deprecated. In a future version, it will default to False. Select only valid columns or specify the value of numeric_only to silence this warning.\n",
      "  corr = df.corr()\n"
     ]
    }
   ],
   "source": [
    "corr = df.corr()"
   ]
  },
  {
   "cell_type": "code",
   "execution_count": 35,
   "id": "065d70a6",
   "metadata": {},
   "outputs": [
    {
     "data": {
      "text/plain": [
       "<Axes: >"
      ]
     },
     "execution_count": 35,
     "metadata": {},
     "output_type": "execute_result"
    },
    {
     "data": {
      "image/png": "[encoded data removed]",
      "text/plain": [
       "<Figure size 1200x800 with 2 Axes>"
      ]
     },
     "metadata": {},
     "output_type": "display_data"
    }
   ],
   "source": [
    "plt.figure(figsize=(12,8))\n",
    "sns.heatmap(corr)"
   ]
  },
  {
   "cell_type": "markdown",
   "id": "0fbe2b08",
   "metadata": {},
   "source": [
    "### Análisis y limpieza de datos Dataset 'Test'"
   ]
  },
  {
   "cell_type": "code",
   "execution_count": 36,
   "id": "9b105f1a",
   "metadata": {},
   "outputs": [
    {
     "data": {
      "text/html": [
       "<div>\n",
       "<style scoped>\n",
       "    .dataframe tbody tr th:only-of-type {\n",
       "        vertical-align: middle;\n",
       "    }\n",
       "\n",
       "    .dataframe tbody tr th {\n",
       "        vertical-align: top;\n",
       "    }\n",
       "\n",
       "    .dataframe thead th {\n",
       "        text-align: right;\n",
       "    }\n",
       "</style>\n",
       "<table border=\"1\" class=\"dataframe\">\n",
       "  <thead>\n",
       "    <tr style=\"text-align: right;\">\n",
       "      <th></th>\n",
       "      <th>Id</th>\n",
       "      <th>Store</th>\n",
       "      <th>DayOfWeek</th>\n",
       "      <th>Date</th>\n",
       "      <th>Open</th>\n",
       "      <th>Promo</th>\n",
       "      <th>StateHoliday</th>\n",
       "      <th>SchoolHoliday</th>\n",
       "    </tr>\n",
       "  </thead>\n",
       "  <tbody>\n",
       "    <tr>\n",
       "      <th>0</th>\n",
       "      <td>1</td>\n",
       "      <td>1</td>\n",
       "      <td>4</td>\n",
       "      <td>2015-09-17</td>\n",
       "      <td>1.0</td>\n",
       "      <td>1</td>\n",
       "      <td>0</td>\n",
       "      <td>0</td>\n",
       "    </tr>\n",
       "    <tr>\n",
       "      <th>1</th>\n",
       "      <td>2</td>\n",
       "      <td>3</td>\n",
       "      <td>4</td>\n",
       "      <td>2015-09-17</td>\n",
       "      <td>1.0</td>\n",
       "      <td>1</td>\n",
       "      <td>0</td>\n",
       "      <td>0</td>\n",
       "    </tr>\n",
       "    <tr>\n",
       "      <th>2</th>\n",
       "      <td>3</td>\n",
       "      <td>7</td>\n",
       "      <td>4</td>\n",
       "      <td>2015-09-17</td>\n",
       "      <td>1.0</td>\n",
       "      <td>1</td>\n",
       "      <td>0</td>\n",
       "      <td>0</td>\n",
       "    </tr>\n",
       "    <tr>\n",
       "      <th>3</th>\n",
       "      <td>4</td>\n",
       "      <td>8</td>\n",
       "      <td>4</td>\n",
       "      <td>2015-09-17</td>\n",
       "      <td>1.0</td>\n",
       "      <td>1</td>\n",
       "      <td>0</td>\n",
       "      <td>0</td>\n",
       "    </tr>\n",
       "    <tr>\n",
       "      <th>4</th>\n",
       "      <td>5</td>\n",
       "      <td>9</td>\n",
       "      <td>4</td>\n",
       "      <td>2015-09-17</td>\n",
       "      <td>1.0</td>\n",
       "      <td>1</td>\n",
       "      <td>0</td>\n",
       "      <td>0</td>\n",
       "    </tr>\n",
       "  </tbody>\n",
       "</table>\n",
       "</div>"
      ],
      "text/plain": [
       "   Id  Store  DayOfWeek        Date  Open  Promo StateHoliday  SchoolHoliday\n",
       "0   1      1          4  2015-09-17   1.0      1            0              0\n",
       "1   2      3          4  2015-09-17   1.0      1            0              0\n",
       "2   3      7          4  2015-09-17   1.0      1            0              0\n",
       "3   4      8          4  2015-09-17   1.0      1            0              0\n",
       "4   5      9          4  2015-09-17   1.0      1            0              0"
      ]
     },
     "execution_count": 36,
     "metadata": {},
     "output_type": "execute_result"
    }
   ],
   "source": [
    "test.head()"
   ]
  },
  {
   "cell_type": "code",
   "execution_count": 37,
   "id": "b03bc814",
   "metadata": {},
   "outputs": [
    {
     "name": "stdout",
     "output_type": "stream",
     "text": [
      "<class 'pandas.core.frame.DataFrame'>\n",
      "RangeIndex: 41088 entries, 0 to 41087\n",
      "Data columns (total 8 columns):\n",
      " #   Column         Non-Null Count  Dtype  \n",
      "---  ------         --------------  -----  \n",
      " 0   Id             41088 non-null  int64  \n",
      " 1   Store          41088 non-null  int64  \n",
      " 2   DayOfWeek      41088 non-null  int64  \n",
      " 3   Date           41088 non-null  object \n",
      " 4   Open           41077 non-null  float64\n",
      " 5   Promo          41088 non-null  int64  \n",
      " 6   StateHoliday   41088 non-null  object \n",
      " 7   SchoolHoliday  41088 non-null  int64  \n",
      "dtypes: float64(1), int64(5), object(2)\n",
      "memory usage: 2.5+ MB\n"
     ]
    }
   ],
   "source": [
    "test.info()"
   ]
  },
  {
   "cell_type": "code",
   "execution_count": 38,
   "id": "aeb95178",
   "metadata": {},
   "outputs": [],
   "source": [
    "# Eliminamos registros con valores nulos en la columna \"Open\" y la convertimos a tipo int\n",
    "\n",
    "test.dropna(inplace=True)\n",
    "test[\"Open\"] = test[\"Open\"].astype(\"int64\")"
   ]
  },
  {
   "cell_type": "markdown",
   "id": "636f0800",
   "metadata": {},
   "source": [
    "##### Dummies\n",
    "\n"
   ]
  },
  {
   "cell_type": "code",
   "execution_count": 39,
   "id": "4e0f840f",
   "metadata": {},
   "outputs": [],
   "source": [
    "# StateHoliday\n",
    "StateHoliday_dummie = pd.get_dummies(test[\"StateHoliday\"], prefix=\"StateHoliday\")\n",
    "test.drop(\"StateHoliday\", axis=1, inplace=True)\n",
    "\n",
    "test = pd.concat([test, StateHoliday_dummie], axis=1)"
   ]
  },
  {
   "cell_type": "markdown",
   "id": "2c5e20eb",
   "metadata": {},
   "source": [
    "##### Creacion de columnas fechas"
   ]
  },
  {
   "cell_type": "code",
   "execution_count": 40,
   "id": "b28d4a5e",
   "metadata": {},
   "outputs": [],
   "source": [
    "# Convertimos la columna \"Date\" a formato datetime\n",
    "test[\"Date\"] = pd.to_datetime(test[\"Date\"])"
   ]
  },
  {
   "cell_type": "code",
   "execution_count": 41,
   "id": "21f2c49c",
   "metadata": {},
   "outputs": [],
   "source": [
    "# Semana\n",
    "test[\"Week\"] = test[\"Date\"].dt.isocalendar().week"
   ]
  },
  {
   "cell_type": "code",
   "execution_count": 42,
   "id": "4ed892b8",
   "metadata": {},
   "outputs": [],
   "source": [
    "# Mes\n",
    "test[\"Month\"] = test[\"Date\"].dt.month"
   ]
  },
  {
   "cell_type": "code",
   "execution_count": 43,
   "id": "c94f1e88",
   "metadata": {},
   "outputs": [],
   "source": [
    "# Año\n",
    "test[\"Year\"] = test[\"Date\"].dt.isocalendar().year"
   ]
  },
  {
   "cell_type": "code",
   "execution_count": 44,
   "id": "9ac5457b",
   "metadata": {},
   "outputs": [
    {
     "data": {
      "text/html": [
       "<div>\n",
       "<style scoped>\n",
       "    .dataframe tbody tr th:only-of-type {\n",
       "        vertical-align: middle;\n",
       "    }\n",
       "\n",
       "    .dataframe tbody tr th {\n",
       "        vertical-align: top;\n",
       "    }\n",
       "\n",
       "    .dataframe thead th {\n",
       "        text-align: right;\n",
       "    }\n",
       "</style>\n",
       "<table border=\"1\" class=\"dataframe\">\n",
       "  <thead>\n",
       "    <tr style=\"text-align: right;\">\n",
       "      <th></th>\n",
       "      <th>Id</th>\n",
       "      <th>Store</th>\n",
       "      <th>DayOfWeek</th>\n",
       "      <th>Date</th>\n",
       "      <th>Open</th>\n",
       "      <th>Promo</th>\n",
       "      <th>SchoolHoliday</th>\n",
       "      <th>StateHoliday_0</th>\n",
       "      <th>StateHoliday_a</th>\n",
       "      <th>Week</th>\n",
       "      <th>Month</th>\n",
       "      <th>Year</th>\n",
       "    </tr>\n",
       "  </thead>\n",
       "  <tbody>\n",
       "    <tr>\n",
       "      <th>0</th>\n",
       "      <td>1</td>\n",
       "      <td>1</td>\n",
       "      <td>4</td>\n",
       "      <td>2015-09-17</td>\n",
       "      <td>1</td>\n",
       "      <td>1</td>\n",
       "      <td>0</td>\n",
       "      <td>1</td>\n",
       "      <td>0</td>\n",
       "      <td>38</td>\n",
       "      <td>9</td>\n",
       "      <td>2015</td>\n",
       "    </tr>\n",
       "    <tr>\n",
       "      <th>1</th>\n",
       "      <td>2</td>\n",
       "      <td>3</td>\n",
       "      <td>4</td>\n",
       "      <td>2015-09-17</td>\n",
       "      <td>1</td>\n",
       "      <td>1</td>\n",
       "      <td>0</td>\n",
       "      <td>1</td>\n",
       "      <td>0</td>\n",
       "      <td>38</td>\n",
       "      <td>9</td>\n",
       "      <td>2015</td>\n",
       "    </tr>\n",
       "    <tr>\n",
       "      <th>2</th>\n",
       "      <td>3</td>\n",
       "      <td>7</td>\n",
       "      <td>4</td>\n",
       "      <td>2015-09-17</td>\n",
       "      <td>1</td>\n",
       "      <td>1</td>\n",
       "      <td>0</td>\n",
       "      <td>1</td>\n",
       "      <td>0</td>\n",
       "      <td>38</td>\n",
       "      <td>9</td>\n",
       "      <td>2015</td>\n",
       "    </tr>\n",
       "    <tr>\n",
       "      <th>3</th>\n",
       "      <td>4</td>\n",
       "      <td>8</td>\n",
       "      <td>4</td>\n",
       "      <td>2015-09-17</td>\n",
       "      <td>1</td>\n",
       "      <td>1</td>\n",
       "      <td>0</td>\n",
       "      <td>1</td>\n",
       "      <td>0</td>\n",
       "      <td>38</td>\n",
       "      <td>9</td>\n",
       "      <td>2015</td>\n",
       "    </tr>\n",
       "    <tr>\n",
       "      <th>4</th>\n",
       "      <td>5</td>\n",
       "      <td>9</td>\n",
       "      <td>4</td>\n",
       "      <td>2015-09-17</td>\n",
       "      <td>1</td>\n",
       "      <td>1</td>\n",
       "      <td>0</td>\n",
       "      <td>1</td>\n",
       "      <td>0</td>\n",
       "      <td>38</td>\n",
       "      <td>9</td>\n",
       "      <td>2015</td>\n",
       "    </tr>\n",
       "    <tr>\n",
       "      <th>...</th>\n",
       "      <td>...</td>\n",
       "      <td>...</td>\n",
       "      <td>...</td>\n",
       "      <td>...</td>\n",
       "      <td>...</td>\n",
       "      <td>...</td>\n",
       "      <td>...</td>\n",
       "      <td>...</td>\n",
       "      <td>...</td>\n",
       "      <td>...</td>\n",
       "      <td>...</td>\n",
       "      <td>...</td>\n",
       "    </tr>\n",
       "    <tr>\n",
       "      <th>41083</th>\n",
       "      <td>41084</td>\n",
       "      <td>1111</td>\n",
       "      <td>6</td>\n",
       "      <td>2015-08-01</td>\n",
       "      <td>1</td>\n",
       "      <td>0</td>\n",
       "      <td>0</td>\n",
       "      <td>1</td>\n",
       "      <td>0</td>\n",
       "      <td>31</td>\n",
       "      <td>8</td>\n",
       "      <td>2015</td>\n",
       "    </tr>\n",
       "    <tr>\n",
       "      <th>41084</th>\n",
       "      <td>41085</td>\n",
       "      <td>1112</td>\n",
       "      <td>6</td>\n",
       "      <td>2015-08-01</td>\n",
       "      <td>1</td>\n",
       "      <td>0</td>\n",
       "      <td>0</td>\n",
       "      <td>1</td>\n",
       "      <td>0</td>\n",
       "      <td>31</td>\n",
       "      <td>8</td>\n",
       "      <td>2015</td>\n",
       "    </tr>\n",
       "    <tr>\n",
       "      <th>41085</th>\n",
       "      <td>41086</td>\n",
       "      <td>1113</td>\n",
       "      <td>6</td>\n",
       "      <td>2015-08-01</td>\n",
       "      <td>1</td>\n",
       "      <td>0</td>\n",
       "      <td>0</td>\n",
       "      <td>1</td>\n",
       "      <td>0</td>\n",
       "      <td>31</td>\n",
       "      <td>8</td>\n",
       "      <td>2015</td>\n",
       "    </tr>\n",
       "    <tr>\n",
       "      <th>41086</th>\n",
       "      <td>41087</td>\n",
       "      <td>1114</td>\n",
       "      <td>6</td>\n",
       "      <td>2015-08-01</td>\n",
       "      <td>1</td>\n",
       "      <td>0</td>\n",
       "      <td>0</td>\n",
       "      <td>1</td>\n",
       "      <td>0</td>\n",
       "      <td>31</td>\n",
       "      <td>8</td>\n",
       "      <td>2015</td>\n",
       "    </tr>\n",
       "    <tr>\n",
       "      <th>41087</th>\n",
       "      <td>41088</td>\n",
       "      <td>1115</td>\n",
       "      <td>6</td>\n",
       "      <td>2015-08-01</td>\n",
       "      <td>1</td>\n",
       "      <td>0</td>\n",
       "      <td>1</td>\n",
       "      <td>1</td>\n",
       "      <td>0</td>\n",
       "      <td>31</td>\n",
       "      <td>8</td>\n",
       "      <td>2015</td>\n",
       "    </tr>\n",
       "  </tbody>\n",
       "</table>\n",
       "<p>41077 rows × 12 columns</p>\n",
       "</div>"
      ],
      "text/plain": [
       "          Id  Store  DayOfWeek       Date  Open  Promo  SchoolHoliday  \\\n",
       "0          1      1          4 2015-09-17     1      1              0   \n",
       "1          2      3          4 2015-09-17     1      1              0   \n",
       "2          3      7          4 2015-09-17     1      1              0   \n",
       "3          4      8          4 2015-09-17     1      1              0   \n",
       "4          5      9          4 2015-09-17     1      1              0   \n",
       "...      ...    ...        ...        ...   ...    ...            ...   \n",
       "41083  41084   1111          6 2015-08-01     1      0              0   \n",
       "41084  41085   1112          6 2015-08-01     1      0              0   \n",
       "41085  41086   1113          6 2015-08-01     1      0              0   \n",
       "41086  41087   1114          6 2015-08-01     1      0              0   \n",
       "41087  41088   1115          6 2015-08-01     1      0              1   \n",
       "\n",
       "       StateHoliday_0  StateHoliday_a  Week  Month  Year  \n",
       "0                   1               0    38      9  2015  \n",
       "1                   1               0    38      9  2015  \n",
       "2                   1               0    38      9  2015  \n",
       "3                   1               0    38      9  2015  \n",
       "4                   1               0    38      9  2015  \n",
       "...               ...             ...   ...    ...   ...  \n",
       "41083               1               0    31      8  2015  \n",
       "41084               1               0    31      8  2015  \n",
       "41085               1               0    31      8  2015  \n",
       "41086               1               0    31      8  2015  \n",
       "41087               1               0    31      8  2015  \n",
       "\n",
       "[41077 rows x 12 columns]"
      ]
     },
     "execution_count": 44,
     "metadata": {},
     "output_type": "execute_result"
    }
   ],
   "source": [
    "test"
   ]
  },
  {
   "cell_type": "code",
   "execution_count": 45,
   "id": "b455edea",
   "metadata": {},
   "outputs": [
    {
     "data": {
      "text/plain": [
       "Index(['Store', 'CompetitionDistance', 'CompetitionOpenSinceMonth',\n",
       "       'CompetitionOpenSinceYear', 'Promo2', 'Promo2SinceWeek',\n",
       "       'Promo2SinceYear', 'DayOfWeek', 'Date', 'Sales', 'Customers', 'Open',\n",
       "       'Promo', 'SchoolHoliday', 'is_promo', 'StoreType_a', 'StoreType_b',\n",
       "       'StoreType_c', 'StoreType_d', 'Assortment_a', 'Assortment_b',\n",
       "       'Assortment_c', 'StateHoliday_0', 'StateHoliday_a', 'StateHoliday_b',\n",
       "       'StateHoliday_c', 'Week', 'Month', 'Year'],\n",
       "      dtype='object')"
      ]
     },
     "execution_count": 45,
     "metadata": {},
     "output_type": "execute_result"
    }
   ],
   "source": [
    "df.columns"
   ]
  },
  {
   "cell_type": "markdown",
   "id": "2a92c103",
   "metadata": {},
   "source": [
    "##### Añadimos las columnas en común de las tiendas de nuestro dataset 'DF' a nuestro dataset 'Test'"
   ]
  },
  {
   "cell_type": "code",
   "execution_count": 46,
   "id": "6b0441b5",
   "metadata": {},
   "outputs": [],
   "source": [
    "df1 = df[[\"Store\", \"Month\", \"Promo2\", \"is_promo\", \"CompetitionDistance\", \"CompetitionOpenSinceMonth\", \"CompetitionOpenSinceYear\", \"Promo2SinceWeek\", \"Promo2SinceYear\",\n",
    "        'StoreType_a', 'StoreType_b','StoreType_c', 'StoreType_d', 'Assortment_a', 'Assortment_b',\n",
    "       'Assortment_c', 'StateHoliday_0', 'StateHoliday_a', 'StateHoliday_b',\n",
    "       'StateHoliday_c']]"
   ]
  },
  {
   "cell_type": "code",
   "execution_count": 47,
   "id": "25dcf73b",
   "metadata": {},
   "outputs": [
    {
     "data": {
      "text/html": [
       "<div>\n",
       "<style scoped>\n",
       "    .dataframe tbody tr th:only-of-type {\n",
       "        vertical-align: middle;\n",
       "    }\n",
       "\n",
       "    .dataframe tbody tr th {\n",
       "        vertical-align: top;\n",
       "    }\n",
       "\n",
       "    .dataframe thead th {\n",
       "        text-align: right;\n",
       "    }\n",
       "</style>\n",
       "<table border=\"1\" class=\"dataframe\">\n",
       "  <thead>\n",
       "    <tr style=\"text-align: right;\">\n",
       "      <th></th>\n",
       "      <th>Store</th>\n",
       "      <th>Month</th>\n",
       "      <th>Promo2</th>\n",
       "      <th>is_promo</th>\n",
       "      <th>CompetitionDistance</th>\n",
       "      <th>CompetitionOpenSinceMonth</th>\n",
       "      <th>CompetitionOpenSinceYear</th>\n",
       "      <th>Promo2SinceWeek</th>\n",
       "      <th>Promo2SinceYear</th>\n",
       "      <th>StoreType_a</th>\n",
       "      <th>StoreType_b</th>\n",
       "      <th>StoreType_c</th>\n",
       "      <th>StoreType_d</th>\n",
       "      <th>Assortment_a</th>\n",
       "      <th>Assortment_b</th>\n",
       "      <th>Assortment_c</th>\n",
       "      <th>StateHoliday_0</th>\n",
       "      <th>StateHoliday_a</th>\n",
       "      <th>StateHoliday_b</th>\n",
       "      <th>StateHoliday_c</th>\n",
       "    </tr>\n",
       "  </thead>\n",
       "  <tbody>\n",
       "    <tr>\n",
       "      <th>0</th>\n",
       "      <td>1</td>\n",
       "      <td>7</td>\n",
       "      <td>0</td>\n",
       "      <td>0</td>\n",
       "      <td>1270.0</td>\n",
       "      <td>9.0</td>\n",
       "      <td>2008.0</td>\n",
       "      <td>0.0</td>\n",
       "      <td>0.0</td>\n",
       "      <td>0</td>\n",
       "      <td>0</td>\n",
       "      <td>1</td>\n",
       "      <td>0</td>\n",
       "      <td>1</td>\n",
       "      <td>0</td>\n",
       "      <td>0</td>\n",
       "      <td>1</td>\n",
       "      <td>0</td>\n",
       "      <td>0</td>\n",
       "      <td>0</td>\n",
       "    </tr>\n",
       "    <tr>\n",
       "      <th>31</th>\n",
       "      <td>1</td>\n",
       "      <td>6</td>\n",
       "      <td>0</td>\n",
       "      <td>0</td>\n",
       "      <td>1270.0</td>\n",
       "      <td>9.0</td>\n",
       "      <td>2008.0</td>\n",
       "      <td>0.0</td>\n",
       "      <td>0.0</td>\n",
       "      <td>0</td>\n",
       "      <td>0</td>\n",
       "      <td>1</td>\n",
       "      <td>0</td>\n",
       "      <td>1</td>\n",
       "      <td>0</td>\n",
       "      <td>0</td>\n",
       "      <td>1</td>\n",
       "      <td>0</td>\n",
       "      <td>0</td>\n",
       "      <td>0</td>\n",
       "    </tr>\n",
       "    <tr>\n",
       "      <th>57</th>\n",
       "      <td>1</td>\n",
       "      <td>6</td>\n",
       "      <td>0</td>\n",
       "      <td>0</td>\n",
       "      <td>1270.0</td>\n",
       "      <td>9.0</td>\n",
       "      <td>2008.0</td>\n",
       "      <td>0.0</td>\n",
       "      <td>0.0</td>\n",
       "      <td>0</td>\n",
       "      <td>0</td>\n",
       "      <td>1</td>\n",
       "      <td>0</td>\n",
       "      <td>1</td>\n",
       "      <td>0</td>\n",
       "      <td>0</td>\n",
       "      <td>0</td>\n",
       "      <td>1</td>\n",
       "      <td>0</td>\n",
       "      <td>0</td>\n",
       "    </tr>\n",
       "    <tr>\n",
       "      <th>61</th>\n",
       "      <td>1</td>\n",
       "      <td>5</td>\n",
       "      <td>0</td>\n",
       "      <td>0</td>\n",
       "      <td>1270.0</td>\n",
       "      <td>9.0</td>\n",
       "      <td>2008.0</td>\n",
       "      <td>0.0</td>\n",
       "      <td>0.0</td>\n",
       "      <td>0</td>\n",
       "      <td>0</td>\n",
       "      <td>1</td>\n",
       "      <td>0</td>\n",
       "      <td>1</td>\n",
       "      <td>0</td>\n",
       "      <td>0</td>\n",
       "      <td>1</td>\n",
       "      <td>0</td>\n",
       "      <td>0</td>\n",
       "      <td>0</td>\n",
       "    </tr>\n",
       "    <tr>\n",
       "      <th>67</th>\n",
       "      <td>1</td>\n",
       "      <td>5</td>\n",
       "      <td>0</td>\n",
       "      <td>0</td>\n",
       "      <td>1270.0</td>\n",
       "      <td>9.0</td>\n",
       "      <td>2008.0</td>\n",
       "      <td>0.0</td>\n",
       "      <td>0.0</td>\n",
       "      <td>0</td>\n",
       "      <td>0</td>\n",
       "      <td>1</td>\n",
       "      <td>0</td>\n",
       "      <td>1</td>\n",
       "      <td>0</td>\n",
       "      <td>0</td>\n",
       "      <td>0</td>\n",
       "      <td>1</td>\n",
       "      <td>0</td>\n",
       "      <td>0</td>\n",
       "    </tr>\n",
       "    <tr>\n",
       "      <th>...</th>\n",
       "      <td>...</td>\n",
       "      <td>...</td>\n",
       "      <td>...</td>\n",
       "      <td>...</td>\n",
       "      <td>...</td>\n",
       "      <td>...</td>\n",
       "      <td>...</td>\n",
       "      <td>...</td>\n",
       "      <td>...</td>\n",
       "      <td>...</td>\n",
       "      <td>...</td>\n",
       "      <td>...</td>\n",
       "      <td>...</td>\n",
       "      <td>...</td>\n",
       "      <td>...</td>\n",
       "      <td>...</td>\n",
       "      <td>...</td>\n",
       "      <td>...</td>\n",
       "      <td>...</td>\n",
       "      <td>...</td>\n",
       "    </tr>\n",
       "    <tr>\n",
       "      <th>1016540</th>\n",
       "      <td>1115</td>\n",
       "      <td>10</td>\n",
       "      <td>1</td>\n",
       "      <td>0</td>\n",
       "      <td>5350.0</td>\n",
       "      <td>0.0</td>\n",
       "      <td>0.0</td>\n",
       "      <td>22.0</td>\n",
       "      <td>2012.0</td>\n",
       "      <td>0</td>\n",
       "      <td>0</td>\n",
       "      <td>0</td>\n",
       "      <td>1</td>\n",
       "      <td>0</td>\n",
       "      <td>0</td>\n",
       "      <td>1</td>\n",
       "      <td>1</td>\n",
       "      <td>0</td>\n",
       "      <td>0</td>\n",
       "      <td>0</td>\n",
       "    </tr>\n",
       "    <tr>\n",
       "      <th>1016568</th>\n",
       "      <td>1115</td>\n",
       "      <td>10</td>\n",
       "      <td>1</td>\n",
       "      <td>0</td>\n",
       "      <td>5350.0</td>\n",
       "      <td>0.0</td>\n",
       "      <td>0.0</td>\n",
       "      <td>22.0</td>\n",
       "      <td>2012.0</td>\n",
       "      <td>0</td>\n",
       "      <td>0</td>\n",
       "      <td>0</td>\n",
       "      <td>1</td>\n",
       "      <td>0</td>\n",
       "      <td>0</td>\n",
       "      <td>1</td>\n",
       "      <td>0</td>\n",
       "      <td>1</td>\n",
       "      <td>0</td>\n",
       "      <td>0</td>\n",
       "    </tr>\n",
       "    <tr>\n",
       "      <th>1016571</th>\n",
       "      <td>1115</td>\n",
       "      <td>9</td>\n",
       "      <td>1</td>\n",
       "      <td>0</td>\n",
       "      <td>5350.0</td>\n",
       "      <td>0.0</td>\n",
       "      <td>0.0</td>\n",
       "      <td>22.0</td>\n",
       "      <td>2012.0</td>\n",
       "      <td>0</td>\n",
       "      <td>0</td>\n",
       "      <td>0</td>\n",
       "      <td>1</td>\n",
       "      <td>0</td>\n",
       "      <td>0</td>\n",
       "      <td>1</td>\n",
       "      <td>1</td>\n",
       "      <td>0</td>\n",
       "      <td>0</td>\n",
       "      <td>0</td>\n",
       "    </tr>\n",
       "    <tr>\n",
       "      <th>1016601</th>\n",
       "      <td>1115</td>\n",
       "      <td>8</td>\n",
       "      <td>1</td>\n",
       "      <td>0</td>\n",
       "      <td>5350.0</td>\n",
       "      <td>0.0</td>\n",
       "      <td>0.0</td>\n",
       "      <td>22.0</td>\n",
       "      <td>2012.0</td>\n",
       "      <td>0</td>\n",
       "      <td>0</td>\n",
       "      <td>0</td>\n",
       "      <td>1</td>\n",
       "      <td>0</td>\n",
       "      <td>0</td>\n",
       "      <td>1</td>\n",
       "      <td>1</td>\n",
       "      <td>0</td>\n",
       "      <td>0</td>\n",
       "      <td>0</td>\n",
       "    </tr>\n",
       "    <tr>\n",
       "      <th>1017121</th>\n",
       "      <td>1115</td>\n",
       "      <td>3</td>\n",
       "      <td>1</td>\n",
       "      <td>1</td>\n",
       "      <td>5350.0</td>\n",
       "      <td>0.0</td>\n",
       "      <td>0.0</td>\n",
       "      <td>22.0</td>\n",
       "      <td>2012.0</td>\n",
       "      <td>0</td>\n",
       "      <td>0</td>\n",
       "      <td>0</td>\n",
       "      <td>1</td>\n",
       "      <td>0</td>\n",
       "      <td>0</td>\n",
       "      <td>1</td>\n",
       "      <td>0</td>\n",
       "      <td>0</td>\n",
       "      <td>1</td>\n",
       "      <td>0</td>\n",
       "    </tr>\n",
       "  </tbody>\n",
       "</table>\n",
       "<p>21567 rows × 20 columns</p>\n",
       "</div>"
      ],
      "text/plain": [
       "         Store  Month  Promo2  is_promo  CompetitionDistance  \\\n",
       "0            1      7       0         0               1270.0   \n",
       "31           1      6       0         0               1270.0   \n",
       "57           1      6       0         0               1270.0   \n",
       "61           1      5       0         0               1270.0   \n",
       "67           1      5       0         0               1270.0   \n",
       "...        ...    ...     ...       ...                  ...   \n",
       "1016540   1115     10       1         0               5350.0   \n",
       "1016568   1115     10       1         0               5350.0   \n",
       "1016571   1115      9       1         0               5350.0   \n",
       "1016601   1115      8       1         0               5350.0   \n",
       "1017121   1115      3       1         1               5350.0   \n",
       "\n",
       "         CompetitionOpenSinceMonth  CompetitionOpenSinceYear  Promo2SinceWeek  \\\n",
       "0                              9.0                    2008.0              0.0   \n",
       "31                             9.0                    2008.0              0.0   \n",
       "57                             9.0                    2008.0              0.0   \n",
       "61                             9.0                    2008.0              0.0   \n",
       "67                             9.0                    2008.0              0.0   \n",
       "...                            ...                       ...              ...   \n",
       "1016540                        0.0                       0.0             22.0   \n",
       "1016568                        0.0                       0.0             22.0   \n",
       "1016571                        0.0                       0.0             22.0   \n",
       "1016601                        0.0                       0.0             22.0   \n",
       "1017121                        0.0                       0.0             22.0   \n",
       "\n",
       "         Promo2SinceYear  StoreType_a  StoreType_b  StoreType_c  StoreType_d  \\\n",
       "0                    0.0            0            0            1            0   \n",
       "31                   0.0            0            0            1            0   \n",
       "57                   0.0            0            0            1            0   \n",
       "61                   0.0            0            0            1            0   \n",
       "67                   0.0            0            0            1            0   \n",
       "...                  ...          ...          ...          ...          ...   \n",
       "1016540           2012.0            0            0            0            1   \n",
       "1016568           2012.0            0            0            0            1   \n",
       "1016571           2012.0            0            0            0            1   \n",
       "1016601           2012.0            0            0            0            1   \n",
       "1017121           2012.0            0            0            0            1   \n",
       "\n",
       "         Assortment_a  Assortment_b  Assortment_c  StateHoliday_0  \\\n",
       "0                   1             0             0               1   \n",
       "31                  1             0             0               1   \n",
       "57                  1             0             0               0   \n",
       "61                  1             0             0               1   \n",
       "67                  1             0             0               0   \n",
       "...               ...           ...           ...             ...   \n",
       "1016540             0             0             1               1   \n",
       "1016568             0             0             1               0   \n",
       "1016571             0             0             1               1   \n",
       "1016601             0             0             1               1   \n",
       "1017121             0             0             1               0   \n",
       "\n",
       "         StateHoliday_a  StateHoliday_b  StateHoliday_c  \n",
       "0                     0               0               0  \n",
       "31                    0               0               0  \n",
       "57                    1               0               0  \n",
       "61                    0               0               0  \n",
       "67                    1               0               0  \n",
       "...                 ...             ...             ...  \n",
       "1016540               0               0               0  \n",
       "1016568               1               0               0  \n",
       "1016571               0               0               0  \n",
       "1016601               0               0               0  \n",
       "1017121               0               1               0  \n",
       "\n",
       "[21567 rows x 20 columns]"
      ]
     },
     "execution_count": 47,
     "metadata": {},
     "output_type": "execute_result"
    }
   ],
   "source": [
    "# Como arriba tenemos valores duplicados, vamos a eliminarlos\n",
    "df1 = df1.drop_duplicates()\n",
    "df1"
   ]
  },
  {
   "cell_type": "code",
   "execution_count": 48,
   "id": "4b154b0f",
   "metadata": {},
   "outputs": [],
   "source": [
    "# Unimos el dataset \"Test\" con el dataset anterior\n",
    "df2 = pd.merge(test, df1)"
   ]
  },
  {
   "cell_type": "code",
   "execution_count": 49,
   "id": "87c36080",
   "metadata": {},
   "outputs": [
    {
     "data": {
      "text/html": [
       "<div>\n",
       "<style scoped>\n",
       "    .dataframe tbody tr th:only-of-type {\n",
       "        vertical-align: middle;\n",
       "    }\n",
       "\n",
       "    .dataframe tbody tr th {\n",
       "        vertical-align: top;\n",
       "    }\n",
       "\n",
       "    .dataframe thead th {\n",
       "        text-align: right;\n",
       "    }\n",
       "</style>\n",
       "<table border=\"1\" class=\"dataframe\">\n",
       "  <thead>\n",
       "    <tr style=\"text-align: right;\">\n",
       "      <th></th>\n",
       "      <th>Id</th>\n",
       "      <th>Store</th>\n",
       "      <th>DayOfWeek</th>\n",
       "      <th>Date</th>\n",
       "      <th>Open</th>\n",
       "      <th>Promo</th>\n",
       "      <th>SchoolHoliday</th>\n",
       "      <th>StateHoliday_0</th>\n",
       "      <th>StateHoliday_a</th>\n",
       "      <th>Week</th>\n",
       "      <th>...</th>\n",
       "      <th>Promo2SinceYear</th>\n",
       "      <th>StoreType_a</th>\n",
       "      <th>StoreType_b</th>\n",
       "      <th>StoreType_c</th>\n",
       "      <th>StoreType_d</th>\n",
       "      <th>Assortment_a</th>\n",
       "      <th>Assortment_b</th>\n",
       "      <th>Assortment_c</th>\n",
       "      <th>StateHoliday_b</th>\n",
       "      <th>StateHoliday_c</th>\n",
       "    </tr>\n",
       "  </thead>\n",
       "  <tbody>\n",
       "    <tr>\n",
       "      <th>0</th>\n",
       "      <td>1</td>\n",
       "      <td>1</td>\n",
       "      <td>4</td>\n",
       "      <td>2015-09-17</td>\n",
       "      <td>1</td>\n",
       "      <td>1</td>\n",
       "      <td>0</td>\n",
       "      <td>1</td>\n",
       "      <td>0</td>\n",
       "      <td>38</td>\n",
       "      <td>...</td>\n",
       "      <td>0.0</td>\n",
       "      <td>0</td>\n",
       "      <td>0</td>\n",
       "      <td>1</td>\n",
       "      <td>0</td>\n",
       "      <td>1</td>\n",
       "      <td>0</td>\n",
       "      <td>0</td>\n",
       "      <td>0</td>\n",
       "      <td>0</td>\n",
       "    </tr>\n",
       "    <tr>\n",
       "      <th>1</th>\n",
       "      <td>857</td>\n",
       "      <td>1</td>\n",
       "      <td>3</td>\n",
       "      <td>2015-09-16</td>\n",
       "      <td>1</td>\n",
       "      <td>1</td>\n",
       "      <td>0</td>\n",
       "      <td>1</td>\n",
       "      <td>0</td>\n",
       "      <td>38</td>\n",
       "      <td>...</td>\n",
       "      <td>0.0</td>\n",
       "      <td>0</td>\n",
       "      <td>0</td>\n",
       "      <td>1</td>\n",
       "      <td>0</td>\n",
       "      <td>1</td>\n",
       "      <td>0</td>\n",
       "      <td>0</td>\n",
       "      <td>0</td>\n",
       "      <td>0</td>\n",
       "    </tr>\n",
       "    <tr>\n",
       "      <th>2</th>\n",
       "      <td>1713</td>\n",
       "      <td>1</td>\n",
       "      <td>2</td>\n",
       "      <td>2015-09-15</td>\n",
       "      <td>1</td>\n",
       "      <td>1</td>\n",
       "      <td>0</td>\n",
       "      <td>1</td>\n",
       "      <td>0</td>\n",
       "      <td>38</td>\n",
       "      <td>...</td>\n",
       "      <td>0.0</td>\n",
       "      <td>0</td>\n",
       "      <td>0</td>\n",
       "      <td>1</td>\n",
       "      <td>0</td>\n",
       "      <td>1</td>\n",
       "      <td>0</td>\n",
       "      <td>0</td>\n",
       "      <td>0</td>\n",
       "      <td>0</td>\n",
       "    </tr>\n",
       "    <tr>\n",
       "      <th>3</th>\n",
       "      <td>2569</td>\n",
       "      <td>1</td>\n",
       "      <td>1</td>\n",
       "      <td>2015-09-14</td>\n",
       "      <td>1</td>\n",
       "      <td>1</td>\n",
       "      <td>0</td>\n",
       "      <td>1</td>\n",
       "      <td>0</td>\n",
       "      <td>38</td>\n",
       "      <td>...</td>\n",
       "      <td>0.0</td>\n",
       "      <td>0</td>\n",
       "      <td>0</td>\n",
       "      <td>1</td>\n",
       "      <td>0</td>\n",
       "      <td>1</td>\n",
       "      <td>0</td>\n",
       "      <td>0</td>\n",
       "      <td>0</td>\n",
       "      <td>0</td>\n",
       "    </tr>\n",
       "    <tr>\n",
       "      <th>4</th>\n",
       "      <td>3425</td>\n",
       "      <td>1</td>\n",
       "      <td>7</td>\n",
       "      <td>2015-09-13</td>\n",
       "      <td>0</td>\n",
       "      <td>0</td>\n",
       "      <td>0</td>\n",
       "      <td>1</td>\n",
       "      <td>0</td>\n",
       "      <td>37</td>\n",
       "      <td>...</td>\n",
       "      <td>0.0</td>\n",
       "      <td>0</td>\n",
       "      <td>0</td>\n",
       "      <td>1</td>\n",
       "      <td>0</td>\n",
       "      <td>1</td>\n",
       "      <td>0</td>\n",
       "      <td>0</td>\n",
       "      <td>0</td>\n",
       "      <td>0</td>\n",
       "    </tr>\n",
       "    <tr>\n",
       "      <th>...</th>\n",
       "      <td>...</td>\n",
       "      <td>...</td>\n",
       "      <td>...</td>\n",
       "      <td>...</td>\n",
       "      <td>...</td>\n",
       "      <td>...</td>\n",
       "      <td>...</td>\n",
       "      <td>...</td>\n",
       "      <td>...</td>\n",
       "      <td>...</td>\n",
       "      <td>...</td>\n",
       "      <td>...</td>\n",
       "      <td>...</td>\n",
       "      <td>...</td>\n",
       "      <td>...</td>\n",
       "      <td>...</td>\n",
       "      <td>...</td>\n",
       "      <td>...</td>\n",
       "      <td>...</td>\n",
       "      <td>...</td>\n",
       "      <td>...</td>\n",
       "    </tr>\n",
       "    <tr>\n",
       "      <th>40256</th>\n",
       "      <td>29087</td>\n",
       "      <td>1094</td>\n",
       "      <td>6</td>\n",
       "      <td>2015-08-15</td>\n",
       "      <td>0</td>\n",
       "      <td>0</td>\n",
       "      <td>0</td>\n",
       "      <td>0</td>\n",
       "      <td>1</td>\n",
       "      <td>33</td>\n",
       "      <td>...</td>\n",
       "      <td>2014.0</td>\n",
       "      <td>0</td>\n",
       "      <td>0</td>\n",
       "      <td>0</td>\n",
       "      <td>1</td>\n",
       "      <td>1</td>\n",
       "      <td>0</td>\n",
       "      <td>0</td>\n",
       "      <td>0</td>\n",
       "      <td>0</td>\n",
       "    </tr>\n",
       "    <tr>\n",
       "      <th>40257</th>\n",
       "      <td>29093</td>\n",
       "      <td>1102</td>\n",
       "      <td>6</td>\n",
       "      <td>2015-08-15</td>\n",
       "      <td>0</td>\n",
       "      <td>0</td>\n",
       "      <td>0</td>\n",
       "      <td>0</td>\n",
       "      <td>1</td>\n",
       "      <td>33</td>\n",
       "      <td>...</td>\n",
       "      <td>2014.0</td>\n",
       "      <td>1</td>\n",
       "      <td>0</td>\n",
       "      <td>0</td>\n",
       "      <td>0</td>\n",
       "      <td>1</td>\n",
       "      <td>0</td>\n",
       "      <td>0</td>\n",
       "      <td>0</td>\n",
       "      <td>0</td>\n",
       "    </tr>\n",
       "    <tr>\n",
       "      <th>40258</th>\n",
       "      <td>29095</td>\n",
       "      <td>1104</td>\n",
       "      <td>6</td>\n",
       "      <td>2015-08-15</td>\n",
       "      <td>0</td>\n",
       "      <td>0</td>\n",
       "      <td>0</td>\n",
       "      <td>0</td>\n",
       "      <td>1</td>\n",
       "      <td>33</td>\n",
       "      <td>...</td>\n",
       "      <td>2011.0</td>\n",
       "      <td>0</td>\n",
       "      <td>0</td>\n",
       "      <td>0</td>\n",
       "      <td>1</td>\n",
       "      <td>1</td>\n",
       "      <td>0</td>\n",
       "      <td>0</td>\n",
       "      <td>0</td>\n",
       "      <td>0</td>\n",
       "    </tr>\n",
       "    <tr>\n",
       "      <th>40259</th>\n",
       "      <td>29098</td>\n",
       "      <td>1107</td>\n",
       "      <td>6</td>\n",
       "      <td>2015-08-15</td>\n",
       "      <td>1</td>\n",
       "      <td>0</td>\n",
       "      <td>0</td>\n",
       "      <td>0</td>\n",
       "      <td>1</td>\n",
       "      <td>33</td>\n",
       "      <td>...</td>\n",
       "      <td>2010.0</td>\n",
       "      <td>1</td>\n",
       "      <td>0</td>\n",
       "      <td>0</td>\n",
       "      <td>0</td>\n",
       "      <td>1</td>\n",
       "      <td>0</td>\n",
       "      <td>0</td>\n",
       "      <td>0</td>\n",
       "      <td>0</td>\n",
       "    </tr>\n",
       "    <tr>\n",
       "      <th>40260</th>\n",
       "      <td>29099</td>\n",
       "      <td>1109</td>\n",
       "      <td>6</td>\n",
       "      <td>2015-08-15</td>\n",
       "      <td>0</td>\n",
       "      <td>0</td>\n",
       "      <td>0</td>\n",
       "      <td>0</td>\n",
       "      <td>1</td>\n",
       "      <td>33</td>\n",
       "      <td>...</td>\n",
       "      <td>2012.0</td>\n",
       "      <td>0</td>\n",
       "      <td>0</td>\n",
       "      <td>1</td>\n",
       "      <td>0</td>\n",
       "      <td>1</td>\n",
       "      <td>0</td>\n",
       "      <td>0</td>\n",
       "      <td>0</td>\n",
       "      <td>0</td>\n",
       "    </tr>\n",
       "  </tbody>\n",
       "</table>\n",
       "<p>40261 rows × 28 columns</p>\n",
       "</div>"
      ],
      "text/plain": [
       "          Id  Store  DayOfWeek       Date  Open  Promo  SchoolHoliday  \\\n",
       "0          1      1          4 2015-09-17     1      1              0   \n",
       "1        857      1          3 2015-09-16     1      1              0   \n",
       "2       1713      1          2 2015-09-15     1      1              0   \n",
       "3       2569      1          1 2015-09-14     1      1              0   \n",
       "4       3425      1          7 2015-09-13     0      0              0   \n",
       "...      ...    ...        ...        ...   ...    ...            ...   \n",
       "40256  29087   1094          6 2015-08-15     0      0              0   \n",
       "40257  29093   1102          6 2015-08-15     0      0              0   \n",
       "40258  29095   1104          6 2015-08-15     0      0              0   \n",
       "40259  29098   1107          6 2015-08-15     1      0              0   \n",
       "40260  29099   1109          6 2015-08-15     0      0              0   \n",
       "\n",
       "       StateHoliday_0  StateHoliday_a  Week  ...  Promo2SinceYear  \\\n",
       "0                   1               0    38  ...              0.0   \n",
       "1                   1               0    38  ...              0.0   \n",
       "2                   1               0    38  ...              0.0   \n",
       "3                   1               0    38  ...              0.0   \n",
       "4                   1               0    37  ...              0.0   \n",
       "...               ...             ...   ...  ...              ...   \n",
       "40256               0               1    33  ...           2014.0   \n",
       "40257               0               1    33  ...           2014.0   \n",
       "40258               0               1    33  ...           2011.0   \n",
       "40259               0               1    33  ...           2010.0   \n",
       "40260               0               1    33  ...           2012.0   \n",
       "\n",
       "       StoreType_a  StoreType_b  StoreType_c  StoreType_d  Assortment_a  \\\n",
       "0                0            0            1            0             1   \n",
       "1                0            0            1            0             1   \n",
       "2                0            0            1            0             1   \n",
       "3                0            0            1            0             1   \n",
       "4                0            0            1            0             1   \n",
       "...            ...          ...          ...          ...           ...   \n",
       "40256            0            0            0            1             1   \n",
       "40257            1            0            0            0             1   \n",
       "40258            0            0            0            1             1   \n",
       "40259            1            0            0            0             1   \n",
       "40260            0            0            1            0             1   \n",
       "\n",
       "       Assortment_b  Assortment_c  StateHoliday_b  StateHoliday_c  \n",
       "0                 0             0               0               0  \n",
       "1                 0             0               0               0  \n",
       "2                 0             0               0               0  \n",
       "3                 0             0               0               0  \n",
       "4                 0             0               0               0  \n",
       "...             ...           ...             ...             ...  \n",
       "40256             0             0               0               0  \n",
       "40257             0             0               0               0  \n",
       "40258             0             0               0               0  \n",
       "40259             0             0               0               0  \n",
       "40260             0             0               0               0  \n",
       "\n",
       "[40261 rows x 28 columns]"
      ]
     },
     "execution_count": 49,
     "metadata": {},
     "output_type": "execute_result"
    }
   ],
   "source": [
    "df2"
   ]
  },
  {
   "cell_type": "code",
   "execution_count": 50,
   "id": "ebf380fd",
   "metadata": {},
   "outputs": [
    {
     "data": {
      "text/plain": [
       "0    36572\n",
       "1     3689\n",
       "Name: is_promo, dtype: int64"
      ]
     },
     "execution_count": 50,
     "metadata": {},
     "output_type": "execute_result"
    }
   ],
   "source": [
    "df2[\"is_promo\"].value_counts()"
   ]
  },
  {
   "cell_type": "code",
   "execution_count": 51,
   "id": "a850fbb1",
   "metadata": {},
   "outputs": [
    {
     "name": "stdout",
     "output_type": "stream",
     "text": [
      "<class 'pandas.core.frame.DataFrame'>\n",
      "Int64Index: 40261 entries, 0 to 40260\n",
      "Data columns (total 28 columns):\n",
      " #   Column                     Non-Null Count  Dtype         \n",
      "---  ------                     --------------  -----         \n",
      " 0   Id                         40261 non-null  int64         \n",
      " 1   Store                      40261 non-null  int64         \n",
      " 2   DayOfWeek                  40261 non-null  int64         \n",
      " 3   Date                       40261 non-null  datetime64[ns]\n",
      " 4   Open                       40261 non-null  int64         \n",
      " 5   Promo                      40261 non-null  int64         \n",
      " 6   SchoolHoliday              40261 non-null  int64         \n",
      " 7   StateHoliday_0             40261 non-null  uint8         \n",
      " 8   StateHoliday_a             40261 non-null  uint8         \n",
      " 9   Week                       40261 non-null  UInt32        \n",
      " 10  Month                      40261 non-null  int64         \n",
      " 11  Year                       40261 non-null  UInt32        \n",
      " 12  Promo2                     40261 non-null  int64         \n",
      " 13  is_promo                   40261 non-null  int64         \n",
      " 14  CompetitionDistance        40261 non-null  float64       \n",
      " 15  CompetitionOpenSinceMonth  40261 non-null  float64       \n",
      " 16  CompetitionOpenSinceYear   40261 non-null  float64       \n",
      " 17  Promo2SinceWeek            40261 non-null  float64       \n",
      " 18  Promo2SinceYear            40261 non-null  float64       \n",
      " 19  StoreType_a                40261 non-null  uint8         \n",
      " 20  StoreType_b                40261 non-null  uint8         \n",
      " 21  StoreType_c                40261 non-null  uint8         \n",
      " 22  StoreType_d                40261 non-null  uint8         \n",
      " 23  Assortment_a               40261 non-null  uint8         \n",
      " 24  Assortment_b               40261 non-null  uint8         \n",
      " 25  Assortment_c               40261 non-null  uint8         \n",
      " 26  StateHoliday_b             40261 non-null  uint8         \n",
      " 27  StateHoliday_c             40261 non-null  uint8         \n",
      "dtypes: UInt32(2), datetime64[ns](1), float64(5), int64(9), uint8(11)\n",
      "memory usage: 5.7 MB\n"
     ]
    }
   ],
   "source": [
    "df2.info()"
   ]
  },
  {
   "cell_type": "code",
   "execution_count": 52,
   "id": "6f98e502",
   "metadata": {},
   "outputs": [],
   "source": [
    "# Eliminamos la columna \"Id\" ya que no nos da información útil\n",
    "df2.drop(\"Id\", axis=1, inplace=True)"
   ]
  },
  {
   "cell_type": "code",
   "execution_count": 53,
   "id": "a5c25722",
   "metadata": {},
   "outputs": [],
   "source": [
    "# Creamos un nuevo dataset a partir del anterior sin la columna \"Date\". Este df es el que vamos a utilizar para predecir\n",
    "df3 = df2.drop([\"Date\"], axis=1)"
   ]
  },
  {
   "cell_type": "code",
   "execution_count": 54,
   "id": "d2a4323e",
   "metadata": {},
   "outputs": [
    {
     "data": {
      "text/plain": [
       "Index(['Store', 'DayOfWeek', 'Open', 'Promo', 'SchoolHoliday',\n",
       "       'StateHoliday_0', 'StateHoliday_a', 'Week', 'Month', 'Year', 'Promo2',\n",
       "       'is_promo', 'CompetitionDistance', 'CompetitionOpenSinceMonth',\n",
       "       'CompetitionOpenSinceYear', 'Promo2SinceWeek', 'Promo2SinceYear',\n",
       "       'StoreType_a', 'StoreType_b', 'StoreType_c', 'StoreType_d',\n",
       "       'Assortment_a', 'Assortment_b', 'Assortment_c', 'StateHoliday_b',\n",
       "       'StateHoliday_c'],\n",
       "      dtype='object')"
      ]
     },
     "execution_count": 54,
     "metadata": {},
     "output_type": "execute_result"
    }
   ],
   "source": [
    "df3.columns"
   ]
  },
  {
   "cell_type": "markdown",
   "id": "e6df3b3c",
   "metadata": {},
   "source": [
    "## Visualización de los datos"
   ]
  },
  {
   "cell_type": "markdown",
   "id": "7dcc725c",
   "metadata": {},
   "source": [
    "#### Promo:"
   ]
  },
  {
   "cell_type": "code",
   "execution_count": 55,
   "id": "4f7a93c9",
   "metadata": {},
   "outputs": [
    {
     "name": "stderr",
     "output_type": "stream",
     "text": [
      "C:\\Users\\ninel\\AppData\\Local\\Temp\\ipykernel_19684\\1055553618.py:2: FutureWarning: Indexing with multiple keys (implicitly converted to a tuple of keys) will be deprecated, use a list instead.\n",
      "  promo_sales_customers = df.groupby('Promo')['Sales', 'Customers'].mean()\n"
     ]
    },
    {
     "data": {
      "image/png": "[encoded data removed]",
      "text/plain": [
       "<Figure size 800x500 with 1 Axes>"
      ]
     },
     "metadata": {},
     "output_type": "display_data"
    },
    {
     "data": {
      "image/png": "[encoded data removed]",
      "text/plain": [
       "<Figure size 800x500 with 1 Axes>"
      ]
     },
     "metadata": {},
     "output_type": "display_data"
    }
   ],
   "source": [
    "# Agrupamos los datos por la variable \"Promo\" y calculamos la media de ventas y clientes para cada grupo\n",
    "promo_sales_customers = df.groupby('Promo')['Sales', 'Customers'].mean()\n",
    "\n",
    "# Creamos el gráfico de barras para la relación entre \"Promo\" y \"Sales\"\n",
    "plt.figure(figsize=(8, 5))\n",
    "colors_sales = ['steelblue', 'salmon']\n",
    "plt.bar(promo_sales_customers.index, promo_sales_customers['Sales'], color = colors_sales)\n",
    "plt.xlabel('Promo')\n",
    "plt.ylabel('Sales')\n",
    "plt.title('Promo vs Sales')\n",
    "plt.xticks([0, 1], ['No Promo', 'Promo'])\n",
    "plt.show()\n",
    "\n",
    "# Creamos el gráfico de barras para la relación entre \"Promo\" y \"Customers\"\n",
    "plt.figure(figsize=(8, 5))\n",
    "colors_customers = ['steelblue', 'salmon']\n",
    "plt.bar(promo_sales_customers.index, promo_sales_customers['Customers'], color = colors_customers)\n",
    "plt.xlabel('Promo')\n",
    "plt.ylabel('Customers')\n",
    "plt.title('Promo vs Customers')\n",
    "plt.xticks([0, 1], ['No Promo', 'Promo'])\n",
    "plt.show()"
   ]
  },
  {
   "cell_type": "markdown",
   "id": "53e3a994",
   "metadata": {},
   "source": [
    "* En los gráficos podemos ver como las ventas y el número de clientes aumentan considerablemente los días que hay promociones."
   ]
  },
  {
   "cell_type": "markdown",
   "id": "c20d55d6",
   "metadata": {},
   "source": [
    "#### Sales:"
   ]
  },
  {
   "cell_type": "code",
   "execution_count": 56,
   "id": "576d3ee8",
   "metadata": {},
   "outputs": [
    {
     "data": {
      "image/png": "[encoded data removed]",
      "text/plain": [
       "<Figure size 1200x600 with 1 Axes>"
      ]
     },
     "metadata": {},
     "output_type": "display_data"
    }
   ],
   "source": [
    "# Calculamos el promedio de ventas por semana\n",
    "average_sales_per_week = df.groupby('Week')['Sales'].mean()\n",
    "\n",
    "# Calculamos el porcentaje de cambio en las ventas por semana\n",
    "sales_percent_change_per_week = df.groupby('Week')['Sales'].pct_change() * 100\n",
    "\n",
    "# Creamos el gráfico del promedio de ventas por semana\n",
    "plt.figure(figsize=(12, 6)) \n",
    "plt.plot(average_sales_per_week.index, average_sales_per_week.values, marker='o', linestyle='-', color='blue')\n",
    "\n",
    "# Agregamos etiquetas y título\n",
    "plt.xlabel('Semana del Año')\n",
    "plt.ylabel('Ventas Promedio por Semana')\n",
    "plt.title('Promedio de Ventas por Semana')\n",
    "\n",
    "# Mostramos el gráfico\n",
    "plt.tight_layout()  \n",
    "plt.grid()  \n",
    "plt.show()"
   ]
  },
  {
   "cell_type": "markdown",
   "id": "3ea8b6d6",
   "metadata": {},
   "source": [
    "* En el gráfico podemos observar como las ventas aumentan en las últimas semanas del año, coincidiendo con la Navidad y con las ofertas de descuento de fin de año. "
   ]
  },
  {
   "cell_type": "markdown",
   "id": "057f377c",
   "metadata": {},
   "source": [
    "#### DayOfWeek:"
   ]
  },
  {
   "cell_type": "code",
   "execution_count": 57,
   "id": "2f98cf4c",
   "metadata": {},
   "outputs": [
    {
     "data": {
      "image/png": "[encoded data removed]",
      "text/plain": [
       "<Figure size 1000x600 with 1 Axes>"
      ]
     },
     "metadata": {},
     "output_type": "display_data"
    },
    {
     "data": {
      "image/png": "[encoded data removed]",
      "text/plain": [
       "<Figure size 1000x600 with 1 Axes>"
      ]
     },
     "metadata": {},
     "output_type": "display_data"
    }
   ],
   "source": [
    "# Definimos la lista de colores para cada día de la semana (colores personalizados)\n",
    "colores_personalizados = ['#1f77b4', '#ff7f0e', '#2ca02c', '#d62728', '#9467bd', '#8c564b', '#e377c2']\n",
    "\n",
    "# Agrupamos las ventas y clientes por día de la semana y calculamos la media\n",
    "ventas_por_dia_semana = df.groupby('DayOfWeek')['Sales'].mean()\n",
    "clientes_por_dia_semana = df.groupby('DayOfWeek')['Customers'].mean()\n",
    "\n",
    "# Creamos el gráfico de líneas para la relación entre \"Sales\" y \"DayOfWeek\"\n",
    "plt.figure(figsize=(10, 6))\n",
    "for i, (day, sales) in enumerate(ventas_por_dia_semana.items()):\n",
    "    plt.plot(day, sales, marker='o', linestyle='-', color=colores_personalizados[i])\n",
    "plt.xlabel('Day of week')\n",
    "plt.ylabel('Sales')\n",
    "plt.title('Ventas por día de la semana')\n",
    "plt.xticks(range(1, 8), ['Lunes', 'Martes', 'Miércoles', 'Jueves', 'Viernes', 'Sábado', 'Domingo'])\n",
    "plt.grid()\n",
    "plt.show()\n",
    "\n",
    "# Creamos el gráfico de líneas para la relación entre \"Customers\" y \"DayOfWeek\"\n",
    "plt.figure(figsize=(10, 6))\n",
    "for i, (day, customers) in enumerate(clientes_por_dia_semana.items()):\n",
    "    plt.plot(day, customers, marker='o', linestyle='-', color=colores_personalizados[i])\n",
    "plt.xlabel('Day of Week')\n",
    "plt.ylabel('Customers')\n",
    "plt.title('Clientes Promedio por Día de la Semana')\n",
    "plt.xticks(range(1, 8), ['Lunes', 'Martes', 'Miércoles', 'Jueves', 'Viernes', 'Sábado', 'Domingo'])\n",
    "plt.grid()\n",
    "plt.show()"
   ]
  },
  {
   "cell_type": "markdown",
   "id": "b7d9bf38",
   "metadata": {},
   "source": [
    "* En el gráfico podemos ver que el día con menor ventas y clientes es el Domingo. Esto podría deberse a que la mayoría de las tiendas están cerradas ese día. Por otro lado el día con mayor ventas y clientes es el Lunes, el motivo podría ir relacionado  al echo de que las tiendas están cerradas el día anterior. "
   ]
  },
  {
   "cell_type": "markdown",
   "id": "8d9eeb4d",
   "metadata": {},
   "source": [
    "#### StoreType:"
   ]
  },
  {
   "cell_type": "code",
   "execution_count": 58,
   "id": "1bc3f425",
   "metadata": {},
   "outputs": [
    {
     "name": "stderr",
     "output_type": "stream",
     "text": [
      "C:\\Users\\ninel\\AppData\\Local\\Temp\\ipykernel_19684\\843631307.py:3: FutureWarning: Indexing with multiple keys (implicitly converted to a tuple of keys) will be deprecated, use a list instead.\n",
      "  sales_customers_by_store_type = df.groupby(['StoreType_a', 'StoreType_b', 'StoreType_c', 'StoreType_d'])['Customers', 'Sales'].sum()\n"
     ]
    },
    {
     "data": {
      "text/html": [
       "<div>\n",
       "<style scoped>\n",
       "    .dataframe tbody tr th:only-of-type {\n",
       "        vertical-align: middle;\n",
       "    }\n",
       "\n",
       "    .dataframe tbody tr th {\n",
       "        vertical-align: top;\n",
       "    }\n",
       "\n",
       "    .dataframe thead th {\n",
       "        text-align: right;\n",
       "    }\n",
       "</style>\n",
       "<table border=\"1\" class=\"dataframe\">\n",
       "  <thead>\n",
       "    <tr style=\"text-align: right;\">\n",
       "      <th></th>\n",
       "      <th></th>\n",
       "      <th></th>\n",
       "      <th></th>\n",
       "      <th>Customers</th>\n",
       "      <th>Sales</th>\n",
       "    </tr>\n",
       "    <tr>\n",
       "      <th>StoreType_a</th>\n",
       "      <th>StoreType_b</th>\n",
       "      <th>StoreType_c</th>\n",
       "      <th>StoreType_d</th>\n",
       "      <th></th>\n",
       "      <th></th>\n",
       "    </tr>\n",
       "  </thead>\n",
       "  <tbody>\n",
       "    <tr>\n",
       "      <th rowspan=\"3\" valign=\"top\">0</th>\n",
       "      <th rowspan=\"2\" valign=\"top\">0</th>\n",
       "      <th>0</th>\n",
       "      <th>1</th>\n",
       "      <td>154917664</td>\n",
       "      <td>1744782439</td>\n",
       "    </tr>\n",
       "    <tr>\n",
       "      <th>1</th>\n",
       "      <th>0</th>\n",
       "      <td>89320866</td>\n",
       "      <td>756397664</td>\n",
       "    </tr>\n",
       "    <tr>\n",
       "      <th>1</th>\n",
       "      <th>0</th>\n",
       "      <th>0</th>\n",
       "      <td>11487273</td>\n",
       "      <td>59294922</td>\n",
       "    </tr>\n",
       "    <tr>\n",
       "      <th>1</th>\n",
       "      <th>0</th>\n",
       "      <th>0</th>\n",
       "      <th>0</th>\n",
       "      <td>338297296</td>\n",
       "      <td>2965518150</td>\n",
       "    </tr>\n",
       "  </tbody>\n",
       "</table>\n",
       "</div>"
      ],
      "text/plain": [
       "                                                 Customers       Sales\n",
       "StoreType_a StoreType_b StoreType_c StoreType_d                       \n",
       "0           0           0           1            154917664  1744782439\n",
       "                        1           0             89320866   756397664\n",
       "            1           0           0             11487273    59294922\n",
       "1           0           0           0            338297296  2965518150"
      ]
     },
     "metadata": {},
     "output_type": "display_data"
    }
   ],
   "source": [
    "from IPython.display import display\n",
    "# Agrupamos los datos por cada tipo de tienda (StoreType_a, StoreType_b, StoreType_c, StoreType_ad) y calculamos la suma de \"Customers\" y \"Sales\" para cada tipo\n",
    "sales_customers_by_store_type = df.groupby(['StoreType_a', 'StoreType_b', 'StoreType_c', 'StoreType_d'])['Customers', 'Sales'].sum()\n",
    "\n",
    "# Mostramos el cuadro con los valores de \"Customers\" y \"Sales\" para cada tipo de tienda\n",
    "display(sales_customers_by_store_type)"
   ]
  },
  {
   "cell_type": "markdown",
   "id": "81b10c7a",
   "metadata": {},
   "source": [
    "* Podemos ver en la tabla que las tiendas de tipo A tienen mayor cantidad de ventas y clientes, seguidas por las tiendas de tipo D"
   ]
  },
  {
   "cell_type": "markdown",
   "id": "f4e066c1",
   "metadata": {},
   "source": [
    "## Modelos de predicción "
   ]
  },
  {
   "cell_type": "markdown",
   "id": "11a278a4",
   "metadata": {},
   "source": [
    "### Regresión lineal con Keras"
   ]
  },
  {
   "cell_type": "markdown",
   "id": "5b03de2b",
   "metadata": {},
   "source": [
    "* Predicción del número de consumidores"
   ]
  },
  {
   "cell_type": "code",
   "execution_count": 59,
   "id": "9da22023",
   "metadata": {},
   "outputs": [],
   "source": [
    "# División de datos\n",
    "x_train = df[df3.columns]\n",
    "y_train = df[\"Customers\"]\n",
    "\n",
    "x_test = df3"
   ]
  },
  {
   "cell_type": "code",
   "execution_count": 60,
   "id": "ef829c0f",
   "metadata": {},
   "outputs": [],
   "source": [
    "# Standard Scaler\n",
    "from sklearn.preprocessing import StandardScaler"
   ]
  },
  {
   "cell_type": "code",
   "execution_count": 61,
   "id": "12c6a4cc",
   "metadata": {},
   "outputs": [],
   "source": [
    "sc = StandardScaler()\n",
    "\n",
    "x_train = sc.fit_transform(x_train)\n",
    "x_test = sc.transform(x_test)"
   ]
  },
  {
   "cell_type": "code",
   "execution_count": 62,
   "id": "edd11134",
   "metadata": {},
   "outputs": [],
   "source": [
    "# PCA\n",
    "from sklearn.decomposition import PCA\n",
    "\n",
    "pca = PCA()\n",
    "x_train = pca.fit_transform(x_train)\n",
    "x_test = pca.transform(x_test)"
   ]
  },
  {
   "cell_type": "code",
   "execution_count": 63,
   "id": "a9491a7a",
   "metadata": {},
   "outputs": [
    {
     "data": {
      "text/plain": [
       "array([1.16397854e-01, 9.25954501e-02, 8.77980124e-02, 8.21448876e-02,\n",
       "       6.91822771e-02, 6.84523539e-02, 6.36628319e-02, 5.35359187e-02,\n",
       "       4.93408802e-02, 4.22489841e-02, 3.79429661e-02, 3.78487921e-02,\n",
       "       3.41506706e-02, 3.34270245e-02, 3.13929667e-02, 2.89658420e-02,\n",
       "       2.52101443e-02, 1.32040649e-02, 1.21310554e-02, 1.10822164e-02,\n",
       "       8.05199163e-03, 1.23278985e-03, 2.51700157e-08, 7.63956869e-32,\n",
       "       3.24156390e-32, 1.68336970e-32])"
      ]
     },
     "execution_count": 63,
     "metadata": {},
     "output_type": "execute_result"
    }
   ],
   "source": [
    "explained_variance = pca.explained_variance_ratio_\n",
    "explained_variance"
   ]
  },
  {
   "cell_type": "code",
   "execution_count": 64,
   "id": "e7c8b2ff",
   "metadata": {},
   "outputs": [
    {
     "data": {
      "text/plain": [
       "((984573, 26), (984573,), (40261, 26))"
      ]
     },
     "execution_count": 64,
     "metadata": {},
     "output_type": "execute_result"
    }
   ],
   "source": [
    "x_train.shape, y_train.shape, x_test.shape"
   ]
  },
  {
   "cell_type": "markdown",
   "id": "4623d8fc",
   "metadata": {},
   "source": [
    "##### Librerías"
   ]
  },
  {
   "cell_type": "code",
   "execution_count": 65,
   "id": "428a07f2",
   "metadata": {},
   "outputs": [],
   "source": [
    "from keras import Sequential        # modelo secuencial\n",
    "from keras.layers import Dense      # capa densa, full conectes\n",
    "\n",
    "from keras.callbacks import Callback, EarlyStopping   # progreso  # para parar antes\n",
    "\n",
    "from tensorflow.keras.optimizers.legacy import RMSprop  #optimizador, el que hace las derivadas"
   ]
  },
  {
   "cell_type": "code",
   "execution_count": 66,
   "id": "ee047546",
   "metadata": {},
   "outputs": [],
   "source": [
    "model = Sequential() # inicializa una red vacia\n",
    "\n",
    "model.add(Dense(128, activation='relu', input_shape=[x_train.shape[1]]))\n",
    "\n",
    "model.add(Dense(128, activation='relu'))\n",
    "\n",
    "model.add(Dense(64, activation='relu'))\n",
    "\n",
    "model.add(Dense(64, activation='relu'))\n",
    "\n",
    "model.add(Dense(32, activation='relu'))\n",
    "\n",
    "model.add(Dense(1))\n",
    "\n",
    "\n",
    "\n",
    "optimizer = RMSprop(0.001)\n",
    "\n",
    "\n",
    "\n",
    "model.compile(loss='mse', optimizer=optimizer, metrics=['mae', 'mse'])  "
   ]
  },
  {
   "cell_type": "code",
   "execution_count": 67,
   "id": "8b77dd7e",
   "metadata": {},
   "outputs": [
    {
     "name": "stdout",
     "output_type": "stream",
     "text": [
      "Model: \"sequential\"\n",
      "_________________________________________________________________\n",
      " Layer (type)                Output Shape              Param #   \n",
      "=================================================================\n",
      " dense (Dense)               (None, 128)               3456      \n",
      "                                                                 \n",
      " dense_1 (Dense)             (None, 128)               16512     \n",
      "                                                                 \n",
      " dense_2 (Dense)             (None, 64)                8256      \n",
      "                                                                 \n",
      " dense_3 (Dense)             (None, 64)                4160      \n",
      "                                                                 \n",
      " dense_4 (Dense)             (None, 32)                2080      \n",
      "                                                                 \n",
      " dense_5 (Dense)             (None, 1)                 33        \n",
      "                                                                 \n",
      "=================================================================\n",
      "Total params: 34,497\n",
      "Trainable params: 34,497\n",
      "Non-trainable params: 0\n",
      "_________________________________________________________________\n"
     ]
    }
   ],
   "source": [
    "model.summary()"
   ]
  },
  {
   "cell_type": "code",
   "execution_count": 68,
   "id": "e01fb33f",
   "metadata": {},
   "outputs": [],
   "source": [
    "early_stop = EarlyStopping(monitor='val_loss', patience=3)"
   ]
  },
  {
   "cell_type": "code",
   "execution_count": 69,
   "id": "93a2c744",
   "metadata": {},
   "outputs": [
    {
     "name": "stdout",
     "output_type": "stream",
     "text": [
      "Epoch 1/10\n",
      "24615/24615 [==============================] - 27s 1ms/step - loss: 42620.7812 - mae: 138.6712 - mse: 42620.7812 - val_loss: 70838.9297 - val_mae: 181.7944 - val_mse: 70838.9297\n",
      "Epoch 2/10\n",
      "24615/24615 [==============================] - 26s 1ms/step - loss: 19991.3613 - mae: 92.4772 - mse: 19991.3613 - val_loss: 94378.5547 - val_mae: 209.3346 - val_mse: 94378.5547\n",
      "Epoch 3/10\n",
      "24615/24615 [==============================] - 26s 1ms/step - loss: 14364.2764 - mae: 76.9455 - mse: 14364.2764 - val_loss: 114685.3281 - val_mae: 224.8055 - val_mse: 114685.3281\n",
      "Epoch 4/10\n",
      "24615/24615 [==============================] - 27s 1ms/step - loss: 12262.1533 - mae: 70.4410 - mse: 12262.1533 - val_loss: 99459.0625 - val_mae: 211.0282 - val_mse: 99459.0625\n"
     ]
    },
    {
     "data": {
      "text/plain": [
       "<keras.callbacks.History at 0x20fb4f765c0>"
      ]
     },
     "execution_count": 69,
     "metadata": {},
     "output_type": "execute_result"
    }
   ],
   "source": [
    "model.fit(x_train, y_train, validation_split=0.2, epochs=10, callbacks=early_stop)"
   ]
  },
  {
   "cell_type": "code",
   "execution_count": 70,
   "id": "6c152455",
   "metadata": {},
   "outputs": [
    {
     "name": "stdout",
     "output_type": "stream",
     "text": [
      "1259/1259 [==============================] - 1s 591us/step\n"
     ]
    }
   ],
   "source": [
    "y_pred_customer = model.predict(x_test).flatten()"
   ]
  },
  {
   "cell_type": "code",
   "execution_count": 71,
   "id": "c08c4f45",
   "metadata": {},
   "outputs": [
    {
     "data": {
      "text/plain": [
       "array([532.15656  , 503.9829   , 560.21954  , ...,   6.2121115,\n",
       "       155.15274  ,   7.8097944], dtype=float32)"
      ]
     },
     "execution_count": 71,
     "metadata": {},
     "output_type": "execute_result"
    }
   ],
   "source": [
    "y_pred_customer"
   ]
  },
  {
   "cell_type": "code",
   "execution_count": 72,
   "id": "6b6738a2",
   "metadata": {},
   "outputs": [],
   "source": [
    " y_pred_customer = y_pred_customer.round().astype(\"int64\")"
   ]
  },
  {
   "cell_type": "code",
   "execution_count": 73,
   "id": "e3a4fdc3",
   "metadata": {},
   "outputs": [],
   "source": [
    "# Al visualizar el df en powerbi vi que habia 1 dia en los cuales la tienda estaba cerrada y habia ventas.\n",
    "#Esto es debido a nuestro modelo de prediccion. Por ello pongo a cero las ventas de ese dia."
   ]
  },
  {
   "cell_type": "code",
   "execution_count": 74,
   "id": "17fcca4d",
   "metadata": {},
   "outputs": [],
   "source": [
    "df2[\"Customers\"] = y_pred_customer\n",
    "df3[\"Customers\"] = y_pred_customer"
   ]
  },
  {
   "cell_type": "code",
   "execution_count": 75,
   "id": "4a80b500",
   "metadata": {},
   "outputs": [],
   "source": [
    "# Al visualizar el df en powerbi vi que habia 1 dia en los cuales la tienda estaba cerrada y habia customers.\n",
    "#Esto es debido a nuestro modelo de prediccion. Por ello pongo a cero las customers de ese dia.\n",
    "\n",
    "for x in range(df2.shape[0]):\n",
    "    if df2[\"Open\"][x] == 0:\n",
    "        df2.iloc[x, df.columns.get_loc(\"Customers\")] = 0\n",
    "        \n",
    "for x in range(df3.shape[0]):\n",
    "    if df3[\"Open\"][x] == 0:\n",
    "        df3.iloc[x, df.columns.get_loc(\"Customers\")] = 0"
   ]
  },
  {
   "cell_type": "code",
   "execution_count": 76,
   "id": "ceb993b1",
   "metadata": {},
   "outputs": [
    {
     "data": {
      "text/html": [
       "<div>\n",
       "<style scoped>\n",
       "    .dataframe tbody tr th:only-of-type {\n",
       "        vertical-align: middle;\n",
       "    }\n",
       "\n",
       "    .dataframe tbody tr th {\n",
       "        vertical-align: top;\n",
       "    }\n",
       "\n",
       "    .dataframe thead th {\n",
       "        text-align: right;\n",
       "    }\n",
       "</style>\n",
       "<table border=\"1\" class=\"dataframe\">\n",
       "  <thead>\n",
       "    <tr style=\"text-align: right;\">\n",
       "      <th></th>\n",
       "      <th>Store</th>\n",
       "      <th>DayOfWeek</th>\n",
       "      <th>Date</th>\n",
       "      <th>Open</th>\n",
       "      <th>Promo</th>\n",
       "      <th>SchoolHoliday</th>\n",
       "      <th>StateHoliday_0</th>\n",
       "      <th>StateHoliday_a</th>\n",
       "      <th>Week</th>\n",
       "      <th>Month</th>\n",
       "      <th>...</th>\n",
       "      <th>StoreType_a</th>\n",
       "      <th>StoreType_b</th>\n",
       "      <th>StoreType_c</th>\n",
       "      <th>StoreType_d</th>\n",
       "      <th>Assortment_a</th>\n",
       "      <th>Assortment_b</th>\n",
       "      <th>Assortment_c</th>\n",
       "      <th>StateHoliday_b</th>\n",
       "      <th>StateHoliday_c</th>\n",
       "      <th>Customers</th>\n",
       "    </tr>\n",
       "  </thead>\n",
       "  <tbody>\n",
       "    <tr>\n",
       "      <th>0</th>\n",
       "      <td>1</td>\n",
       "      <td>4</td>\n",
       "      <td>2015-09-17</td>\n",
       "      <td>1</td>\n",
       "      <td>1</td>\n",
       "      <td>0</td>\n",
       "      <td>1</td>\n",
       "      <td>0</td>\n",
       "      <td>38</td>\n",
       "      <td>9</td>\n",
       "      <td>...</td>\n",
       "      <td>0</td>\n",
       "      <td>0</td>\n",
       "      <td>1</td>\n",
       "      <td>0</td>\n",
       "      <td>1</td>\n",
       "      <td>0</td>\n",
       "      <td>0</td>\n",
       "      <td>0</td>\n",
       "      <td>0</td>\n",
       "      <td>532</td>\n",
       "    </tr>\n",
       "    <tr>\n",
       "      <th>1</th>\n",
       "      <td>1</td>\n",
       "      <td>3</td>\n",
       "      <td>2015-09-16</td>\n",
       "      <td>1</td>\n",
       "      <td>1</td>\n",
       "      <td>0</td>\n",
       "      <td>1</td>\n",
       "      <td>0</td>\n",
       "      <td>38</td>\n",
       "      <td>9</td>\n",
       "      <td>...</td>\n",
       "      <td>0</td>\n",
       "      <td>0</td>\n",
       "      <td>1</td>\n",
       "      <td>0</td>\n",
       "      <td>1</td>\n",
       "      <td>0</td>\n",
       "      <td>0</td>\n",
       "      <td>0</td>\n",
       "      <td>0</td>\n",
       "      <td>504</td>\n",
       "    </tr>\n",
       "    <tr>\n",
       "      <th>2</th>\n",
       "      <td>1</td>\n",
       "      <td>2</td>\n",
       "      <td>2015-09-15</td>\n",
       "      <td>1</td>\n",
       "      <td>1</td>\n",
       "      <td>0</td>\n",
       "      <td>1</td>\n",
       "      <td>0</td>\n",
       "      <td>38</td>\n",
       "      <td>9</td>\n",
       "      <td>...</td>\n",
       "      <td>0</td>\n",
       "      <td>0</td>\n",
       "      <td>1</td>\n",
       "      <td>0</td>\n",
       "      <td>1</td>\n",
       "      <td>0</td>\n",
       "      <td>0</td>\n",
       "      <td>0</td>\n",
       "      <td>0</td>\n",
       "      <td>560</td>\n",
       "    </tr>\n",
       "    <tr>\n",
       "      <th>3</th>\n",
       "      <td>1</td>\n",
       "      <td>1</td>\n",
       "      <td>2015-09-14</td>\n",
       "      <td>1</td>\n",
       "      <td>1</td>\n",
       "      <td>0</td>\n",
       "      <td>1</td>\n",
       "      <td>0</td>\n",
       "      <td>38</td>\n",
       "      <td>9</td>\n",
       "      <td>...</td>\n",
       "      <td>0</td>\n",
       "      <td>0</td>\n",
       "      <td>1</td>\n",
       "      <td>0</td>\n",
       "      <td>1</td>\n",
       "      <td>0</td>\n",
       "      <td>0</td>\n",
       "      <td>0</td>\n",
       "      <td>0</td>\n",
       "      <td>661</td>\n",
       "    </tr>\n",
       "    <tr>\n",
       "      <th>4</th>\n",
       "      <td>1</td>\n",
       "      <td>7</td>\n",
       "      <td>2015-09-13</td>\n",
       "      <td>0</td>\n",
       "      <td>0</td>\n",
       "      <td>0</td>\n",
       "      <td>1</td>\n",
       "      <td>0</td>\n",
       "      <td>37</td>\n",
       "      <td>9</td>\n",
       "      <td>...</td>\n",
       "      <td>0</td>\n",
       "      <td>0</td>\n",
       "      <td>1</td>\n",
       "      <td>0</td>\n",
       "      <td>1</td>\n",
       "      <td>0</td>\n",
       "      <td>0</td>\n",
       "      <td>0</td>\n",
       "      <td>0</td>\n",
       "      <td>-2</td>\n",
       "    </tr>\n",
       "    <tr>\n",
       "      <th>...</th>\n",
       "      <td>...</td>\n",
       "      <td>...</td>\n",
       "      <td>...</td>\n",
       "      <td>...</td>\n",
       "      <td>...</td>\n",
       "      <td>...</td>\n",
       "      <td>...</td>\n",
       "      <td>...</td>\n",
       "      <td>...</td>\n",
       "      <td>...</td>\n",
       "      <td>...</td>\n",
       "      <td>...</td>\n",
       "      <td>...</td>\n",
       "      <td>...</td>\n",
       "      <td>...</td>\n",
       "      <td>...</td>\n",
       "      <td>...</td>\n",
       "      <td>...</td>\n",
       "      <td>...</td>\n",
       "      <td>...</td>\n",
       "      <td>...</td>\n",
       "    </tr>\n",
       "    <tr>\n",
       "      <th>40256</th>\n",
       "      <td>1094</td>\n",
       "      <td>6</td>\n",
       "      <td>2015-08-15</td>\n",
       "      <td>0</td>\n",
       "      <td>0</td>\n",
       "      <td>0</td>\n",
       "      <td>0</td>\n",
       "      <td>1</td>\n",
       "      <td>33</td>\n",
       "      <td>8</td>\n",
       "      <td>...</td>\n",
       "      <td>0</td>\n",
       "      <td>0</td>\n",
       "      <td>0</td>\n",
       "      <td>1</td>\n",
       "      <td>1</td>\n",
       "      <td>0</td>\n",
       "      <td>0</td>\n",
       "      <td>0</td>\n",
       "      <td>0</td>\n",
       "      <td>6</td>\n",
       "    </tr>\n",
       "    <tr>\n",
       "      <th>40257</th>\n",
       "      <td>1102</td>\n",
       "      <td>6</td>\n",
       "      <td>2015-08-15</td>\n",
       "      <td>0</td>\n",
       "      <td>0</td>\n",
       "      <td>0</td>\n",
       "      <td>0</td>\n",
       "      <td>1</td>\n",
       "      <td>33</td>\n",
       "      <td>8</td>\n",
       "      <td>...</td>\n",
       "      <td>1</td>\n",
       "      <td>0</td>\n",
       "      <td>0</td>\n",
       "      <td>0</td>\n",
       "      <td>1</td>\n",
       "      <td>0</td>\n",
       "      <td>0</td>\n",
       "      <td>0</td>\n",
       "      <td>0</td>\n",
       "      <td>5</td>\n",
       "    </tr>\n",
       "    <tr>\n",
       "      <th>40258</th>\n",
       "      <td>1104</td>\n",
       "      <td>6</td>\n",
       "      <td>2015-08-15</td>\n",
       "      <td>0</td>\n",
       "      <td>0</td>\n",
       "      <td>0</td>\n",
       "      <td>0</td>\n",
       "      <td>1</td>\n",
       "      <td>33</td>\n",
       "      <td>8</td>\n",
       "      <td>...</td>\n",
       "      <td>0</td>\n",
       "      <td>0</td>\n",
       "      <td>0</td>\n",
       "      <td>1</td>\n",
       "      <td>1</td>\n",
       "      <td>0</td>\n",
       "      <td>0</td>\n",
       "      <td>0</td>\n",
       "      <td>0</td>\n",
       "      <td>6</td>\n",
       "    </tr>\n",
       "    <tr>\n",
       "      <th>40259</th>\n",
       "      <td>1107</td>\n",
       "      <td>6</td>\n",
       "      <td>2015-08-15</td>\n",
       "      <td>1</td>\n",
       "      <td>0</td>\n",
       "      <td>0</td>\n",
       "      <td>0</td>\n",
       "      <td>1</td>\n",
       "      <td>33</td>\n",
       "      <td>8</td>\n",
       "      <td>...</td>\n",
       "      <td>1</td>\n",
       "      <td>0</td>\n",
       "      <td>0</td>\n",
       "      <td>0</td>\n",
       "      <td>1</td>\n",
       "      <td>0</td>\n",
       "      <td>0</td>\n",
       "      <td>0</td>\n",
       "      <td>0</td>\n",
       "      <td>155</td>\n",
       "    </tr>\n",
       "    <tr>\n",
       "      <th>40260</th>\n",
       "      <td>1109</td>\n",
       "      <td>6</td>\n",
       "      <td>2015-08-15</td>\n",
       "      <td>0</td>\n",
       "      <td>0</td>\n",
       "      <td>0</td>\n",
       "      <td>0</td>\n",
       "      <td>1</td>\n",
       "      <td>33</td>\n",
       "      <td>8</td>\n",
       "      <td>...</td>\n",
       "      <td>0</td>\n",
       "      <td>0</td>\n",
       "      <td>1</td>\n",
       "      <td>0</td>\n",
       "      <td>1</td>\n",
       "      <td>0</td>\n",
       "      <td>0</td>\n",
       "      <td>0</td>\n",
       "      <td>0</td>\n",
       "      <td>8</td>\n",
       "    </tr>\n",
       "  </tbody>\n",
       "</table>\n",
       "<p>40261 rows × 28 columns</p>\n",
       "</div>"
      ],
      "text/plain": [
       "       Store  DayOfWeek       Date  Open  Promo  SchoolHoliday  \\\n",
       "0          1          4 2015-09-17     1      1              0   \n",
       "1          1          3 2015-09-16     1      1              0   \n",
       "2          1          2 2015-09-15     1      1              0   \n",
       "3          1          1 2015-09-14     1      1              0   \n",
       "4          1          7 2015-09-13     0      0              0   \n",
       "...      ...        ...        ...   ...    ...            ...   \n",
       "40256   1094          6 2015-08-15     0      0              0   \n",
       "40257   1102          6 2015-08-15     0      0              0   \n",
       "40258   1104          6 2015-08-15     0      0              0   \n",
       "40259   1107          6 2015-08-15     1      0              0   \n",
       "40260   1109          6 2015-08-15     0      0              0   \n",
       "\n",
       "       StateHoliday_0  StateHoliday_a  Week  Month  ...  StoreType_a  \\\n",
       "0                   1               0    38      9  ...            0   \n",
       "1                   1               0    38      9  ...            0   \n",
       "2                   1               0    38      9  ...            0   \n",
       "3                   1               0    38      9  ...            0   \n",
       "4                   1               0    37      9  ...            0   \n",
       "...               ...             ...   ...    ...  ...          ...   \n",
       "40256               0               1    33      8  ...            0   \n",
       "40257               0               1    33      8  ...            1   \n",
       "40258               0               1    33      8  ...            0   \n",
       "40259               0               1    33      8  ...            1   \n",
       "40260               0               1    33      8  ...            0   \n",
       "\n",
       "       StoreType_b  StoreType_c  StoreType_d  Assortment_a  Assortment_b  \\\n",
       "0                0            1            0             1             0   \n",
       "1                0            1            0             1             0   \n",
       "2                0            1            0             1             0   \n",
       "3                0            1            0             1             0   \n",
       "4                0            1            0             1             0   \n",
       "...            ...          ...          ...           ...           ...   \n",
       "40256            0            0            1             1             0   \n",
       "40257            0            0            0             1             0   \n",
       "40258            0            0            1             1             0   \n",
       "40259            0            0            0             1             0   \n",
       "40260            0            1            0             1             0   \n",
       "\n",
       "       Assortment_c  StateHoliday_b  StateHoliday_c  Customers  \n",
       "0                 0               0               0        532  \n",
       "1                 0               0               0        504  \n",
       "2                 0               0               0        560  \n",
       "3                 0               0               0        661  \n",
       "4                 0               0               0         -2  \n",
       "...             ...             ...             ...        ...  \n",
       "40256             0               0               0          6  \n",
       "40257             0               0               0          5  \n",
       "40258             0               0               0          6  \n",
       "40259             0               0               0        155  \n",
       "40260             0               0               0          8  \n",
       "\n",
       "[40261 rows x 28 columns]"
      ]
     },
     "execution_count": 76,
     "metadata": {},
     "output_type": "execute_result"
    }
   ],
   "source": [
    "df2"
   ]
  },
  {
   "cell_type": "code",
   "execution_count": 77,
   "id": "cf15d7c6",
   "metadata": {},
   "outputs": [
    {
     "data": {
      "text/plain": [
       "586.878517672189"
      ]
     },
     "execution_count": 77,
     "metadata": {},
     "output_type": "execute_result"
    }
   ],
   "source": [
    "df2[\"Customers\"].mean()"
   ]
  },
  {
   "cell_type": "code",
   "execution_count": 78,
   "id": "7cb6ffc4",
   "metadata": {},
   "outputs": [
    {
     "data": {
      "text/plain": [
       "603.3306814223018"
      ]
     },
     "execution_count": 78,
     "metadata": {},
     "output_type": "execute_result"
    }
   ],
   "source": [
    "df[\"Customers\"].mean()"
   ]
  },
  {
   "cell_type": "markdown",
   "id": "7a3898ad",
   "metadata": {},
   "source": [
    "* Predicción de ventas"
   ]
  },
  {
   "cell_type": "code",
   "execution_count": 79,
   "id": "829faa9b",
   "metadata": {},
   "outputs": [],
   "source": [
    "# Division de datos\n",
    "\n",
    "x_train_sales = df[df3.columns]\n",
    "y_train_sales = df[\"Sales\"]\n",
    "\n",
    "x_test_sales = df3"
   ]
  },
  {
   "cell_type": "code",
   "execution_count": 80,
   "id": "11e5370b",
   "metadata": {},
   "outputs": [],
   "source": [
    "# Standard Scaler\n",
    "x_train_sales = sc.fit_transform(x_train_sales)\n",
    "x_test_sales = sc.transform(x_test_sales)"
   ]
  },
  {
   "cell_type": "code",
   "execution_count": 81,
   "id": "88ec806d",
   "metadata": {},
   "outputs": [],
   "source": [
    "# PCA\n",
    "pca = PCA()\n",
    "x_train_sales = pca.fit_transform(x_train_sales)\n",
    "x_test_sales = pca.transform(x_test_sales)"
   ]
  },
  {
   "cell_type": "code",
   "execution_count": 82,
   "id": "b83f350e",
   "metadata": {},
   "outputs": [
    {
     "data": {
      "text/plain": [
       "array([1.14902909e-01, 9.99605655e-02, 8.91650502e-02, 7.92712596e-02,\n",
       "       7.11781380e-02, 6.62720380e-02, 6.13089360e-02, 5.19114473e-02,\n",
       "       4.78238133e-02, 4.08225385e-02, 3.65748436e-02, 3.64724947e-02,\n",
       "       3.28860796e-02, 3.21919984e-02, 3.02401312e-02, 2.78969582e-02,\n",
       "       2.49678592e-02, 1.65439796e-02, 1.17022582e-02, 1.06723919e-02,\n",
       "       8.35870162e-03, 7.68850583e-03, 1.18707812e-03, 2.42311254e-08,\n",
       "       7.32697577e-32, 2.79473646e-32, 1.42777358e-32])"
      ]
     },
     "execution_count": 82,
     "metadata": {},
     "output_type": "execute_result"
    }
   ],
   "source": [
    "explained_variance = pca.explained_variance_ratio_\n",
    "explained_variance"
   ]
  },
  {
   "cell_type": "code",
   "execution_count": 83,
   "id": "905bebcd",
   "metadata": {},
   "outputs": [],
   "source": [
    "### Modelo prediccion de ventas\n",
    "\n",
    "model = Sequential() # inicializa una red vacia\n",
    "\n",
    "model.add(Dense(128, activation='relu', input_shape=[x_train_sales.shape[1]]))\n",
    "\n",
    "model.add(Dense(128, activation='relu'))\n",
    "\n",
    "model.add(Dense(128, activation='relu'))\n",
    "\n",
    "model.add(Dense(64, activation='relu'))\n",
    "\n",
    "model.add(Dense(64, activation='relu'))\n",
    "\n",
    "model.add(Dense(1))\n",
    "\n",
    "\n",
    "\n",
    "optimizer = RMSprop(0.001)\n",
    "\n",
    "\n",
    "\n",
    "model.compile(loss='mse', optimizer=optimizer, metrics=['mae', 'mse'])  "
   ]
  },
  {
   "cell_type": "code",
   "execution_count": 84,
   "id": "80a6960a",
   "metadata": {},
   "outputs": [
    {
     "name": "stdout",
     "output_type": "stream",
     "text": [
      "Model: \"sequential_1\"\n",
      "_________________________________________________________________\n",
      " Layer (type)                Output Shape              Param #   \n",
      "=================================================================\n",
      " dense_6 (Dense)             (None, 128)               3584      \n",
      "                                                                 \n",
      " dense_7 (Dense)             (None, 128)               16512     \n",
      "                                                                 \n",
      " dense_8 (Dense)             (None, 128)               16512     \n",
      "                                                                 \n",
      " dense_9 (Dense)             (None, 64)                8256      \n",
      "                                                                 \n",
      " dense_10 (Dense)            (None, 64)                4160      \n",
      "                                                                 \n",
      " dense_11 (Dense)            (None, 1)                 65        \n",
      "                                                                 \n",
      "=================================================================\n",
      "Total params: 49,089\n",
      "Trainable params: 49,089\n",
      "Non-trainable params: 0\n",
      "_________________________________________________________________\n"
     ]
    }
   ],
   "source": [
    "model.summary()"
   ]
  },
  {
   "cell_type": "code",
   "execution_count": 85,
   "id": "58cdbdc9",
   "metadata": {},
   "outputs": [],
   "source": [
    "early_stop = EarlyStopping(monitor='val_loss', patience=10)"
   ]
  },
  {
   "cell_type": "code",
   "execution_count": 86,
   "id": "7ba3377f",
   "metadata": {},
   "outputs": [
    {
     "name": "stdout",
     "output_type": "stream",
     "text": [
      "Epoch 1/20\n",
      "24615/24615 [==============================] - 28s 1ms/step - loss: 878703.5625 - mae: 614.2985 - mse: 878703.5625 - val_loss: 1651221.0000 - val_mae: 864.0017 - val_mse: 1651221.0000\n",
      "Epoch 2/20\n",
      "24615/24615 [==============================] - 27s 1ms/step - loss: 462906.2812 - mae: 454.0707 - mse: 462906.2812 - val_loss: 2135211.2500 - val_mae: 1011.2487 - val_mse: 2135211.2500\n",
      "Epoch 3/20\n",
      "24615/24615 [==============================] - 27s 1ms/step - loss: 328543.1250 - mae: 378.8206 - mse: 328543.1250 - val_loss: 2383578.0000 - val_mae: 1068.7180 - val_mse: 2383578.0000\n",
      "Epoch 4/20\n",
      "24615/24615 [==============================] - 27s 1ms/step - loss: 269933.0938 - mae: 341.5838 - mse: 269933.0938 - val_loss: 2996499.7500 - val_mae: 1177.7776 - val_mse: 2996499.7500\n",
      "Epoch 5/20\n",
      "24615/24615 [==============================] - 27s 1ms/step - loss: 237642.7031 - mae: 319.8339 - mse: 237642.7031 - val_loss: 2185986.5000 - val_mae: 1053.6705 - val_mse: 2185986.5000\n",
      "Epoch 6/20\n",
      "24615/24615 [==============================] - 27s 1ms/step - loss: 216506.2031 - mae: 304.4601 - mse: 216506.2031 - val_loss: 2385323.5000 - val_mae: 1060.7046 - val_mse: 2385323.5000\n",
      "Epoch 7/20\n",
      "24615/24615 [==============================] - 27s 1ms/step - loss: 204306.0781 - mae: 295.2357 - mse: 204306.0781 - val_loss: 2590942.0000 - val_mae: 1095.3418 - val_mse: 2590942.0000\n",
      "Epoch 8/20\n",
      "24615/24615 [==============================] - 27s 1ms/step - loss: 195650.8125 - mae: 289.0128 - mse: 195650.8125 - val_loss: 2374340.2500 - val_mae: 1063.0668 - val_mse: 2374340.2500\n",
      "Epoch 9/20\n",
      "24615/24615 [==============================] - 27s 1ms/step - loss: 189302.1562 - mae: 283.9839 - mse: 189302.1562 - val_loss: 2469540.5000 - val_mae: 1117.2151 - val_mse: 2469540.5000\n",
      "Epoch 10/20\n",
      "24615/24615 [==============================] - 27s 1ms/step - loss: 183304.0938 - mae: 279.4879 - mse: 183304.0938 - val_loss: 2340551.0000 - val_mae: 1069.7900 - val_mse: 2340551.0000\n",
      "Epoch 11/20\n",
      "24615/24615 [==============================] - 27s 1ms/step - loss: 179529.2344 - mae: 276.1324 - mse: 179529.2344 - val_loss: 2338498.7500 - val_mae: 1054.5559 - val_mse: 2338498.7500\n"
     ]
    },
    {
     "data": {
      "text/plain": [
       "<keras.callbacks.History at 0x20fb80da380>"
      ]
     },
     "execution_count": 86,
     "metadata": {},
     "output_type": "execute_result"
    }
   ],
   "source": [
    "model.fit(x_train_sales, y_train_sales, validation_split=0.2, epochs=20, callbacks=early_stop)"
   ]
  },
  {
   "cell_type": "code",
   "execution_count": 87,
   "id": "15332063",
   "metadata": {},
   "outputs": [
    {
     "name": "stdout",
     "output_type": "stream",
     "text": [
      "1259/1259 [==============================] - 1s 652us/step\n"
     ]
    }
   ],
   "source": [
    "y_pred_sales = model.predict(x_test_sales).flatten()"
   ]
  },
  {
   "cell_type": "code",
   "execution_count": 88,
   "id": "cf4ef6ec",
   "metadata": {},
   "outputs": [],
   "source": [
    " y_pred_sales = y_pred_sales.round().astype(\"int64\")"
   ]
  },
  {
   "cell_type": "code",
   "execution_count": 89,
   "id": "136baebe",
   "metadata": {},
   "outputs": [
    {
     "data": {
      "text/html": [
       "<div>\n",
       "<style scoped>\n",
       "    .dataframe tbody tr th:only-of-type {\n",
       "        vertical-align: middle;\n",
       "    }\n",
       "\n",
       "    .dataframe tbody tr th {\n",
       "        vertical-align: top;\n",
       "    }\n",
       "\n",
       "    .dataframe thead th {\n",
       "        text-align: right;\n",
       "    }\n",
       "</style>\n",
       "<table border=\"1\" class=\"dataframe\">\n",
       "  <thead>\n",
       "    <tr style=\"text-align: right;\">\n",
       "      <th></th>\n",
       "      <th>Store</th>\n",
       "      <th>DayOfWeek</th>\n",
       "      <th>Date</th>\n",
       "      <th>Open</th>\n",
       "      <th>Promo</th>\n",
       "      <th>SchoolHoliday</th>\n",
       "      <th>StateHoliday_0</th>\n",
       "      <th>StateHoliday_a</th>\n",
       "      <th>Week</th>\n",
       "      <th>Month</th>\n",
       "      <th>...</th>\n",
       "      <th>StoreType_b</th>\n",
       "      <th>StoreType_c</th>\n",
       "      <th>StoreType_d</th>\n",
       "      <th>Assortment_a</th>\n",
       "      <th>Assortment_b</th>\n",
       "      <th>Assortment_c</th>\n",
       "      <th>StateHoliday_b</th>\n",
       "      <th>StateHoliday_c</th>\n",
       "      <th>Customers</th>\n",
       "      <th>Sales</th>\n",
       "    </tr>\n",
       "  </thead>\n",
       "  <tbody>\n",
       "    <tr>\n",
       "      <th>0</th>\n",
       "      <td>1</td>\n",
       "      <td>4</td>\n",
       "      <td>2015-09-17</td>\n",
       "      <td>1</td>\n",
       "      <td>1</td>\n",
       "      <td>0</td>\n",
       "      <td>1</td>\n",
       "      <td>0</td>\n",
       "      <td>38</td>\n",
       "      <td>9</td>\n",
       "      <td>...</td>\n",
       "      <td>0</td>\n",
       "      <td>1</td>\n",
       "      <td>0</td>\n",
       "      <td>1</td>\n",
       "      <td>0</td>\n",
       "      <td>0</td>\n",
       "      <td>0</td>\n",
       "      <td>0</td>\n",
       "      <td>532</td>\n",
       "      <td>4970</td>\n",
       "    </tr>\n",
       "    <tr>\n",
       "      <th>1</th>\n",
       "      <td>1</td>\n",
       "      <td>3</td>\n",
       "      <td>2015-09-16</td>\n",
       "      <td>1</td>\n",
       "      <td>1</td>\n",
       "      <td>0</td>\n",
       "      <td>1</td>\n",
       "      <td>0</td>\n",
       "      <td>38</td>\n",
       "      <td>9</td>\n",
       "      <td>...</td>\n",
       "      <td>0</td>\n",
       "      <td>1</td>\n",
       "      <td>0</td>\n",
       "      <td>1</td>\n",
       "      <td>0</td>\n",
       "      <td>0</td>\n",
       "      <td>0</td>\n",
       "      <td>0</td>\n",
       "      <td>504</td>\n",
       "      <td>4854</td>\n",
       "    </tr>\n",
       "    <tr>\n",
       "      <th>2</th>\n",
       "      <td>1</td>\n",
       "      <td>2</td>\n",
       "      <td>2015-09-15</td>\n",
       "      <td>1</td>\n",
       "      <td>1</td>\n",
       "      <td>0</td>\n",
       "      <td>1</td>\n",
       "      <td>0</td>\n",
       "      <td>38</td>\n",
       "      <td>9</td>\n",
       "      <td>...</td>\n",
       "      <td>0</td>\n",
       "      <td>1</td>\n",
       "      <td>0</td>\n",
       "      <td>1</td>\n",
       "      <td>0</td>\n",
       "      <td>0</td>\n",
       "      <td>0</td>\n",
       "      <td>0</td>\n",
       "      <td>560</td>\n",
       "      <td>5559</td>\n",
       "    </tr>\n",
       "    <tr>\n",
       "      <th>3</th>\n",
       "      <td>1</td>\n",
       "      <td>1</td>\n",
       "      <td>2015-09-14</td>\n",
       "      <td>1</td>\n",
       "      <td>1</td>\n",
       "      <td>0</td>\n",
       "      <td>1</td>\n",
       "      <td>0</td>\n",
       "      <td>38</td>\n",
       "      <td>9</td>\n",
       "      <td>...</td>\n",
       "      <td>0</td>\n",
       "      <td>1</td>\n",
       "      <td>0</td>\n",
       "      <td>1</td>\n",
       "      <td>0</td>\n",
       "      <td>0</td>\n",
       "      <td>0</td>\n",
       "      <td>0</td>\n",
       "      <td>661</td>\n",
       "      <td>6702</td>\n",
       "    </tr>\n",
       "    <tr>\n",
       "      <th>4</th>\n",
       "      <td>1</td>\n",
       "      <td>7</td>\n",
       "      <td>2015-09-13</td>\n",
       "      <td>0</td>\n",
       "      <td>0</td>\n",
       "      <td>0</td>\n",
       "      <td>1</td>\n",
       "      <td>0</td>\n",
       "      <td>37</td>\n",
       "      <td>9</td>\n",
       "      <td>...</td>\n",
       "      <td>0</td>\n",
       "      <td>1</td>\n",
       "      <td>0</td>\n",
       "      <td>1</td>\n",
       "      <td>0</td>\n",
       "      <td>0</td>\n",
       "      <td>0</td>\n",
       "      <td>0</td>\n",
       "      <td>-2</td>\n",
       "      <td>444792</td>\n",
       "    </tr>\n",
       "    <tr>\n",
       "      <th>...</th>\n",
       "      <td>...</td>\n",
       "      <td>...</td>\n",
       "      <td>...</td>\n",
       "      <td>...</td>\n",
       "      <td>...</td>\n",
       "      <td>...</td>\n",
       "      <td>...</td>\n",
       "      <td>...</td>\n",
       "      <td>...</td>\n",
       "      <td>...</td>\n",
       "      <td>...</td>\n",
       "      <td>...</td>\n",
       "      <td>...</td>\n",
       "      <td>...</td>\n",
       "      <td>...</td>\n",
       "      <td>...</td>\n",
       "      <td>...</td>\n",
       "      <td>...</td>\n",
       "      <td>...</td>\n",
       "      <td>...</td>\n",
       "      <td>...</td>\n",
       "    </tr>\n",
       "    <tr>\n",
       "      <th>40256</th>\n",
       "      <td>1094</td>\n",
       "      <td>6</td>\n",
       "      <td>2015-08-15</td>\n",
       "      <td>0</td>\n",
       "      <td>0</td>\n",
       "      <td>0</td>\n",
       "      <td>0</td>\n",
       "      <td>1</td>\n",
       "      <td>33</td>\n",
       "      <td>8</td>\n",
       "      <td>...</td>\n",
       "      <td>0</td>\n",
       "      <td>0</td>\n",
       "      <td>1</td>\n",
       "      <td>1</td>\n",
       "      <td>0</td>\n",
       "      <td>0</td>\n",
       "      <td>0</td>\n",
       "      <td>0</td>\n",
       "      <td>6</td>\n",
       "      <td>448408</td>\n",
       "    </tr>\n",
       "    <tr>\n",
       "      <th>40257</th>\n",
       "      <td>1102</td>\n",
       "      <td>6</td>\n",
       "      <td>2015-08-15</td>\n",
       "      <td>0</td>\n",
       "      <td>0</td>\n",
       "      <td>0</td>\n",
       "      <td>0</td>\n",
       "      <td>1</td>\n",
       "      <td>33</td>\n",
       "      <td>8</td>\n",
       "      <td>...</td>\n",
       "      <td>0</td>\n",
       "      <td>0</td>\n",
       "      <td>0</td>\n",
       "      <td>1</td>\n",
       "      <td>0</td>\n",
       "      <td>0</td>\n",
       "      <td>0</td>\n",
       "      <td>0</td>\n",
       "      <td>5</td>\n",
       "      <td>418714</td>\n",
       "    </tr>\n",
       "    <tr>\n",
       "      <th>40258</th>\n",
       "      <td>1104</td>\n",
       "      <td>6</td>\n",
       "      <td>2015-08-15</td>\n",
       "      <td>0</td>\n",
       "      <td>0</td>\n",
       "      <td>0</td>\n",
       "      <td>0</td>\n",
       "      <td>1</td>\n",
       "      <td>33</td>\n",
       "      <td>8</td>\n",
       "      <td>...</td>\n",
       "      <td>0</td>\n",
       "      <td>0</td>\n",
       "      <td>1</td>\n",
       "      <td>1</td>\n",
       "      <td>0</td>\n",
       "      <td>0</td>\n",
       "      <td>0</td>\n",
       "      <td>0</td>\n",
       "      <td>6</td>\n",
       "      <td>459107</td>\n",
       "    </tr>\n",
       "    <tr>\n",
       "      <th>40259</th>\n",
       "      <td>1107</td>\n",
       "      <td>6</td>\n",
       "      <td>2015-08-15</td>\n",
       "      <td>1</td>\n",
       "      <td>0</td>\n",
       "      <td>0</td>\n",
       "      <td>0</td>\n",
       "      <td>1</td>\n",
       "      <td>33</td>\n",
       "      <td>8</td>\n",
       "      <td>...</td>\n",
       "      <td>0</td>\n",
       "      <td>0</td>\n",
       "      <td>0</td>\n",
       "      <td>1</td>\n",
       "      <td>0</td>\n",
       "      <td>0</td>\n",
       "      <td>0</td>\n",
       "      <td>0</td>\n",
       "      <td>155</td>\n",
       "      <td>2510</td>\n",
       "    </tr>\n",
       "    <tr>\n",
       "      <th>40260</th>\n",
       "      <td>1109</td>\n",
       "      <td>6</td>\n",
       "      <td>2015-08-15</td>\n",
       "      <td>0</td>\n",
       "      <td>0</td>\n",
       "      <td>0</td>\n",
       "      <td>0</td>\n",
       "      <td>1</td>\n",
       "      <td>33</td>\n",
       "      <td>8</td>\n",
       "      <td>...</td>\n",
       "      <td>0</td>\n",
       "      <td>1</td>\n",
       "      <td>0</td>\n",
       "      <td>1</td>\n",
       "      <td>0</td>\n",
       "      <td>0</td>\n",
       "      <td>0</td>\n",
       "      <td>0</td>\n",
       "      <td>8</td>\n",
       "      <td>447495</td>\n",
       "    </tr>\n",
       "  </tbody>\n",
       "</table>\n",
       "<p>40261 rows × 29 columns</p>\n",
       "</div>"
      ],
      "text/plain": [
       "       Store  DayOfWeek       Date  Open  Promo  SchoolHoliday  \\\n",
       "0          1          4 2015-09-17     1      1              0   \n",
       "1          1          3 2015-09-16     1      1              0   \n",
       "2          1          2 2015-09-15     1      1              0   \n",
       "3          1          1 2015-09-14     1      1              0   \n",
       "4          1          7 2015-09-13     0      0              0   \n",
       "...      ...        ...        ...   ...    ...            ...   \n",
       "40256   1094          6 2015-08-15     0      0              0   \n",
       "40257   1102          6 2015-08-15     0      0              0   \n",
       "40258   1104          6 2015-08-15     0      0              0   \n",
       "40259   1107          6 2015-08-15     1      0              0   \n",
       "40260   1109          6 2015-08-15     0      0              0   \n",
       "\n",
       "       StateHoliday_0  StateHoliday_a  Week  Month  ...  StoreType_b  \\\n",
       "0                   1               0    38      9  ...            0   \n",
       "1                   1               0    38      9  ...            0   \n",
       "2                   1               0    38      9  ...            0   \n",
       "3                   1               0    38      9  ...            0   \n",
       "4                   1               0    37      9  ...            0   \n",
       "...               ...             ...   ...    ...  ...          ...   \n",
       "40256               0               1    33      8  ...            0   \n",
       "40257               0               1    33      8  ...            0   \n",
       "40258               0               1    33      8  ...            0   \n",
       "40259               0               1    33      8  ...            0   \n",
       "40260               0               1    33      8  ...            0   \n",
       "\n",
       "       StoreType_c  StoreType_d  Assortment_a  Assortment_b  Assortment_c  \\\n",
       "0                1            0             1             0             0   \n",
       "1                1            0             1             0             0   \n",
       "2                1            0             1             0             0   \n",
       "3                1            0             1             0             0   \n",
       "4                1            0             1             0             0   \n",
       "...            ...          ...           ...           ...           ...   \n",
       "40256            0            1             1             0             0   \n",
       "40257            0            0             1             0             0   \n",
       "40258            0            1             1             0             0   \n",
       "40259            0            0             1             0             0   \n",
       "40260            1            0             1             0             0   \n",
       "\n",
       "       StateHoliday_b  StateHoliday_c  Customers   Sales  \n",
       "0                   0               0        532    4970  \n",
       "1                   0               0        504    4854  \n",
       "2                   0               0        560    5559  \n",
       "3                   0               0        661    6702  \n",
       "4                   0               0         -2  444792  \n",
       "...               ...             ...        ...     ...  \n",
       "40256               0               0          6  448408  \n",
       "40257               0               0          5  418714  \n",
       "40258               0               0          6  459107  \n",
       "40259               0               0        155    2510  \n",
       "40260               0               0          8  447495  \n",
       "\n",
       "[40261 rows x 29 columns]"
      ]
     },
     "execution_count": 89,
     "metadata": {},
     "output_type": "execute_result"
    }
   ],
   "source": [
    "df2[\"Sales\"] = y_pred_sales\n",
    "df2"
   ]
  },
  {
   "cell_type": "code",
   "execution_count": 90,
   "id": "4f5d0e30",
   "metadata": {},
   "outputs": [
    {
     "data": {
      "text/plain": [
       "<Axes: xlabel='Sales', ylabel='Count'>"
      ]
     },
     "execution_count": 90,
     "metadata": {},
     "output_type": "execute_result"
    },
    {
     "data": {
      "image/png": "[encoded data removed]",
      "text/plain": [
       "<Figure size 640x480 with 1 Axes>"
      ]
     },
     "metadata": {},
     "output_type": "display_data"
    }
   ],
   "source": [
    "sns.histplot(df2, x=\"Sales\")"
   ]
  },
  {
   "cell_type": "code",
   "execution_count": 91,
   "id": "301da851",
   "metadata": {},
   "outputs": [],
   "source": [
    "df = df[df2.columns]"
   ]
  },
  {
   "cell_type": "code",
   "execution_count": 92,
   "id": "25fe98e6",
   "metadata": {},
   "outputs": [
    {
     "name": "stdout",
     "output_type": "stream",
     "text": [
      "<class 'pandas.core.frame.DataFrame'>\n",
      "Int64Index: 984573 entries, 0 to 1017208\n",
      "Data columns (total 29 columns):\n",
      " #   Column                     Non-Null Count   Dtype         \n",
      "---  ------                     --------------   -----         \n",
      " 0   Store                      984573 non-null  int64         \n",
      " 1   DayOfWeek                  984573 non-null  int64         \n",
      " 2   Date                       984573 non-null  datetime64[ns]\n",
      " 3   Open                       984573 non-null  int64         \n",
      " 4   Promo                      984573 non-null  int64         \n",
      " 5   SchoolHoliday              984573 non-null  int64         \n",
      " 6   StateHoliday_0             984573 non-null  uint8         \n",
      " 7   StateHoliday_a             984573 non-null  uint8         \n",
      " 8   Week                       984573 non-null  UInt32        \n",
      " 9   Month                      984573 non-null  int64         \n",
      " 10  Year                       984573 non-null  UInt32        \n",
      " 11  Promo2                     984573 non-null  int64         \n",
      " 12  is_promo                   984573 non-null  int64         \n",
      " 13  CompetitionDistance        984573 non-null  float64       \n",
      " 14  CompetitionOpenSinceMonth  984573 non-null  float64       \n",
      " 15  CompetitionOpenSinceYear   984573 non-null  float64       \n",
      " 16  Promo2SinceWeek            984573 non-null  float64       \n",
      " 17  Promo2SinceYear            984573 non-null  float64       \n",
      " 18  StoreType_a                984573 non-null  uint8         \n",
      " 19  StoreType_b                984573 non-null  uint8         \n",
      " 20  StoreType_c                984573 non-null  uint8         \n",
      " 21  StoreType_d                984573 non-null  uint8         \n",
      " 22  Assortment_a               984573 non-null  uint8         \n",
      " 23  Assortment_b               984573 non-null  uint8         \n",
      " 24  Assortment_c               984573 non-null  uint8         \n",
      " 25  StateHoliday_b             984573 non-null  uint8         \n",
      " 26  StateHoliday_c             984573 non-null  uint8         \n",
      " 27  Customers                  984573 non-null  int64         \n",
      " 28  Sales                      984573 non-null  int64         \n",
      "dtypes: UInt32(2), datetime64[ns](1), float64(5), int64(10), uint8(11)\n",
      "memory usage: 147.4 MB\n"
     ]
    }
   ],
   "source": [
    "df.info()"
   ]
  },
  {
   "cell_type": "code",
   "execution_count": 93,
   "id": "fe78dad1",
   "metadata": {},
   "outputs": [
    {
     "data": {
      "text/plain": [
       "Store                        0\n",
       "DayOfWeek                    0\n",
       "Date                         0\n",
       "Open                         0\n",
       "Promo                        0\n",
       "SchoolHoliday                0\n",
       "StateHoliday_0               0\n",
       "StateHoliday_a               0\n",
       "Week                         0\n",
       "Month                        0\n",
       "Year                         0\n",
       "Promo2                       0\n",
       "is_promo                     0\n",
       "CompetitionDistance          0\n",
       "CompetitionOpenSinceMonth    0\n",
       "CompetitionOpenSinceYear     0\n",
       "Promo2SinceWeek              0\n",
       "Promo2SinceYear              0\n",
       "StoreType_a                  0\n",
       "StoreType_b                  0\n",
       "StoreType_c                  0\n",
       "StoreType_d                  0\n",
       "Assortment_a                 0\n",
       "Assortment_b                 0\n",
       "Assortment_c                 0\n",
       "StateHoliday_b               0\n",
       "StateHoliday_c               0\n",
       "Customers                    0\n",
       "Sales                        0\n",
       "dtype: int64"
      ]
     },
     "execution_count": 93,
     "metadata": {},
     "output_type": "execute_result"
    }
   ],
   "source": [
    "df2.isna().sum()"
   ]
  },
  {
   "cell_type": "code",
   "execution_count": 94,
   "id": "ad8cfead",
   "metadata": {},
   "outputs": [],
   "source": [
    "df_final = pd.concat([df, df2], ignore_index=True)"
   ]
  },
  {
   "cell_type": "code",
   "execution_count": 95,
   "id": "1b184382",
   "metadata": {},
   "outputs": [
    {
     "data": {
      "text/html": [
       "<div>\n",
       "<style scoped>\n",
       "    .dataframe tbody tr th:only-of-type {\n",
       "        vertical-align: middle;\n",
       "    }\n",
       "\n",
       "    .dataframe tbody tr th {\n",
       "        vertical-align: top;\n",
       "    }\n",
       "\n",
       "    .dataframe thead th {\n",
       "        text-align: right;\n",
       "    }\n",
       "</style>\n",
       "<table border=\"1\" class=\"dataframe\">\n",
       "  <thead>\n",
       "    <tr style=\"text-align: right;\">\n",
       "      <th></th>\n",
       "      <th>Store</th>\n",
       "      <th>DayOfWeek</th>\n",
       "      <th>Date</th>\n",
       "      <th>Open</th>\n",
       "      <th>Promo</th>\n",
       "      <th>SchoolHoliday</th>\n",
       "      <th>StateHoliday_0</th>\n",
       "      <th>StateHoliday_a</th>\n",
       "      <th>Week</th>\n",
       "      <th>Month</th>\n",
       "      <th>...</th>\n",
       "      <th>StoreType_b</th>\n",
       "      <th>StoreType_c</th>\n",
       "      <th>StoreType_d</th>\n",
       "      <th>Assortment_a</th>\n",
       "      <th>Assortment_b</th>\n",
       "      <th>Assortment_c</th>\n",
       "      <th>StateHoliday_b</th>\n",
       "      <th>StateHoliday_c</th>\n",
       "      <th>Customers</th>\n",
       "      <th>Sales</th>\n",
       "    </tr>\n",
       "  </thead>\n",
       "  <tbody>\n",
       "    <tr>\n",
       "      <th>0</th>\n",
       "      <td>1</td>\n",
       "      <td>5</td>\n",
       "      <td>2015-07-31</td>\n",
       "      <td>1</td>\n",
       "      <td>1</td>\n",
       "      <td>1</td>\n",
       "      <td>1</td>\n",
       "      <td>0</td>\n",
       "      <td>31</td>\n",
       "      <td>7</td>\n",
       "      <td>...</td>\n",
       "      <td>0</td>\n",
       "      <td>1</td>\n",
       "      <td>0</td>\n",
       "      <td>1</td>\n",
       "      <td>0</td>\n",
       "      <td>0</td>\n",
       "      <td>0</td>\n",
       "      <td>0</td>\n",
       "      <td>555</td>\n",
       "      <td>5263</td>\n",
       "    </tr>\n",
       "    <tr>\n",
       "      <th>1</th>\n",
       "      <td>1</td>\n",
       "      <td>4</td>\n",
       "      <td>2015-07-30</td>\n",
       "      <td>1</td>\n",
       "      <td>1</td>\n",
       "      <td>1</td>\n",
       "      <td>1</td>\n",
       "      <td>0</td>\n",
       "      <td>31</td>\n",
       "      <td>7</td>\n",
       "      <td>...</td>\n",
       "      <td>0</td>\n",
       "      <td>1</td>\n",
       "      <td>0</td>\n",
       "      <td>1</td>\n",
       "      <td>0</td>\n",
       "      <td>0</td>\n",
       "      <td>0</td>\n",
       "      <td>0</td>\n",
       "      <td>546</td>\n",
       "      <td>5020</td>\n",
       "    </tr>\n",
       "    <tr>\n",
       "      <th>2</th>\n",
       "      <td>1</td>\n",
       "      <td>3</td>\n",
       "      <td>2015-07-29</td>\n",
       "      <td>1</td>\n",
       "      <td>1</td>\n",
       "      <td>1</td>\n",
       "      <td>1</td>\n",
       "      <td>0</td>\n",
       "      <td>31</td>\n",
       "      <td>7</td>\n",
       "      <td>...</td>\n",
       "      <td>0</td>\n",
       "      <td>1</td>\n",
       "      <td>0</td>\n",
       "      <td>1</td>\n",
       "      <td>0</td>\n",
       "      <td>0</td>\n",
       "      <td>0</td>\n",
       "      <td>0</td>\n",
       "      <td>523</td>\n",
       "      <td>4782</td>\n",
       "    </tr>\n",
       "    <tr>\n",
       "      <th>3</th>\n",
       "      <td>1</td>\n",
       "      <td>2</td>\n",
       "      <td>2015-07-28</td>\n",
       "      <td>1</td>\n",
       "      <td>1</td>\n",
       "      <td>1</td>\n",
       "      <td>1</td>\n",
       "      <td>0</td>\n",
       "      <td>31</td>\n",
       "      <td>7</td>\n",
       "      <td>...</td>\n",
       "      <td>0</td>\n",
       "      <td>1</td>\n",
       "      <td>0</td>\n",
       "      <td>1</td>\n",
       "      <td>0</td>\n",
       "      <td>0</td>\n",
       "      <td>0</td>\n",
       "      <td>0</td>\n",
       "      <td>560</td>\n",
       "      <td>5011</td>\n",
       "    </tr>\n",
       "    <tr>\n",
       "      <th>4</th>\n",
       "      <td>1</td>\n",
       "      <td>1</td>\n",
       "      <td>2015-07-27</td>\n",
       "      <td>1</td>\n",
       "      <td>1</td>\n",
       "      <td>1</td>\n",
       "      <td>1</td>\n",
       "      <td>0</td>\n",
       "      <td>31</td>\n",
       "      <td>7</td>\n",
       "      <td>...</td>\n",
       "      <td>0</td>\n",
       "      <td>1</td>\n",
       "      <td>0</td>\n",
       "      <td>1</td>\n",
       "      <td>0</td>\n",
       "      <td>0</td>\n",
       "      <td>0</td>\n",
       "      <td>0</td>\n",
       "      <td>612</td>\n",
       "      <td>6102</td>\n",
       "    </tr>\n",
       "    <tr>\n",
       "      <th>...</th>\n",
       "      <td>...</td>\n",
       "      <td>...</td>\n",
       "      <td>...</td>\n",
       "      <td>...</td>\n",
       "      <td>...</td>\n",
       "      <td>...</td>\n",
       "      <td>...</td>\n",
       "      <td>...</td>\n",
       "      <td>...</td>\n",
       "      <td>...</td>\n",
       "      <td>...</td>\n",
       "      <td>...</td>\n",
       "      <td>...</td>\n",
       "      <td>...</td>\n",
       "      <td>...</td>\n",
       "      <td>...</td>\n",
       "      <td>...</td>\n",
       "      <td>...</td>\n",
       "      <td>...</td>\n",
       "      <td>...</td>\n",
       "      <td>...</td>\n",
       "    </tr>\n",
       "    <tr>\n",
       "      <th>1024829</th>\n",
       "      <td>1094</td>\n",
       "      <td>6</td>\n",
       "      <td>2015-08-15</td>\n",
       "      <td>0</td>\n",
       "      <td>0</td>\n",
       "      <td>0</td>\n",
       "      <td>0</td>\n",
       "      <td>1</td>\n",
       "      <td>33</td>\n",
       "      <td>8</td>\n",
       "      <td>...</td>\n",
       "      <td>0</td>\n",
       "      <td>0</td>\n",
       "      <td>1</td>\n",
       "      <td>1</td>\n",
       "      <td>0</td>\n",
       "      <td>0</td>\n",
       "      <td>0</td>\n",
       "      <td>0</td>\n",
       "      <td>6</td>\n",
       "      <td>448408</td>\n",
       "    </tr>\n",
       "    <tr>\n",
       "      <th>1024830</th>\n",
       "      <td>1102</td>\n",
       "      <td>6</td>\n",
       "      <td>2015-08-15</td>\n",
       "      <td>0</td>\n",
       "      <td>0</td>\n",
       "      <td>0</td>\n",
       "      <td>0</td>\n",
       "      <td>1</td>\n",
       "      <td>33</td>\n",
       "      <td>8</td>\n",
       "      <td>...</td>\n",
       "      <td>0</td>\n",
       "      <td>0</td>\n",
       "      <td>0</td>\n",
       "      <td>1</td>\n",
       "      <td>0</td>\n",
       "      <td>0</td>\n",
       "      <td>0</td>\n",
       "      <td>0</td>\n",
       "      <td>5</td>\n",
       "      <td>418714</td>\n",
       "    </tr>\n",
       "    <tr>\n",
       "      <th>1024831</th>\n",
       "      <td>1104</td>\n",
       "      <td>6</td>\n",
       "      <td>2015-08-15</td>\n",
       "      <td>0</td>\n",
       "      <td>0</td>\n",
       "      <td>0</td>\n",
       "      <td>0</td>\n",
       "      <td>1</td>\n",
       "      <td>33</td>\n",
       "      <td>8</td>\n",
       "      <td>...</td>\n",
       "      <td>0</td>\n",
       "      <td>0</td>\n",
       "      <td>1</td>\n",
       "      <td>1</td>\n",
       "      <td>0</td>\n",
       "      <td>0</td>\n",
       "      <td>0</td>\n",
       "      <td>0</td>\n",
       "      <td>6</td>\n",
       "      <td>459107</td>\n",
       "    </tr>\n",
       "    <tr>\n",
       "      <th>1024832</th>\n",
       "      <td>1107</td>\n",
       "      <td>6</td>\n",
       "      <td>2015-08-15</td>\n",
       "      <td>1</td>\n",
       "      <td>0</td>\n",
       "      <td>0</td>\n",
       "      <td>0</td>\n",
       "      <td>1</td>\n",
       "      <td>33</td>\n",
       "      <td>8</td>\n",
       "      <td>...</td>\n",
       "      <td>0</td>\n",
       "      <td>0</td>\n",
       "      <td>0</td>\n",
       "      <td>1</td>\n",
       "      <td>0</td>\n",
       "      <td>0</td>\n",
       "      <td>0</td>\n",
       "      <td>0</td>\n",
       "      <td>155</td>\n",
       "      <td>2510</td>\n",
       "    </tr>\n",
       "    <tr>\n",
       "      <th>1024833</th>\n",
       "      <td>1109</td>\n",
       "      <td>6</td>\n",
       "      <td>2015-08-15</td>\n",
       "      <td>0</td>\n",
       "      <td>0</td>\n",
       "      <td>0</td>\n",
       "      <td>0</td>\n",
       "      <td>1</td>\n",
       "      <td>33</td>\n",
       "      <td>8</td>\n",
       "      <td>...</td>\n",
       "      <td>0</td>\n",
       "      <td>1</td>\n",
       "      <td>0</td>\n",
       "      <td>1</td>\n",
       "      <td>0</td>\n",
       "      <td>0</td>\n",
       "      <td>0</td>\n",
       "      <td>0</td>\n",
       "      <td>8</td>\n",
       "      <td>447495</td>\n",
       "    </tr>\n",
       "  </tbody>\n",
       "</table>\n",
       "<p>1024834 rows × 29 columns</p>\n",
       "</div>"
      ],
      "text/plain": [
       "         Store  DayOfWeek       Date  Open  Promo  SchoolHoliday  \\\n",
       "0            1          5 2015-07-31     1      1              1   \n",
       "1            1          4 2015-07-30     1      1              1   \n",
       "2            1          3 2015-07-29     1      1              1   \n",
       "3            1          2 2015-07-28     1      1              1   \n",
       "4            1          1 2015-07-27     1      1              1   \n",
       "...        ...        ...        ...   ...    ...            ...   \n",
       "1024829   1094          6 2015-08-15     0      0              0   \n",
       "1024830   1102          6 2015-08-15     0      0              0   \n",
       "1024831   1104          6 2015-08-15     0      0              0   \n",
       "1024832   1107          6 2015-08-15     1      0              0   \n",
       "1024833   1109          6 2015-08-15     0      0              0   \n",
       "\n",
       "         StateHoliday_0  StateHoliday_a  Week  Month  ...  StoreType_b  \\\n",
       "0                     1               0    31      7  ...            0   \n",
       "1                     1               0    31      7  ...            0   \n",
       "2                     1               0    31      7  ...            0   \n",
       "3                     1               0    31      7  ...            0   \n",
       "4                     1               0    31      7  ...            0   \n",
       "...                 ...             ...   ...    ...  ...          ...   \n",
       "1024829               0               1    33      8  ...            0   \n",
       "1024830               0               1    33      8  ...            0   \n",
       "1024831               0               1    33      8  ...            0   \n",
       "1024832               0               1    33      8  ...            0   \n",
       "1024833               0               1    33      8  ...            0   \n",
       "\n",
       "         StoreType_c  StoreType_d  Assortment_a  Assortment_b  Assortment_c  \\\n",
       "0                  1            0             1             0             0   \n",
       "1                  1            0             1             0             0   \n",
       "2                  1            0             1             0             0   \n",
       "3                  1            0             1             0             0   \n",
       "4                  1            0             1             0             0   \n",
       "...              ...          ...           ...           ...           ...   \n",
       "1024829            0            1             1             0             0   \n",
       "1024830            0            0             1             0             0   \n",
       "1024831            0            1             1             0             0   \n",
       "1024832            0            0             1             0             0   \n",
       "1024833            1            0             1             0             0   \n",
       "\n",
       "         StateHoliday_b  StateHoliday_c  Customers   Sales  \n",
       "0                     0               0        555    5263  \n",
       "1                     0               0        546    5020  \n",
       "2                     0               0        523    4782  \n",
       "3                     0               0        560    5011  \n",
       "4                     0               0        612    6102  \n",
       "...                 ...             ...        ...     ...  \n",
       "1024829               0               0          6  448408  \n",
       "1024830               0               0          5  418714  \n",
       "1024831               0               0          6  459107  \n",
       "1024832               0               0        155    2510  \n",
       "1024833               0               0          8  447495  \n",
       "\n",
       "[1024834 rows x 29 columns]"
      ]
     },
     "execution_count": 95,
     "metadata": {},
     "output_type": "execute_result"
    }
   ],
   "source": [
    "df_final"
   ]
  },
  {
   "cell_type": "code",
   "execution_count": 96,
   "id": "6cd5aa5e",
   "metadata": {},
   "outputs": [
    {
     "name": "stdout",
     "output_type": "stream",
     "text": [
      "<class 'pandas.core.frame.DataFrame'>\n",
      "RangeIndex: 1024834 entries, 0 to 1024833\n",
      "Data columns (total 29 columns):\n",
      " #   Column                     Non-Null Count    Dtype         \n",
      "---  ------                     --------------    -----         \n",
      " 0   Store                      1024834 non-null  int64         \n",
      " 1   DayOfWeek                  1024834 non-null  int64         \n",
      " 2   Date                       1024834 non-null  datetime64[ns]\n",
      " 3   Open                       1024834 non-null  int64         \n",
      " 4   Promo                      1024834 non-null  int64         \n",
      " 5   SchoolHoliday              1024834 non-null  int64         \n",
      " 6   StateHoliday_0             1024834 non-null  uint8         \n",
      " 7   StateHoliday_a             1024834 non-null  uint8         \n",
      " 8   Week                       1024834 non-null  UInt32        \n",
      " 9   Month                      1024834 non-null  int64         \n",
      " 10  Year                       1024834 non-null  UInt32        \n",
      " 11  Promo2                     1024834 non-null  int64         \n",
      " 12  is_promo                   1024834 non-null  int64         \n",
      " 13  CompetitionDistance        1024834 non-null  float64       \n",
      " 14  CompetitionOpenSinceMonth  1024834 non-null  float64       \n",
      " 15  CompetitionOpenSinceYear   1024834 non-null  float64       \n",
      " 16  Promo2SinceWeek            1024834 non-null  float64       \n",
      " 17  Promo2SinceYear            1024834 non-null  float64       \n",
      " 18  StoreType_a                1024834 non-null  uint8         \n",
      " 19  StoreType_b                1024834 non-null  uint8         \n",
      " 20  StoreType_c                1024834 non-null  uint8         \n",
      " 21  StoreType_d                1024834 non-null  uint8         \n",
      " 22  Assortment_a               1024834 non-null  uint8         \n",
      " 23  Assortment_b               1024834 non-null  uint8         \n",
      " 24  Assortment_c               1024834 non-null  uint8         \n",
      " 25  StateHoliday_b             1024834 non-null  uint8         \n",
      " 26  StateHoliday_c             1024834 non-null  uint8         \n",
      " 27  Customers                  1024834 non-null  int64         \n",
      " 28  Sales                      1024834 non-null  int64         \n",
      "dtypes: UInt32(2), datetime64[ns](1), float64(5), int64(10), uint8(11)\n",
      "memory usage: 145.6 MB\n"
     ]
    }
   ],
   "source": [
    "df_final.info()"
   ]
  },
  {
   "cell_type": "code",
   "execution_count": 97,
   "id": "62e944d0",
   "metadata": {},
   "outputs": [],
   "source": [
    "# Al visualizar el df en powerbi vi que habia 1 dia en los cuales la tienda estaba cerrada y habia ventas.\n",
    "#Esto es debido a nuestro modelo de prediccion. Por ello pongo a cero las ventas de ese dia.\n",
    "\n",
    "for x in range(df_final.shape[0]):\n",
    "    if df_final[\"Open\"][x] == 0:\n",
    "        df_final.iloc[x, df.columns.get_loc(\"Sales\")] = 0"
   ]
  },
  {
   "cell_type": "code",
   "execution_count": 98,
   "id": "0e64fb3e",
   "metadata": {},
   "outputs": [],
   "source": [
    "df_final.to_csv(\"df_final.csv\")"
   ]
  },
  {
   "cell_type": "markdown",
   "id": "7a1ae6a4",
   "metadata": {},
   "source": [
    "## Lasso"
   ]
  },
  {
   "cell_type": "code",
   "execution_count": 99,
   "id": "0bd5f05b",
   "metadata": {},
   "outputs": [],
   "source": [
    "from sklearn import linear_model\n",
    "from sklearn.metrics import r2_score, mean_absolute_error, mean_squared_error\n",
    "from sklearn.model_selection import train_test_split\n",
    "from sklearn.preprocessing import StandardScaler"
   ]
  },
  {
   "cell_type": "markdown",
   "id": "cf367fdc",
   "metadata": {},
   "source": [
    "#### Predicción del número de consumidores"
   ]
  },
  {
   "cell_type": "code",
   "execution_count": 100,
   "id": "b2f9e7d0",
   "metadata": {},
   "outputs": [],
   "source": [
    "## Separacion de datos\n",
    "\n",
    "x_train, x_test, y_train, y_test = train_test_split(x_train, y_train, test_size=0.2, random_state=1)"
   ]
  },
  {
   "cell_type": "code",
   "execution_count": 101,
   "id": "ff577cf1",
   "metadata": {},
   "outputs": [
    {
     "data": {
      "text/plain": [
       "((787658, 26), (196915, 26), (787658,), (196915,))"
      ]
     },
     "execution_count": 101,
     "metadata": {},
     "output_type": "execute_result"
    }
   ],
   "source": [
    "x_train.shape, x_test.shape, y_train.shape, y_test.shape"
   ]
  },
  {
   "cell_type": "code",
   "execution_count": 102,
   "id": "6d328b6a",
   "metadata": {},
   "outputs": [],
   "source": [
    "lasso = linear_model.Lasso(alpha=1)"
   ]
  },
  {
   "cell_type": "code",
   "execution_count": 103,
   "id": "5c693c67",
   "metadata": {},
   "outputs": [
    {
     "data": {
      "text/html": [
       "<style>#sk-container-id-1 {color: black;background-color: white;}#sk-container-id-1 pre{padding: 0;}#sk-container-id-1 div.sk-toggleable {background-color: white;}#sk-container-id-1 label.sk-toggleable__label {cursor: pointer;display: block;width: 100%;margin-bottom: 0;padding: 0.3em;box-sizing: border-box;text-align: center;}#sk-container-id-1 label.sk-toggleable__label-arrow:before {content: \"▸\";float: left;margin-right: 0.25em;color: #696969;}#sk-container-id-1 label.sk-toggleable__label-arrow:hover:before {color: black;}#sk-container-id-1 div.sk-estimator:hover label.sk-toggleable__label-arrow:before {color: black;}#sk-container-id-1 div.sk-toggleable__content {max-height: 0;max-width: 0;overflow: hidden;text-align: left;background-color: #f0f8ff;}#sk-container-id-1 div.sk-toggleable__content pre {margin: 0.2em;color: black;border-radius: 0.25em;background-color: #f0f8ff;}#sk-container-id-1 input.sk-toggleable__control:checked~div.sk-toggleable__content {max-height: 200px;max-width: 100%;overflow: auto;}#sk-container-id-1 input.sk-toggleable__control:checked~label.sk-toggleable__label-arrow:before {content: \"▾\";}#sk-container-id-1 div.sk-estimator input.sk-toggleable__control:checked~label.sk-toggleable__label {background-color: #d4ebff;}#sk-container-id-1 div.sk-label input.sk-toggleable__control:checked~label.sk-toggleable__label {background-color: #d4ebff;}#sk-container-id-1 input.sk-hidden--visually {border: 0;clip: rect(1px 1px 1px 1px);clip: rect(1px, 1px, 1px, 1px);height: 1px;margin: -1px;overflow: hidden;padding: 0;position: absolute;width: 1px;}#sk-container-id-1 div.sk-estimator {font-family: monospace;background-color: #f0f8ff;border: 1px dotted black;border-radius: 0.25em;box-sizing: border-box;margin-bottom: 0.5em;}#sk-container-id-1 div.sk-estimator:hover {background-color: #d4ebff;}#sk-container-id-1 div.sk-parallel-item::after {content: \"\";width: 100%;border-bottom: 1px solid gray;flex-grow: 1;}#sk-container-id-1 div.sk-label:hover label.sk-toggleable__label {background-color: #d4ebff;}#sk-container-id-1 div.sk-serial::before {content: \"\";position: absolute;border-left: 1px solid gray;box-sizing: border-box;top: 0;bottom: 0;left: 50%;z-index: 0;}#sk-container-id-1 div.sk-serial {display: flex;flex-direction: column;align-items: center;background-color: white;padding-right: 0.2em;padding-left: 0.2em;position: relative;}#sk-container-id-1 div.sk-item {position: relative;z-index: 1;}#sk-container-id-1 div.sk-parallel {display: flex;align-items: stretch;justify-content: center;background-color: white;position: relative;}#sk-container-id-1 div.sk-item::before, #sk-container-id-1 div.sk-parallel-item::before {content: \"\";position: absolute;border-left: 1px solid gray;box-sizing: border-box;top: 0;bottom: 0;left: 50%;z-index: -1;}#sk-container-id-1 div.sk-parallel-item {display: flex;flex-direction: column;z-index: 1;position: relative;background-color: white;}#sk-container-id-1 div.sk-parallel-item:first-child::after {align-self: flex-end;width: 50%;}#sk-container-id-1 div.sk-parallel-item:last-child::after {align-self: flex-start;width: 50%;}#sk-container-id-1 div.sk-parallel-item:only-child::after {width: 0;}#sk-container-id-1 div.sk-dashed-wrapped {border: 1px dashed gray;margin: 0 0.4em 0.5em 0.4em;box-sizing: border-box;padding-bottom: 0.4em;background-color: white;}#sk-container-id-1 div.sk-label label {font-family: monospace;font-weight: bold;display: inline-block;line-height: 1.2em;}#sk-container-id-1 div.sk-label-container {text-align: center;}#sk-container-id-1 div.sk-container {/* jupyter's `normalize.less` sets `[hidden] { display: none; }` but bootstrap.min.css set `[hidden] { display: none !important; }` so we also need the `!important` here to be able to override the default hidden behavior on the sphinx rendered scikit-learn.org. See: https://github.com/scikit-learn/scikit-learn/issues/21755 */display: inline-block !important;position: relative;}#sk-container-id-1 div.sk-text-repr-fallback {display: none;}</style><div id=\"sk-container-id-1\" class=\"sk-top-container\"><div class=\"sk-text-repr-fallback\"><pre>Lasso(alpha=1)</pre><b>In a Jupyter environment, please rerun this cell to show the HTML representation or trust the notebook. <br />On GitHub, the HTML representation is unable to render, please try loading this page with nbviewer.org.</b></div><div class=\"sk-container\" hidden><div class=\"sk-item\"><div class=\"sk-estimator sk-toggleable\"><input class=\"sk-toggleable__control sk-hidden--visually\" id=\"sk-estimator-id-1\" type=\"checkbox\" checked><label for=\"sk-estimator-id-1\" class=\"sk-toggleable__label sk-toggleable__label-arrow\">Lasso</label><div class=\"sk-toggleable__content\"><pre>Lasso(alpha=1)</pre></div></div></div></div></div>"
      ],
      "text/plain": [
       "Lasso(alpha=1)"
      ]
     },
     "execution_count": 103,
     "metadata": {},
     "output_type": "execute_result"
    }
   ],
   "source": [
    "# Creación del modelo\n",
    "lasso.fit(x_train, y_train)"
   ]
  },
  {
   "cell_type": "code",
   "execution_count": 104,
   "id": "e3562b43",
   "metadata": {},
   "outputs": [],
   "source": [
    "y_pred = lasso.predict(x_test)"
   ]
  },
  {
   "cell_type": "code",
   "execution_count": 105,
   "id": "0dfd4a28",
   "metadata": {},
   "outputs": [
    {
     "name": "stdout",
     "output_type": "stream",
     "text": [
      "0.6002578966044481\n",
      "179.7973383613122\n",
      "60775.122188861926\n"
     ]
    }
   ],
   "source": [
    "print(r2_score(y_test,y_pred))\n",
    "print(mean_absolute_error(y_test,y_pred))\n",
    "print(mean_squared_error(y_test,y_pred))"
   ]
  },
  {
   "cell_type": "markdown",
   "id": "43dfe0e1",
   "metadata": {},
   "source": [
    "Con el modelo Lasso obtenemos peores resultados a la hora de predecir los customers"
   ]
  },
  {
   "cell_type": "markdown",
   "id": "dc1b567a",
   "metadata": {},
   "source": [
    "#### Predicción de ventas (Prueba)"
   ]
  },
  {
   "cell_type": "code",
   "execution_count": 106,
   "id": "7cc04b6c",
   "metadata": {},
   "outputs": [],
   "source": [
    "## Separacion de datos\n",
    "\n",
    "x_train, x_test, y_train, y_test = train_test_split(x_train_sales, y_train_sales, test_size=0.2, random_state=1)"
   ]
  },
  {
   "cell_type": "code",
   "execution_count": 107,
   "id": "bc99df0c",
   "metadata": {},
   "outputs": [],
   "source": [
    "lasso = linear_model.Lasso(alpha=1)"
   ]
  },
  {
   "cell_type": "code",
   "execution_count": 108,
   "id": "d668fcec",
   "metadata": {},
   "outputs": [
    {
     "data": {
      "text/html": [
       "<style>#sk-container-id-2 {color: black;background-color: white;}#sk-container-id-2 pre{padding: 0;}#sk-container-id-2 div.sk-toggleable {background-color: white;}#sk-container-id-2 label.sk-toggleable__label {cursor: pointer;display: block;width: 100%;margin-bottom: 0;padding: 0.3em;box-sizing: border-box;text-align: center;}#sk-container-id-2 label.sk-toggleable__label-arrow:before {content: \"▸\";float: left;margin-right: 0.25em;color: #696969;}#sk-container-id-2 label.sk-toggleable__label-arrow:hover:before {color: black;}#sk-container-id-2 div.sk-estimator:hover label.sk-toggleable__label-arrow:before {color: black;}#sk-container-id-2 div.sk-toggleable__content {max-height: 0;max-width: 0;overflow: hidden;text-align: left;background-color: #f0f8ff;}#sk-container-id-2 div.sk-toggleable__content pre {margin: 0.2em;color: black;border-radius: 0.25em;background-color: #f0f8ff;}#sk-container-id-2 input.sk-toggleable__control:checked~div.sk-toggleable__content {max-height: 200px;max-width: 100%;overflow: auto;}#sk-container-id-2 input.sk-toggleable__control:checked~label.sk-toggleable__label-arrow:before {content: \"▾\";}#sk-container-id-2 div.sk-estimator input.sk-toggleable__control:checked~label.sk-toggleable__label {background-color: #d4ebff;}#sk-container-id-2 div.sk-label input.sk-toggleable__control:checked~label.sk-toggleable__label {background-color: #d4ebff;}#sk-container-id-2 input.sk-hidden--visually {border: 0;clip: rect(1px 1px 1px 1px);clip: rect(1px, 1px, 1px, 1px);height: 1px;margin: -1px;overflow: hidden;padding: 0;position: absolute;width: 1px;}#sk-container-id-2 div.sk-estimator {font-family: monospace;background-color: #f0f8ff;border: 1px dotted black;border-radius: 0.25em;box-sizing: border-box;margin-bottom: 0.5em;}#sk-container-id-2 div.sk-estimator:hover {background-color: #d4ebff;}#sk-container-id-2 div.sk-parallel-item::after {content: \"\";width: 100%;border-bottom: 1px solid gray;flex-grow: 1;}#sk-container-id-2 div.sk-label:hover label.sk-toggleable__label {background-color: #d4ebff;}#sk-container-id-2 div.sk-serial::before {content: \"\";position: absolute;border-left: 1px solid gray;box-sizing: border-box;top: 0;bottom: 0;left: 50%;z-index: 0;}#sk-container-id-2 div.sk-serial {display: flex;flex-direction: column;align-items: center;background-color: white;padding-right: 0.2em;padding-left: 0.2em;position: relative;}#sk-container-id-2 div.sk-item {position: relative;z-index: 1;}#sk-container-id-2 div.sk-parallel {display: flex;align-items: stretch;justify-content: center;background-color: white;position: relative;}#sk-container-id-2 div.sk-item::before, #sk-container-id-2 div.sk-parallel-item::before {content: \"\";position: absolute;border-left: 1px solid gray;box-sizing: border-box;top: 0;bottom: 0;left: 50%;z-index: -1;}#sk-container-id-2 div.sk-parallel-item {display: flex;flex-direction: column;z-index: 1;position: relative;background-color: white;}#sk-container-id-2 div.sk-parallel-item:first-child::after {align-self: flex-end;width: 50%;}#sk-container-id-2 div.sk-parallel-item:last-child::after {align-self: flex-start;width: 50%;}#sk-container-id-2 div.sk-parallel-item:only-child::after {width: 0;}#sk-container-id-2 div.sk-dashed-wrapped {border: 1px dashed gray;margin: 0 0.4em 0.5em 0.4em;box-sizing: border-box;padding-bottom: 0.4em;background-color: white;}#sk-container-id-2 div.sk-label label {font-family: monospace;font-weight: bold;display: inline-block;line-height: 1.2em;}#sk-container-id-2 div.sk-label-container {text-align: center;}#sk-container-id-2 div.sk-container {/* jupyter's `normalize.less` sets `[hidden] { display: none; }` but bootstrap.min.css set `[hidden] { display: none !important; }` so we also need the `!important` here to be able to override the default hidden behavior on the sphinx rendered scikit-learn.org. See: https://github.com/scikit-learn/scikit-learn/issues/21755 */display: inline-block !important;position: relative;}#sk-container-id-2 div.sk-text-repr-fallback {display: none;}</style><div id=\"sk-container-id-2\" class=\"sk-top-container\"><div class=\"sk-text-repr-fallback\"><pre>Lasso(alpha=1)</pre><b>In a Jupyter environment, please rerun this cell to show the HTML representation or trust the notebook. <br />On GitHub, the HTML representation is unable to render, please try loading this page with nbviewer.org.</b></div><div class=\"sk-container\" hidden><div class=\"sk-item\"><div class=\"sk-estimator sk-toggleable\"><input class=\"sk-toggleable__control sk-hidden--visually\" id=\"sk-estimator-id-2\" type=\"checkbox\" checked><label for=\"sk-estimator-id-2\" class=\"sk-toggleable__label sk-toggleable__label-arrow\">Lasso</label><div class=\"sk-toggleable__content\"><pre>Lasso(alpha=1)</pre></div></div></div></div></div>"
      ],
      "text/plain": [
       "Lasso(alpha=1)"
      ]
     },
     "execution_count": 108,
     "metadata": {},
     "output_type": "execute_result"
    }
   ],
   "source": [
    "lasso.fit(x_train, y_train)"
   ]
  },
  {
   "cell_type": "code",
   "execution_count": 109,
   "id": "880b789f",
   "metadata": {},
   "outputs": [],
   "source": [
    "y_pred = lasso.predict(x_test)"
   ]
  },
  {
   "cell_type": "code",
   "execution_count": 110,
   "id": "05f30070",
   "metadata": {},
   "outputs": [
    {
     "name": "stdout",
     "output_type": "stream",
     "text": [
      "0.897075627250761\n",
      "845.7190973152708\n",
      "1326797.5037329174\n"
     ]
    }
   ],
   "source": [
    "print(r2_score(y_test,y_pred))\n",
    "print(mean_absolute_error(y_test,y_pred))\n",
    "print(mean_squared_error(y_test,y_pred))"
   ]
  },
  {
   "cell_type": "code",
   "execution_count": 111,
   "id": "19ad6ae7",
   "metadata": {},
   "outputs": [],
   "source": [
    "y_pred = lasso.predict(x_test_sales)"
   ]
  },
  {
   "cell_type": "code",
   "execution_count": 112,
   "id": "358d0c53",
   "metadata": {},
   "outputs": [
    {
     "data": {
      "text/plain": [
       "(5935,)"
      ]
     },
     "execution_count": 112,
     "metadata": {},
     "output_type": "execute_result"
    }
   ],
   "source": [
    "y_pred[y_pred < 0].shape"
   ]
  },
  {
   "cell_type": "code",
   "execution_count": null,
   "id": "7a7b98dc",
   "metadata": {},
   "outputs": [],
   "source": [
    "df_final.to_csv(\"df_final.csv\")"
   ]
  },
  {
   "cell_type": "markdown",
   "id": "c3c6b94d",
   "metadata": {},
   "source": [
    "Nuesto modelo de prediccion lasso nos arroja resultados negativos a la hora de predecir las ventas. Por ello descarto este modelo."
   ]
  },
  {
   "cell_type": "markdown",
   "id": "bd50e2d0",
   "metadata": {},
   "source": [
    "## Random Forest Regressor\n"
   ]
  },
  {
   "cell_type": "code",
   "execution_count": 113,
   "id": "9f52cd06",
   "metadata": {},
   "outputs": [],
   "source": [
    "from sklearn.ensemble import RandomForestRegressor"
   ]
  },
  {
   "cell_type": "code",
   "execution_count": 114,
   "id": "ef19138d",
   "metadata": {},
   "outputs": [
    {
     "data": {
      "text/html": [
       "<style>#sk-container-id-3 {color: black;background-color: white;}#sk-container-id-3 pre{padding: 0;}#sk-container-id-3 div.sk-toggleable {background-color: white;}#sk-container-id-3 label.sk-toggleable__label {cursor: pointer;display: block;width: 100%;margin-bottom: 0;padding: 0.3em;box-sizing: border-box;text-align: center;}#sk-container-id-3 label.sk-toggleable__label-arrow:before {content: \"▸\";float: left;margin-right: 0.25em;color: #696969;}#sk-container-id-3 label.sk-toggleable__label-arrow:hover:before {color: black;}#sk-container-id-3 div.sk-estimator:hover label.sk-toggleable__label-arrow:before {color: black;}#sk-container-id-3 div.sk-toggleable__content {max-height: 0;max-width: 0;overflow: hidden;text-align: left;background-color: #f0f8ff;}#sk-container-id-3 div.sk-toggleable__content pre {margin: 0.2em;color: black;border-radius: 0.25em;background-color: #f0f8ff;}#sk-container-id-3 input.sk-toggleable__control:checked~div.sk-toggleable__content {max-height: 200px;max-width: 100%;overflow: auto;}#sk-container-id-3 input.sk-toggleable__control:checked~label.sk-toggleable__label-arrow:before {content: \"▾\";}#sk-container-id-3 div.sk-estimator input.sk-toggleable__control:checked~label.sk-toggleable__label {background-color: #d4ebff;}#sk-container-id-3 div.sk-label input.sk-toggleable__control:checked~label.sk-toggleable__label {background-color: #d4ebff;}#sk-container-id-3 input.sk-hidden--visually {border: 0;clip: rect(1px 1px 1px 1px);clip: rect(1px, 1px, 1px, 1px);height: 1px;margin: -1px;overflow: hidden;padding: 0;position: absolute;width: 1px;}#sk-container-id-3 div.sk-estimator {font-family: monospace;background-color: #f0f8ff;border: 1px dotted black;border-radius: 0.25em;box-sizing: border-box;margin-bottom: 0.5em;}#sk-container-id-3 div.sk-estimator:hover {background-color: #d4ebff;}#sk-container-id-3 div.sk-parallel-item::after {content: \"\";width: 100%;border-bottom: 1px solid gray;flex-grow: 1;}#sk-container-id-3 div.sk-label:hover label.sk-toggleable__label {background-color: #d4ebff;}#sk-container-id-3 div.sk-serial::before {content: \"\";position: absolute;border-left: 1px solid gray;box-sizing: border-box;top: 0;bottom: 0;left: 50%;z-index: 0;}#sk-container-id-3 div.sk-serial {display: flex;flex-direction: column;align-items: center;background-color: white;padding-right: 0.2em;padding-left: 0.2em;position: relative;}#sk-container-id-3 div.sk-item {position: relative;z-index: 1;}#sk-container-id-3 div.sk-parallel {display: flex;align-items: stretch;justify-content: center;background-color: white;position: relative;}#sk-container-id-3 div.sk-item::before, #sk-container-id-3 div.sk-parallel-item::before {content: \"\";position: absolute;border-left: 1px solid gray;box-sizing: border-box;top: 0;bottom: 0;left: 50%;z-index: -1;}#sk-container-id-3 div.sk-parallel-item {display: flex;flex-direction: column;z-index: 1;position: relative;background-color: white;}#sk-container-id-3 div.sk-parallel-item:first-child::after {align-self: flex-end;width: 50%;}#sk-container-id-3 div.sk-parallel-item:last-child::after {align-self: flex-start;width: 50%;}#sk-container-id-3 div.sk-parallel-item:only-child::after {width: 0;}#sk-container-id-3 div.sk-dashed-wrapped {border: 1px dashed gray;margin: 0 0.4em 0.5em 0.4em;box-sizing: border-box;padding-bottom: 0.4em;background-color: white;}#sk-container-id-3 div.sk-label label {font-family: monospace;font-weight: bold;display: inline-block;line-height: 1.2em;}#sk-container-id-3 div.sk-label-container {text-align: center;}#sk-container-id-3 div.sk-container {/* jupyter's `normalize.less` sets `[hidden] { display: none; }` but bootstrap.min.css set `[hidden] { display: none !important; }` so we also need the `!important` here to be able to override the default hidden behavior on the sphinx rendered scikit-learn.org. See: https://github.com/scikit-learn/scikit-learn/issues/21755 */display: inline-block !important;position: relative;}#sk-container-id-3 div.sk-text-repr-fallback {display: none;}</style><div id=\"sk-container-id-3\" class=\"sk-top-container\"><div class=\"sk-text-repr-fallback\"><pre>RandomForestRegressor(max_depth=17, n_estimators=20, n_jobs=-1, random_state=21)</pre><b>In a Jupyter environment, please rerun this cell to show the HTML representation or trust the notebook. <br />On GitHub, the HTML representation is unable to render, please try loading this page with nbviewer.org.</b></div><div class=\"sk-container\" hidden><div class=\"sk-item\"><div class=\"sk-estimator sk-toggleable\"><input class=\"sk-toggleable__control sk-hidden--visually\" id=\"sk-estimator-id-3\" type=\"checkbox\" checked><label for=\"sk-estimator-id-3\" class=\"sk-toggleable__label sk-toggleable__label-arrow\">RandomForestRegressor</label><div class=\"sk-toggleable__content\"><pre>RandomForestRegressor(max_depth=17, n_estimators=20, n_jobs=-1, random_state=21)</pre></div></div></div></div></div>"
      ],
      "text/plain": [
       "RandomForestRegressor(max_depth=17, n_estimators=20, n_jobs=-1, random_state=21)"
      ]
     },
     "execution_count": 114,
     "metadata": {},
     "output_type": "execute_result"
    }
   ],
   "source": [
    "# Creación del modelo\n",
    "model = RandomForestRegressor(n_estimators=20, max_depth=17,n_jobs=-1, random_state=21)\n",
    "model.fit(x_train, y_train)"
   ]
  },
  {
   "cell_type": "code",
   "execution_count": 115,
   "id": "92cb15d1",
   "metadata": {},
   "outputs": [],
   "source": [
    "y_pred = model.predict(x_test)"
   ]
  },
  {
   "cell_type": "code",
   "execution_count": 116,
   "id": "8734baaf",
   "metadata": {},
   "outputs": [
    {
     "name": "stdout",
     "output_type": "stream",
     "text": [
      "0.9558792802695661\n",
      "494.25750397754575\n",
      "568759.9471105061\n"
     ]
    }
   ],
   "source": [
    "print(r2_score(y_test,y_pred))\n",
    "print(mean_absolute_error(y_test,y_pred))\n",
    "print(mean_squared_error(y_test,y_pred))"
   ]
  },
  {
   "cell_type": "code",
   "execution_count": 117,
   "id": "55e1cf67",
   "metadata": {},
   "outputs": [
    {
     "data": {
      "text/plain": [
       "(34084,)"
      ]
     },
     "execution_count": 117,
     "metadata": {},
     "output_type": "execute_result"
    }
   ],
   "source": [
    "y_pred[y_pred == 0].shape"
   ]
  },
  {
   "cell_type": "code",
   "execution_count": 118,
   "id": "6087b44c",
   "metadata": {},
   "outputs": [],
   "source": [
    "y_pred_final = model.predict(x_test_sales)"
   ]
  },
  {
   "cell_type": "code",
   "execution_count": 119,
   "id": "8b2b74e4",
   "metadata": {},
   "outputs": [],
   "source": [
    "df2[\"Sales\"] = y_pred_final"
   ]
  },
  {
   "cell_type": "code",
   "execution_count": 120,
   "id": "9d6988ab",
   "metadata": {},
   "outputs": [
    {
     "data": {
      "text/plain": [
       "<Axes: xlabel='Sales', ylabel='Count'>"
      ]
     },
     "execution_count": 120,
     "metadata": {},
     "output_type": "execute_result"
    },
    {
     "data": {
      "image/png": "[encoded data removed]",
      "text/plain": [
       "<Figure size 640x480 with 1 Axes>"
      ]
     },
     "metadata": {},
     "output_type": "display_data"
    }
   ],
   "source": [
    "sns.histplot(df2, x=\"Sales\")"
   ]
  },
  {
   "cell_type": "markdown",
   "id": "b5d040d1",
   "metadata": {},
   "source": [
    "Aunque nuestro random forest en las metricas parece que arroja buenos resultados, podemos comprobar en el gráfico superior que no es así. Principalmente por que en los días en los que están las tiendas cerradas, nuestro modelo si predice ventas, cosa que es erronea, de hecho no hay ningun caso en las que nuestro modelo arroje 0 ventas en los días que las tiendas no abren."
   ]
  },
  {
   "cell_type": "markdown",
   "id": "95e8b651",
   "metadata": {},
   "source": [
    "## Regresión lineal"
   ]
  },
  {
   "cell_type": "code",
   "execution_count": 121,
   "id": "5a9a27d7",
   "metadata": {},
   "outputs": [],
   "source": [
    "from sklearn.linear_model import LinearRegression"
   ]
  },
  {
   "cell_type": "code",
   "execution_count": 122,
   "id": "dd515a3e",
   "metadata": {},
   "outputs": [],
   "source": [
    "lr = LinearRegression()"
   ]
  },
  {
   "cell_type": "code",
   "execution_count": 123,
   "id": "fd693f7f",
   "metadata": {},
   "outputs": [
    {
     "data": {
      "text/html": [
       "<style>#sk-container-id-4 {color: black;background-color: white;}#sk-container-id-4 pre{padding: 0;}#sk-container-id-4 div.sk-toggleable {background-color: white;}#sk-container-id-4 label.sk-toggleable__label {cursor: pointer;display: block;width: 100%;margin-bottom: 0;padding: 0.3em;box-sizing: border-box;text-align: center;}#sk-container-id-4 label.sk-toggleable__label-arrow:before {content: \"▸\";float: left;margin-right: 0.25em;color: #696969;}#sk-container-id-4 label.sk-toggleable__label-arrow:hover:before {color: black;}#sk-container-id-4 div.sk-estimator:hover label.sk-toggleable__label-arrow:before {color: black;}#sk-container-id-4 div.sk-toggleable__content {max-height: 0;max-width: 0;overflow: hidden;text-align: left;background-color: #f0f8ff;}#sk-container-id-4 div.sk-toggleable__content pre {margin: 0.2em;color: black;border-radius: 0.25em;background-color: #f0f8ff;}#sk-container-id-4 input.sk-toggleable__control:checked~div.sk-toggleable__content {max-height: 200px;max-width: 100%;overflow: auto;}#sk-container-id-4 input.sk-toggleable__control:checked~label.sk-toggleable__label-arrow:before {content: \"▾\";}#sk-container-id-4 div.sk-estimator input.sk-toggleable__control:checked~label.sk-toggleable__label {background-color: #d4ebff;}#sk-container-id-4 div.sk-label input.sk-toggleable__control:checked~label.sk-toggleable__label {background-color: #d4ebff;}#sk-container-id-4 input.sk-hidden--visually {border: 0;clip: rect(1px 1px 1px 1px);clip: rect(1px, 1px, 1px, 1px);height: 1px;margin: -1px;overflow: hidden;padding: 0;position: absolute;width: 1px;}#sk-container-id-4 div.sk-estimator {font-family: monospace;background-color: #f0f8ff;border: 1px dotted black;border-radius: 0.25em;box-sizing: border-box;margin-bottom: 0.5em;}#sk-container-id-4 div.sk-estimator:hover {background-color: #d4ebff;}#sk-container-id-4 div.sk-parallel-item::after {content: \"\";width: 100%;border-bottom: 1px solid gray;flex-grow: 1;}#sk-container-id-4 div.sk-label:hover label.sk-toggleable__label {background-color: #d4ebff;}#sk-container-id-4 div.sk-serial::before {content: \"\";position: absolute;border-left: 1px solid gray;box-sizing: border-box;top: 0;bottom: 0;left: 50%;z-index: 0;}#sk-container-id-4 div.sk-serial {display: flex;flex-direction: column;align-items: center;background-color: white;padding-right: 0.2em;padding-left: 0.2em;position: relative;}#sk-container-id-4 div.sk-item {position: relative;z-index: 1;}#sk-container-id-4 div.sk-parallel {display: flex;align-items: stretch;justify-content: center;background-color: white;position: relative;}#sk-container-id-4 div.sk-item::before, #sk-container-id-4 div.sk-parallel-item::before {content: \"\";position: absolute;border-left: 1px solid gray;box-sizing: border-box;top: 0;bottom: 0;left: 50%;z-index: -1;}#sk-container-id-4 div.sk-parallel-item {display: flex;flex-direction: column;z-index: 1;position: relative;background-color: white;}#sk-container-id-4 div.sk-parallel-item:first-child::after {align-self: flex-end;width: 50%;}#sk-container-id-4 div.sk-parallel-item:last-child::after {align-self: flex-start;width: 50%;}#sk-container-id-4 div.sk-parallel-item:only-child::after {width: 0;}#sk-container-id-4 div.sk-dashed-wrapped {border: 1px dashed gray;margin: 0 0.4em 0.5em 0.4em;box-sizing: border-box;padding-bottom: 0.4em;background-color: white;}#sk-container-id-4 div.sk-label label {font-family: monospace;font-weight: bold;display: inline-block;line-height: 1.2em;}#sk-container-id-4 div.sk-label-container {text-align: center;}#sk-container-id-4 div.sk-container {/* jupyter's `normalize.less` sets `[hidden] { display: none; }` but bootstrap.min.css set `[hidden] { display: none !important; }` so we also need the `!important` here to be able to override the default hidden behavior on the sphinx rendered scikit-learn.org. See: https://github.com/scikit-learn/scikit-learn/issues/21755 */display: inline-block !important;position: relative;}#sk-container-id-4 div.sk-text-repr-fallback {display: none;}</style><div id=\"sk-container-id-4\" class=\"sk-top-container\"><div class=\"sk-text-repr-fallback\"><pre>LinearRegression()</pre><b>In a Jupyter environment, please rerun this cell to show the HTML representation or trust the notebook. <br />On GitHub, the HTML representation is unable to render, please try loading this page with nbviewer.org.</b></div><div class=\"sk-container\" hidden><div class=\"sk-item\"><div class=\"sk-estimator sk-toggleable\"><input class=\"sk-toggleable__control sk-hidden--visually\" id=\"sk-estimator-id-4\" type=\"checkbox\" checked><label for=\"sk-estimator-id-4\" class=\"sk-toggleable__label sk-toggleable__label-arrow\">LinearRegression</label><div class=\"sk-toggleable__content\"><pre>LinearRegression()</pre></div></div></div></div></div>"
      ],
      "text/plain": [
       "LinearRegression()"
      ]
     },
     "execution_count": 123,
     "metadata": {},
     "output_type": "execute_result"
    }
   ],
   "source": [
    "lr.fit(x_train, y_train)"
   ]
  },
  {
   "cell_type": "code",
   "execution_count": 124,
   "id": "8de0711f",
   "metadata": {},
   "outputs": [],
   "source": [
    "y_pred = lr.predict(x_test)"
   ]
  },
  {
   "cell_type": "code",
   "execution_count": 125,
   "id": "21d321be",
   "metadata": {},
   "outputs": [
    {
     "name": "stdout",
     "output_type": "stream",
     "text": [
      "0.8973842213642896\n",
      "844.443810247091\n",
      "1322819.4187705333\n"
     ]
    }
   ],
   "source": [
    "print(r2_score(y_test,y_pred))\n",
    "print(mean_absolute_error(y_test,y_pred))\n",
    "print(mean_squared_error(y_test,y_pred))"
   ]
  },
  {
   "cell_type": "code",
   "execution_count": 126,
   "id": "fe86284c",
   "metadata": {},
   "outputs": [
    {
     "data": {
      "text/plain": [
       "(20236,)"
      ]
     },
     "execution_count": 126,
     "metadata": {},
     "output_type": "execute_result"
    }
   ],
   "source": [
    "y_pred[y_pred < 0].shape"
   ]
  },
  {
   "cell_type": "code",
   "execution_count": null,
   "id": "382524b7",
   "metadata": {},
   "outputs": [],
   "source": [
    "df_final.to_csv(\"df_final.csv\")"
   ]
  },
  {
   "cell_type": "markdown",
   "id": "67db4421",
   "metadata": {},
   "source": [
    "## Conclusión"
   ]
  },
  {
   "cell_type": "markdown",
   "id": "e84d99ef",
   "metadata": {},
   "source": [
    "Tras analizar todos nuestros datos en Power BI y aplicar varios modelos, el que mejor predice nuestras ventas a futuro es el modelo de regresión lineal de machine learning. Por ello es el que hemos escogido."
   ]
  }
 ],
 "metadata": {
  "kernelspec": {
   "display_name": "Python 3 (ipykernel)",
   "language": "python",
   "name": "python3"
  },
  "language_info": {
   "codemirror_mode": {
    "name": "ipython",
    "version": 3
   },
   "file_extension": ".py",
   "mimetype": "text/x-python",
   "name": "python",
   "nbconvert_exporter": "python",
   "pygments_lexer": "ipython3",
   "version": "3.10.9"
  }
 },
 "nbformat": 4,
 "nbformat_minor": 5
}
