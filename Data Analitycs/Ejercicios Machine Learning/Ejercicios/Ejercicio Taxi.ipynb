{
 "cells": [
  {
   "cell_type": "code",
   "execution_count": 1,
   "id": "d8f53412",
   "metadata": {},
   "outputs": [],
   "source": [
    "from sklearn.model_selection import train_test_split\n",
    "from sklearn.linear_model import LinearRegression\n",
    "from sklearn.metrics import mean_squared_error, r2_score\n",
    "\n",
    "import pandas as pd\n",
    "import numpy as np\n",
    "import matplotlib.pyplot as plt\n",
    "import seaborn as sns"
   ]
  },
  {
   "cell_type": "markdown",
   "id": "3ec282d4",
   "metadata": {},
   "source": [
    "## Carga de datos"
   ]
  },
  {
   "cell_type": "code",
   "execution_count": 2,
   "id": "90114997",
   "metadata": {},
   "outputs": [
    {
     "data": {
      "text/html": [
       "<div>\n",
       "<style scoped>\n",
       "    .dataframe tbody tr th:only-of-type {\n",
       "        vertical-align: middle;\n",
       "    }\n",
       "\n",
       "    .dataframe tbody tr th {\n",
       "        vertical-align: top;\n",
       "    }\n",
       "\n",
       "    .dataframe thead th {\n",
       "        text-align: right;\n",
       "    }\n",
       "</style>\n",
       "<table border=\"1\" class=\"dataframe\">\n",
       "  <thead>\n",
       "    <tr style=\"text-align: right;\">\n",
       "      <th></th>\n",
       "      <th>trip_duration</th>\n",
       "      <th>distance_traveled</th>\n",
       "      <th>num_of_passengers</th>\n",
       "      <th>fare</th>\n",
       "      <th>tip</th>\n",
       "      <th>miscellaneous_fees</th>\n",
       "      <th>total_fare</th>\n",
       "      <th>surge_applied</th>\n",
       "    </tr>\n",
       "  </thead>\n",
       "  <tbody>\n",
       "    <tr>\n",
       "      <th>0</th>\n",
       "      <td>748.0</td>\n",
       "      <td>2.75</td>\n",
       "      <td>1.0</td>\n",
       "      <td>75.00</td>\n",
       "      <td>24</td>\n",
       "      <td>6.300</td>\n",
       "      <td>105.300</td>\n",
       "      <td>0</td>\n",
       "    </tr>\n",
       "    <tr>\n",
       "      <th>1</th>\n",
       "      <td>1187.0</td>\n",
       "      <td>3.43</td>\n",
       "      <td>1.0</td>\n",
       "      <td>105.00</td>\n",
       "      <td>24</td>\n",
       "      <td>13.200</td>\n",
       "      <td>142.200</td>\n",
       "      <td>0</td>\n",
       "    </tr>\n",
       "    <tr>\n",
       "      <th>2</th>\n",
       "      <td>730.0</td>\n",
       "      <td>3.12</td>\n",
       "      <td>1.0</td>\n",
       "      <td>71.25</td>\n",
       "      <td>0</td>\n",
       "      <td>26.625</td>\n",
       "      <td>97.875</td>\n",
       "      <td>1</td>\n",
       "    </tr>\n",
       "    <tr>\n",
       "      <th>3</th>\n",
       "      <td>671.0</td>\n",
       "      <td>5.63</td>\n",
       "      <td>3.0</td>\n",
       "      <td>90.00</td>\n",
       "      <td>0</td>\n",
       "      <td>9.750</td>\n",
       "      <td>99.750</td>\n",
       "      <td>0</td>\n",
       "    </tr>\n",
       "    <tr>\n",
       "      <th>4</th>\n",
       "      <td>329.0</td>\n",
       "      <td>2.09</td>\n",
       "      <td>1.0</td>\n",
       "      <td>45.00</td>\n",
       "      <td>12</td>\n",
       "      <td>13.200</td>\n",
       "      <td>70.200</td>\n",
       "      <td>0</td>\n",
       "    </tr>\n",
       "    <tr>\n",
       "      <th>...</th>\n",
       "      <td>...</td>\n",
       "      <td>...</td>\n",
       "      <td>...</td>\n",
       "      <td>...</td>\n",
       "      <td>...</td>\n",
       "      <td>...</td>\n",
       "      <td>...</td>\n",
       "      <td>...</td>\n",
       "    </tr>\n",
       "    <tr>\n",
       "      <th>209668</th>\n",
       "      <td>1617.0</td>\n",
       "      <td>8.42</td>\n",
       "      <td>1.0</td>\n",
       "      <td>150.00</td>\n",
       "      <td>47</td>\n",
       "      <td>5.800</td>\n",
       "      <td>202.800</td>\n",
       "      <td>0</td>\n",
       "    </tr>\n",
       "    <tr>\n",
       "      <th>209669</th>\n",
       "      <td>438.0</td>\n",
       "      <td>1.29</td>\n",
       "      <td>1.0</td>\n",
       "      <td>48.75</td>\n",
       "      <td>12</td>\n",
       "      <td>34.575</td>\n",
       "      <td>95.325</td>\n",
       "      <td>1</td>\n",
       "    </tr>\n",
       "    <tr>\n",
       "      <th>209670</th>\n",
       "      <td>571.0</td>\n",
       "      <td>2.82</td>\n",
       "      <td>1.0</td>\n",
       "      <td>63.75</td>\n",
       "      <td>0</td>\n",
       "      <td>6.000</td>\n",
       "      <td>69.750</td>\n",
       "      <td>0</td>\n",
       "    </tr>\n",
       "    <tr>\n",
       "      <th>209671</th>\n",
       "      <td>491.0</td>\n",
       "      <td>2.16</td>\n",
       "      <td>1.0</td>\n",
       "      <td>56.25</td>\n",
       "      <td>0</td>\n",
       "      <td>13.500</td>\n",
       "      <td>69.750</td>\n",
       "      <td>0</td>\n",
       "    </tr>\n",
       "    <tr>\n",
       "      <th>209672</th>\n",
       "      <td>3614.0</td>\n",
       "      <td>33.72</td>\n",
       "      <td>1.0</td>\n",
       "      <td>337.50</td>\n",
       "      <td>0</td>\n",
       "      <td>2.250</td>\n",
       "      <td>339.750</td>\n",
       "      <td>0</td>\n",
       "    </tr>\n",
       "  </tbody>\n",
       "</table>\n",
       "<p>209673 rows × 8 columns</p>\n",
       "</div>"
      ],
      "text/plain": [
       "        trip_duration  distance_traveled  num_of_passengers    fare  tip  \\\n",
       "0               748.0               2.75                1.0   75.00   24   \n",
       "1              1187.0               3.43                1.0  105.00   24   \n",
       "2               730.0               3.12                1.0   71.25    0   \n",
       "3               671.0               5.63                3.0   90.00    0   \n",
       "4               329.0               2.09                1.0   45.00   12   \n",
       "...               ...                ...                ...     ...  ...   \n",
       "209668         1617.0               8.42                1.0  150.00   47   \n",
       "209669          438.0               1.29                1.0   48.75   12   \n",
       "209670          571.0               2.82                1.0   63.75    0   \n",
       "209671          491.0               2.16                1.0   56.25    0   \n",
       "209672         3614.0              33.72                1.0  337.50    0   \n",
       "\n",
       "        miscellaneous_fees  total_fare  surge_applied  \n",
       "0                    6.300     105.300              0  \n",
       "1                   13.200     142.200              0  \n",
       "2                   26.625      97.875              1  \n",
       "3                    9.750      99.750              0  \n",
       "4                   13.200      70.200              0  \n",
       "...                    ...         ...            ...  \n",
       "209668               5.800     202.800              0  \n",
       "209669              34.575      95.325              1  \n",
       "209670               6.000      69.750              0  \n",
       "209671              13.500      69.750              0  \n",
       "209672               2.250     339.750              0  \n",
       "\n",
       "[209673 rows x 8 columns]"
      ]
     },
     "execution_count": 2,
     "metadata": {},
     "output_type": "execute_result"
    }
   ],
   "source": [
    "# Cargamos los datos\n",
    "df = pd.read_csv(\"taxi.csv\")\n",
    "df"
   ]
  },
  {
   "cell_type": "markdown",
   "id": "4dff021f",
   "metadata": {},
   "source": [
    "## Estudio de los datos"
   ]
  },
  {
   "cell_type": "markdown",
   "id": "229b5476",
   "metadata": {},
   "source": [
    "### Vamos a comprobar si hay valores nulos o valores atípicos"
   ]
  },
  {
   "cell_type": "code",
   "execution_count": 3,
   "id": "f7d4c831",
   "metadata": {},
   "outputs": [
    {
     "data": {
      "text/plain": [
       "trip_duration         0\n",
       "distance_traveled     0\n",
       "num_of_passengers     0\n",
       "fare                  0\n",
       "tip                   0\n",
       "miscellaneous_fees    0\n",
       "total_fare            0\n",
       "surge_applied         0\n",
       "dtype: int64"
      ]
     },
     "execution_count": 3,
     "metadata": {},
     "output_type": "execute_result"
    }
   ],
   "source": [
    "# Comprobamos si hay valores nulos\n",
    "df.isna().sum()"
   ]
  },
  {
   "cell_type": "code",
   "execution_count": 4,
   "id": "e6c8b60b",
   "metadata": {},
   "outputs": [
    {
     "data": {
      "text/plain": [
       "Text(0, 0.5, 'Distance traveled')"
      ]
     },
     "execution_count": 4,
     "metadata": {},
     "output_type": "execute_result"
    },
    {
     "data": {
      "image/png": "[encoded data removed]",
      "text/plain": [
       "<Figure size 640x480 with 2 Axes>"
      ]
     },
     "metadata": {},
     "output_type": "display_data"
    }
   ],
   "source": [
    "plt.subplot(1,3,1)\n",
    "sns.boxplot(df[\"trip_duration\"])\n",
    "plt.ylabel(\"Trip Duration\")\n",
    "\n",
    "plt.subplot(1,3,3)\n",
    "sns.boxenplot(df[\"distance_traveled\"])\n",
    "plt.ylabel(\"Distance traveled\")\n"
   ]
  },
  {
   "cell_type": "markdown",
   "id": "f487f0d5",
   "metadata": {},
   "source": [
    "En el boxplot superior derecho podemos observar como hay valores atípicos en la columna 'distance_traveled'"
   ]
  },
  {
   "cell_type": "code",
   "execution_count": 5,
   "id": "44a5fead",
   "metadata": {},
   "outputs": [
    {
     "data": {
      "text/plain": [
       "Text(0, 0.5, 'Fare')"
      ]
     },
     "execution_count": 5,
     "metadata": {},
     "output_type": "execute_result"
    },
    {
     "data": {
      "image/png": "[encoded data removed]",
      "text/plain": [
       "<Figure size 640x480 with 2 Axes>"
      ]
     },
     "metadata": {},
     "output_type": "display_data"
    }
   ],
   "source": [
    "plt.subplot(1,3,1)\n",
    "sns.boxplot(df[\"num_of_passengers\"])\n",
    "plt.ylabel(\"Num Passengers\")\n",
    "\n",
    "plt.subplot(1,3,3)\n",
    "sns.boxenplot(df[\"fare\"])\n",
    "plt.ylabel(\"Fare\")"
   ]
  },
  {
   "cell_type": "code",
   "execution_count": 6,
   "id": "35de2723",
   "metadata": {},
   "outputs": [
    {
     "data": {
      "text/plain": [
       "Text(0, 0.5, 'Miscellaneous Fees')"
      ]
     },
     "execution_count": 6,
     "metadata": {},
     "output_type": "execute_result"
    },
    {
     "data": {
      "image/png": "[encoded data removed]",
      "text/plain": [
       "<Figure size 640x480 with 2 Axes>"
      ]
     },
     "metadata": {},
     "output_type": "display_data"
    }
   ],
   "source": [
    "plt.subplot(1,3,1)\n",
    "sns.boxplot(df[\"tip\"])\n",
    "plt.ylabel(\"Tip\")\n",
    "\n",
    "plt.subplot(1,3,3)\n",
    "sns.boxenplot(df[\"miscellaneous_fees\"])\n",
    "plt.ylabel(\"Miscellaneous Fees\")"
   ]
  },
  {
   "cell_type": "code",
   "execution_count": 7,
   "id": "49c07c36",
   "metadata": {},
   "outputs": [
    {
     "data": {
      "text/plain": [
       "1.0    179229\n",
       "2.0     17896\n",
       "5.0      4713\n",
       "6.0      3382\n",
       "3.0      2757\n",
       "4.0       908\n",
       "0.0       753\n",
       "8.0        25\n",
       "9.0         8\n",
       "7.0         2\n",
       "Name: num_of_passengers, dtype: int64"
      ]
     },
     "execution_count": 7,
     "metadata": {},
     "output_type": "execute_result"
    }
   ],
   "source": [
    "df[\"num_of_passengers\"].value_counts()"
   ]
  },
  {
   "cell_type": "code",
   "execution_count": 8,
   "id": "f916ed78",
   "metadata": {},
   "outputs": [
    {
     "data": {
      "text/plain": [
       "197339    57283.91\n",
       "83097      1136.50\n",
       "34734       315.25\n",
       "78367       215.31\n",
       "132372      188.29\n",
       "Name: distance_traveled, dtype: float64"
      ]
     },
     "execution_count": 8,
     "metadata": {},
     "output_type": "execute_result"
    }
   ],
   "source": [
    "df[\"distance_traveled\"].sort_values(ascending=False).head()"
   ]
  },
  {
   "cell_type": "code",
   "execution_count": 9,
   "id": "b0b33e9a",
   "metadata": {},
   "outputs": [
    {
     "data": {
      "text/plain": [
       "53527     86387.0\n",
       "75836     86384.0\n",
       "146430    86363.0\n",
       "92970     86345.0\n",
       "206451    86326.0\n",
       "Name: trip_duration, dtype: float64"
      ]
     },
     "execution_count": 9,
     "metadata": {},
     "output_type": "execute_result"
    }
   ],
   "source": [
    "df[\"trip_duration\"].sort_values(ascending=False).head()"
   ]
  },
  {
   "cell_type": "code",
   "execution_count": 10,
   "id": "6b748173",
   "metadata": {},
   "outputs": [
    {
     "data": {
      "text/html": [
       "<div>\n",
       "<style scoped>\n",
       "    .dataframe tbody tr th:only-of-type {\n",
       "        vertical-align: middle;\n",
       "    }\n",
       "\n",
       "    .dataframe tbody tr th {\n",
       "        vertical-align: top;\n",
       "    }\n",
       "\n",
       "    .dataframe thead th {\n",
       "        text-align: right;\n",
       "    }\n",
       "</style>\n",
       "<table border=\"1\" class=\"dataframe\">\n",
       "  <thead>\n",
       "    <tr style=\"text-align: right;\">\n",
       "      <th></th>\n",
       "      <th>trip_duration</th>\n",
       "      <th>distance_traveled</th>\n",
       "      <th>num_of_passengers</th>\n",
       "      <th>fare</th>\n",
       "      <th>tip</th>\n",
       "      <th>miscellaneous_fees</th>\n",
       "      <th>total_fare</th>\n",
       "      <th>surge_applied</th>\n",
       "    </tr>\n",
       "  </thead>\n",
       "  <tbody>\n",
       "    <tr>\n",
       "      <th>197339</th>\n",
       "      <td>1734.0</td>\n",
       "      <td>57283.91</td>\n",
       "      <td>1.0</td>\n",
       "      <td>187.125</td>\n",
       "      <td>20</td>\n",
       "      <td>50.875</td>\n",
       "      <td>258.0</td>\n",
       "      <td>0</td>\n",
       "    </tr>\n",
       "  </tbody>\n",
       "</table>\n",
       "</div>"
      ],
      "text/plain": [
       "        trip_duration  distance_traveled  num_of_passengers     fare  tip  \\\n",
       "197339         1734.0           57283.91                1.0  187.125   20   \n",
       "\n",
       "        miscellaneous_fees  total_fare  surge_applied  \n",
       "197339              50.875       258.0              0  "
      ]
     },
     "execution_count": 10,
     "metadata": {},
     "output_type": "execute_result"
    }
   ],
   "source": [
    "df[df.index == 197339]\n"
   ]
  },
  {
   "cell_type": "code",
   "execution_count": 11,
   "id": "ab5a6de1",
   "metadata": {},
   "outputs": [
    {
     "data": {
      "text/html": [
       "<div>\n",
       "<style scoped>\n",
       "    .dataframe tbody tr th:only-of-type {\n",
       "        vertical-align: middle;\n",
       "    }\n",
       "\n",
       "    .dataframe tbody tr th {\n",
       "        vertical-align: top;\n",
       "    }\n",
       "\n",
       "    .dataframe thead th {\n",
       "        text-align: right;\n",
       "    }\n",
       "</style>\n",
       "<table border=\"1\" class=\"dataframe\">\n",
       "  <thead>\n",
       "    <tr style=\"text-align: right;\">\n",
       "      <th></th>\n",
       "      <th>trip_duration</th>\n",
       "      <th>distance_traveled</th>\n",
       "      <th>num_of_passengers</th>\n",
       "      <th>fare</th>\n",
       "      <th>tip</th>\n",
       "      <th>miscellaneous_fees</th>\n",
       "      <th>total_fare</th>\n",
       "      <th>surge_applied</th>\n",
       "    </tr>\n",
       "  </thead>\n",
       "  <tbody>\n",
       "    <tr>\n",
       "      <th>83097</th>\n",
       "      <td>486.0</td>\n",
       "      <td>1136.5</td>\n",
       "      <td>1.0</td>\n",
       "      <td>61.95</td>\n",
       "      <td>0</td>\n",
       "      <td>2.25</td>\n",
       "      <td>64.2</td>\n",
       "      <td>0</td>\n",
       "    </tr>\n",
       "  </tbody>\n",
       "</table>\n",
       "</div>"
      ],
      "text/plain": [
       "       trip_duration  distance_traveled  num_of_passengers   fare  tip  \\\n",
       "83097          486.0             1136.5                1.0  61.95    0   \n",
       "\n",
       "       miscellaneous_fees  total_fare  surge_applied  \n",
       "83097                2.25        64.2              0  "
      ]
     },
     "execution_count": 11,
     "metadata": {},
     "output_type": "execute_result"
    }
   ],
   "source": [
    "df[df.index == 83097]"
   ]
  },
  {
   "cell_type": "code",
   "execution_count": 12,
   "id": "1ebf520f",
   "metadata": {},
   "outputs": [],
   "source": [
    "# En la columna \"distance_traveled\" tenemos dos valores muy superiores que no se corresponde con el tiempo que ha tardado en la columna\n",
    "# de \"trip_duration\" a no ser que viajase en un cohete jaja. Por lo tanto procedo a eliminar ese registro.\n",
    "_ = df[\"distance_traveled\"].sort_values(ascending=False).head(2).index\n",
    "df = df.drop(_, axis=0)"
   ]
  },
  {
   "cell_type": "code",
   "execution_count": 13,
   "id": "c07b53fd",
   "metadata": {},
   "outputs": [],
   "source": [
    "# Reordenamos el orden de las columnas para mostrar correctamente un grafico de correlacion\n",
    "df = df.reindex(columns=[\"trip_duration\", \"distance_traveled\", \"num_of_passengers\", \"fare\", \"tip\", \"miscellaneous_fees\",\"surge_applied\", \"total_fare\"])"
   ]
  },
  {
   "cell_type": "code",
   "execution_count": 14,
   "id": "d16c7efd",
   "metadata": {},
   "outputs": [
    {
     "data": {
      "text/plain": [
       "<Axes: >"
      ]
     },
     "execution_count": 14,
     "metadata": {},
     "output_type": "execute_result"
    },
    {
     "data": {
      "image/png": "[encoded data removed]",
      "text/plain": [
       "<Figure size 1000x600 with 2 Axes>"
      ]
     },
     "metadata": {},
     "output_type": "display_data"
    }
   ],
   "source": [
    "corr = df.corr()\n",
    "\n",
    "plt.subplots(figsize=(10,6))\n",
    "sns.heatmap(corr, cmap=\"Blues\", square=True)"
   ]
  },
  {
   "cell_type": "markdown",
   "id": "2d1501b4",
   "metadata": {},
   "source": [
    "## Seleccion de datos"
   ]
  },
  {
   "cell_type": "code",
   "execution_count": 15,
   "id": "7bc66572",
   "metadata": {},
   "outputs": [],
   "source": [
    "x = df[[\"fare\", \"distance_traveled\", \"tip\", \"miscellaneous_fees\"]]\n",
    "y = df[\"total_fare\"]"
   ]
  },
  {
   "cell_type": "markdown",
   "id": "7fce0e6b",
   "metadata": {},
   "source": [
    "Tras probar con diferentes variables, las que he seleccionado son las que mejor precisión me han dado a la hora de predecir futuros resultados.\n",
    "Por ejemplo si quito la variable 'miscellaneous_fees', la precisión baja hasta un 97% que está muy bien pero si la añado consigo un 100% de precisión."
   ]
  },
  {
   "cell_type": "markdown",
   "id": "c2a0a993",
   "metadata": {},
   "source": [
    "## Division del conjunto de datos"
   ]
  },
  {
   "cell_type": "code",
   "execution_count": 16,
   "id": "baeb2213",
   "metadata": {},
   "outputs": [],
   "source": [
    "# #Conjunto de entrenamiento, conjunto de validacion\n",
    "x_train, x_val, y_train, y_val = train_test_split(x, y, test_size=0.05, random_state=1)\n",
    "\n",
    "# Conjunto de entrenamiento, conjunto de testeo\n",
    "x_train, x_test, y_train, y_test = train_test_split(x_train, y_train, test_size=0.05, random_state=1)"
   ]
  },
  {
   "cell_type": "code",
   "execution_count": 17,
   "id": "f01da2c0",
   "metadata": {},
   "outputs": [
    {
     "data": {
      "text/plain": [
       "(189227, 4)"
      ]
     },
     "execution_count": 17,
     "metadata": {},
     "output_type": "execute_result"
    }
   ],
   "source": [
    "x_train.shape"
   ]
  },
  {
   "cell_type": "code",
   "execution_count": 18,
   "id": "690ac567",
   "metadata": {},
   "outputs": [
    {
     "data": {
      "text/plain": [
       "(189227,)"
      ]
     },
     "execution_count": 18,
     "metadata": {},
     "output_type": "execute_result"
    }
   ],
   "source": [
    "y_train.shape"
   ]
  },
  {
   "cell_type": "code",
   "execution_count": 19,
   "id": "5e318834",
   "metadata": {},
   "outputs": [
    {
     "data": {
      "text/plain": [
       "(10484, 4)"
      ]
     },
     "execution_count": 19,
     "metadata": {},
     "output_type": "execute_result"
    }
   ],
   "source": [
    "x_val.shape"
   ]
  },
  {
   "cell_type": "markdown",
   "id": "507e7d80",
   "metadata": {},
   "source": [
    "## Creacion del modelo de regresion lineal"
   ]
  },
  {
   "cell_type": "code",
   "execution_count": 20,
   "id": "680335f4",
   "metadata": {},
   "outputs": [
    {
     "data": {
      "text/html": [
       "<style>#sk-container-id-1 {color: black;background-color: white;}#sk-container-id-1 pre{padding: 0;}#sk-container-id-1 div.sk-toggleable {background-color: white;}#sk-container-id-1 label.sk-toggleable__label {cursor: pointer;display: block;width: 100%;margin-bottom: 0;padding: 0.3em;box-sizing: border-box;text-align: center;}#sk-container-id-1 label.sk-toggleable__label-arrow:before {content: \"▸\";float: left;margin-right: 0.25em;color: #696969;}#sk-container-id-1 label.sk-toggleable__label-arrow:hover:before {color: black;}#sk-container-id-1 div.sk-estimator:hover label.sk-toggleable__label-arrow:before {color: black;}#sk-container-id-1 div.sk-toggleable__content {max-height: 0;max-width: 0;overflow: hidden;text-align: left;background-color: #f0f8ff;}#sk-container-id-1 div.sk-toggleable__content pre {margin: 0.2em;color: black;border-radius: 0.25em;background-color: #f0f8ff;}#sk-container-id-1 input.sk-toggleable__control:checked~div.sk-toggleable__content {max-height: 200px;max-width: 100%;overflow: auto;}#sk-container-id-1 input.sk-toggleable__control:checked~label.sk-toggleable__label-arrow:before {content: \"▾\";}#sk-container-id-1 div.sk-estimator input.sk-toggleable__control:checked~label.sk-toggleable__label {background-color: #d4ebff;}#sk-container-id-1 div.sk-label input.sk-toggleable__control:checked~label.sk-toggleable__label {background-color: #d4ebff;}#sk-container-id-1 input.sk-hidden--visually {border: 0;clip: rect(1px 1px 1px 1px);clip: rect(1px, 1px, 1px, 1px);height: 1px;margin: -1px;overflow: hidden;padding: 0;position: absolute;width: 1px;}#sk-container-id-1 div.sk-estimator {font-family: monospace;background-color: #f0f8ff;border: 1px dotted black;border-radius: 0.25em;box-sizing: border-box;margin-bottom: 0.5em;}#sk-container-id-1 div.sk-estimator:hover {background-color: #d4ebff;}#sk-container-id-1 div.sk-parallel-item::after {content: \"\";width: 100%;border-bottom: 1px solid gray;flex-grow: 1;}#sk-container-id-1 div.sk-label:hover label.sk-toggleable__label {background-color: #d4ebff;}#sk-container-id-1 div.sk-serial::before {content: \"\";position: absolute;border-left: 1px solid gray;box-sizing: border-box;top: 0;bottom: 0;left: 50%;z-index: 0;}#sk-container-id-1 div.sk-serial {display: flex;flex-direction: column;align-items: center;background-color: white;padding-right: 0.2em;padding-left: 0.2em;position: relative;}#sk-container-id-1 div.sk-item {position: relative;z-index: 1;}#sk-container-id-1 div.sk-parallel {display: flex;align-items: stretch;justify-content: center;background-color: white;position: relative;}#sk-container-id-1 div.sk-item::before, #sk-container-id-1 div.sk-parallel-item::before {content: \"\";position: absolute;border-left: 1px solid gray;box-sizing: border-box;top: 0;bottom: 0;left: 50%;z-index: -1;}#sk-container-id-1 div.sk-parallel-item {display: flex;flex-direction: column;z-index: 1;position: relative;background-color: white;}#sk-container-id-1 div.sk-parallel-item:first-child::after {align-self: flex-end;width: 50%;}#sk-container-id-1 div.sk-parallel-item:last-child::after {align-self: flex-start;width: 50%;}#sk-container-id-1 div.sk-parallel-item:only-child::after {width: 0;}#sk-container-id-1 div.sk-dashed-wrapped {border: 1px dashed gray;margin: 0 0.4em 0.5em 0.4em;box-sizing: border-box;padding-bottom: 0.4em;background-color: white;}#sk-container-id-1 div.sk-label label {font-family: monospace;font-weight: bold;display: inline-block;line-height: 1.2em;}#sk-container-id-1 div.sk-label-container {text-align: center;}#sk-container-id-1 div.sk-container {/* jupyter's `normalize.less` sets `[hidden] { display: none; }` but bootstrap.min.css set `[hidden] { display: none !important; }` so we also need the `!important` here to be able to override the default hidden behavior on the sphinx rendered scikit-learn.org. See: https://github.com/scikit-learn/scikit-learn/issues/21755 */display: inline-block !important;position: relative;}#sk-container-id-1 div.sk-text-repr-fallback {display: none;}</style><div id=\"sk-container-id-1\" class=\"sk-top-container\"><div class=\"sk-text-repr-fallback\"><pre>LinearRegression()</pre><b>In a Jupyter environment, please rerun this cell to show the HTML representation or trust the notebook. <br />On GitHub, the HTML representation is unable to render, please try loading this page with nbviewer.org.</b></div><div class=\"sk-container\" hidden><div class=\"sk-item\"><div class=\"sk-estimator sk-toggleable\"><input class=\"sk-toggleable__control sk-hidden--visually\" id=\"sk-estimator-id-1\" type=\"checkbox\" checked><label for=\"sk-estimator-id-1\" class=\"sk-toggleable__label sk-toggleable__label-arrow\">LinearRegression</label><div class=\"sk-toggleable__content\"><pre>LinearRegression()</pre></div></div></div></div></div>"
      ],
      "text/plain": [
       "LinearRegression()"
      ]
     },
     "execution_count": 20,
     "metadata": {},
     "output_type": "execute_result"
    }
   ],
   "source": [
    "# Vamos a utliziar para este ejrrcicio el modelo de regresión lineal.\n",
    "# Creamos el modelo y lo entrenamos con las variables de entrenamiento\n",
    "lr = LinearRegression()\n",
    "lr.fit(x_train, y_train)"
   ]
  },
  {
   "cell_type": "markdown",
   "id": "eaceb0af",
   "metadata": {},
   "source": [
    "### Prediccion del conjunto de validacion"
   ]
  },
  {
   "cell_type": "code",
   "execution_count": 21,
   "id": "858aa49e",
   "metadata": {},
   "outputs": [],
   "source": [
    "# Prediccion de las variables de validación.\n",
    "y_pred = lr.predict(x_val)"
   ]
  },
  {
   "cell_type": "code",
   "execution_count": 22,
   "id": "a99f6331",
   "metadata": {},
   "outputs": [
    {
     "name": "stdout",
     "output_type": "stream",
     "text": [
      "Error cuadratico:  0.0\n",
      "Coeficiente de determinacion:  1.0\n"
     ]
    }
   ],
   "source": [
    "# Metricas\n",
    "print(\"Error cuadratico: \", round(np.sqrt(mean_squared_error(y_val, y_pred)),5))\n",
    "print(\"Coeficiente de determinacion: \", round(r2_score(y_val, y_pred),2))"
   ]
  },
  {
   "cell_type": "markdown",
   "id": "067b0d88",
   "metadata": {},
   "source": [
    "Como podemos observar ya obtenemos un coeficiente de dereminación igual a 1, esto quiere decir que nuestro modelo de regresión tiene una precisión del 100% y a la hora de realizar futuras predicciones nos dará el resultado exacto y por ende nuestro error cuadrático es de 0, es decir, no hay diferencia entre la variable real y la que queremos predecir."
   ]
  },
  {
   "cell_type": "markdown",
   "id": "604d96fa",
   "metadata": {},
   "source": [
    "### Prediccion de datos futuros"
   ]
  },
  {
   "cell_type": "code",
   "execution_count": 23,
   "id": "5f200586",
   "metadata": {},
   "outputs": [],
   "source": [
    "# Vamos a predecir los valores utilizando la variable x_test.\n",
    "y_pred = lr.predict(x_test)"
   ]
  },
  {
   "cell_type": "code",
   "execution_count": 24,
   "id": "8d96276a",
   "metadata": {},
   "outputs": [
    {
     "name": "stdout",
     "output_type": "stream",
     "text": [
      "Error cuadratico:  0.0\n",
      "Coeficiente de determinacion:  1.0\n"
     ]
    }
   ],
   "source": [
    "# Metricas\n",
    "print(\"Error cuadratico: \", round(np.sqrt(mean_squared_error(y_test, y_pred)),5))\n",
    "print(\"Coeficiente de determinacion: \", round(r2_score(y_test, y_pred),2))"
   ]
  },
  {
   "cell_type": "markdown",
   "id": "e7a3a139",
   "metadata": {},
   "source": [
    "## Conclusion"
   ]
  },
  {
   "cell_type": "markdown",
   "id": "964fee6d",
   "metadata": {},
   "source": [
    "El mejor resutltado obtenido ha sido de un 100% de coeficiente de determinacion y el error cuadrático es de 0.\n",
    "\n",
    "Para obtener ese resultado hemos tenido que utilizar las columnas que aparecen en nuestra variable X.\n",
    "Por lo tanto si queremos predecir futuros resultados solo con esas 4 variables sabemos que si la limpieza de datos se realiza de manera correcta, los resultados predichos no tendrán varianza, osea el valor real será igual al valor predicho."
   ]
  },
  {
   "cell_type": "code",
   "execution_count": null,
   "id": "55f875d6",
   "metadata": {},
   "outputs": [],
   "source": []
  }
 ],
 "metadata": {
  "kernelspec": {
   "display_name": "Python 3 (ipykernel)",
   "language": "python",
   "name": "python3"
  },
  "language_info": {
   "codemirror_mode": {
    "name": "ipython",
    "version": 3
   },
   "file_extension": ".py",
   "mimetype": "text/x-python",
   "name": "python",
   "nbconvert_exporter": "python",
   "pygments_lexer": "ipython3",
   "version": "3.10.9"
  }
 },
 "nbformat": 4,
 "nbformat_minor": 5
}
